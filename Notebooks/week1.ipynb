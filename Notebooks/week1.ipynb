{
 "cells": [
  {
   "cell_type": "code",
   "execution_count": 1,
   "metadata": {},
   "outputs": [],
   "source": [
    "import pandas as pd\n",
    "import numpy as np\n",
    "import matplotlib.pyplot as plt\n",
    "import seaborn as sns"
   ]
  },
  {
   "cell_type": "code",
   "execution_count": 2,
   "metadata": {},
   "outputs": [
    {
     "data": {
      "application/vnd.microsoft.datawrangler.viewer.v0+json": {
       "columns": [
        {
         "name": "index",
         "rawType": "int64",
         "type": "integer"
        },
        {
         "name": "Item_Identifier",
         "rawType": "object",
         "type": "string"
        },
        {
         "name": "Item_Weight",
         "rawType": "float64",
         "type": "float"
        },
        {
         "name": "Item_Fat_Content",
         "rawType": "object",
         "type": "string"
        },
        {
         "name": "Item_Visibility",
         "rawType": "float64",
         "type": "float"
        },
        {
         "name": "Item_Type",
         "rawType": "object",
         "type": "string"
        },
        {
         "name": "Item_MRP",
         "rawType": "float64",
         "type": "float"
        },
        {
         "name": "Outlet_Identifier",
         "rawType": "object",
         "type": "string"
        },
        {
         "name": "Outlet_Establishment_Year",
         "rawType": "int64",
         "type": "integer"
        },
        {
         "name": "Outlet_Size",
         "rawType": "object",
         "type": "unknown"
        },
        {
         "name": "Outlet_Location_Type",
         "rawType": "object",
         "type": "string"
        },
        {
         "name": "Outlet_Type",
         "rawType": "object",
         "type": "string"
        },
        {
         "name": "Item_Outlet_Sales",
         "rawType": "float64",
         "type": "float"
        }
       ],
       "ref": "2330b907-a613-4348-bd5f-8d849825715f",
       "rows": [
        [
         "0",
         "FDA15",
         "9.3",
         "Low Fat",
         "0.016047301",
         "Dairy",
         "249.8092",
         "OUT049",
         "1999",
         "Medium",
         "Tier 1",
         "Supermarket Type1",
         "3735.138"
        ],
        [
         "1",
         "DRC01",
         "5.92",
         "Regular",
         "0.019278216",
         "Soft Drinks",
         "48.2692",
         "OUT018",
         "2009",
         "Medium",
         "Tier 3",
         "Supermarket Type2",
         "443.4228"
        ],
        [
         "2",
         "FDN15",
         "17.5",
         "Low Fat",
         "0.016760075",
         "Meat",
         "141.618",
         "OUT049",
         "1999",
         "Medium",
         "Tier 1",
         "Supermarket Type1",
         "2097.27"
        ],
        [
         "3",
         "FDX07",
         "19.2",
         "Regular",
         "0.0",
         "Fruits and Vegetables",
         "182.095",
         "OUT010",
         "1998",
         null,
         "Tier 3",
         "Grocery Store",
         "732.38"
        ],
        [
         "4",
         "NCD19",
         "8.93",
         "Low Fat",
         "0.0",
         "Household",
         "53.8614",
         "OUT013",
         "1987",
         "High",
         "Tier 3",
         "Supermarket Type1",
         "994.7052"
        ]
       ],
       "shape": {
        "columns": 12,
        "rows": 5
       }
      },
      "text/html": [
       "<div>\n",
       "<style scoped>\n",
       "    .dataframe tbody tr th:only-of-type {\n",
       "        vertical-align: middle;\n",
       "    }\n",
       "\n",
       "    .dataframe tbody tr th {\n",
       "        vertical-align: top;\n",
       "    }\n",
       "\n",
       "    .dataframe thead th {\n",
       "        text-align: right;\n",
       "    }\n",
       "</style>\n",
       "<table border=\"1\" class=\"dataframe\">\n",
       "  <thead>\n",
       "    <tr style=\"text-align: right;\">\n",
       "      <th></th>\n",
       "      <th>Item_Identifier</th>\n",
       "      <th>Item_Weight</th>\n",
       "      <th>Item_Fat_Content</th>\n",
       "      <th>Item_Visibility</th>\n",
       "      <th>Item_Type</th>\n",
       "      <th>Item_MRP</th>\n",
       "      <th>Outlet_Identifier</th>\n",
       "      <th>Outlet_Establishment_Year</th>\n",
       "      <th>Outlet_Size</th>\n",
       "      <th>Outlet_Location_Type</th>\n",
       "      <th>Outlet_Type</th>\n",
       "      <th>Item_Outlet_Sales</th>\n",
       "    </tr>\n",
       "  </thead>\n",
       "  <tbody>\n",
       "    <tr>\n",
       "      <th>0</th>\n",
       "      <td>FDA15</td>\n",
       "      <td>9.30</td>\n",
       "      <td>Low Fat</td>\n",
       "      <td>0.016047</td>\n",
       "      <td>Dairy</td>\n",
       "      <td>249.8092</td>\n",
       "      <td>OUT049</td>\n",
       "      <td>1999</td>\n",
       "      <td>Medium</td>\n",
       "      <td>Tier 1</td>\n",
       "      <td>Supermarket Type1</td>\n",
       "      <td>3735.1380</td>\n",
       "    </tr>\n",
       "    <tr>\n",
       "      <th>1</th>\n",
       "      <td>DRC01</td>\n",
       "      <td>5.92</td>\n",
       "      <td>Regular</td>\n",
       "      <td>0.019278</td>\n",
       "      <td>Soft Drinks</td>\n",
       "      <td>48.2692</td>\n",
       "      <td>OUT018</td>\n",
       "      <td>2009</td>\n",
       "      <td>Medium</td>\n",
       "      <td>Tier 3</td>\n",
       "      <td>Supermarket Type2</td>\n",
       "      <td>443.4228</td>\n",
       "    </tr>\n",
       "    <tr>\n",
       "      <th>2</th>\n",
       "      <td>FDN15</td>\n",
       "      <td>17.50</td>\n",
       "      <td>Low Fat</td>\n",
       "      <td>0.016760</td>\n",
       "      <td>Meat</td>\n",
       "      <td>141.6180</td>\n",
       "      <td>OUT049</td>\n",
       "      <td>1999</td>\n",
       "      <td>Medium</td>\n",
       "      <td>Tier 1</td>\n",
       "      <td>Supermarket Type1</td>\n",
       "      <td>2097.2700</td>\n",
       "    </tr>\n",
       "    <tr>\n",
       "      <th>3</th>\n",
       "      <td>FDX07</td>\n",
       "      <td>19.20</td>\n",
       "      <td>Regular</td>\n",
       "      <td>0.000000</td>\n",
       "      <td>Fruits and Vegetables</td>\n",
       "      <td>182.0950</td>\n",
       "      <td>OUT010</td>\n",
       "      <td>1998</td>\n",
       "      <td>NaN</td>\n",
       "      <td>Tier 3</td>\n",
       "      <td>Grocery Store</td>\n",
       "      <td>732.3800</td>\n",
       "    </tr>\n",
       "    <tr>\n",
       "      <th>4</th>\n",
       "      <td>NCD19</td>\n",
       "      <td>8.93</td>\n",
       "      <td>Low Fat</td>\n",
       "      <td>0.000000</td>\n",
       "      <td>Household</td>\n",
       "      <td>53.8614</td>\n",
       "      <td>OUT013</td>\n",
       "      <td>1987</td>\n",
       "      <td>High</td>\n",
       "      <td>Tier 3</td>\n",
       "      <td>Supermarket Type1</td>\n",
       "      <td>994.7052</td>\n",
       "    </tr>\n",
       "  </tbody>\n",
       "</table>\n",
       "</div>"
      ],
      "text/plain": [
       "  Item_Identifier  Item_Weight Item_Fat_Content  Item_Visibility  \\\n",
       "0           FDA15         9.30          Low Fat         0.016047   \n",
       "1           DRC01         5.92          Regular         0.019278   \n",
       "2           FDN15        17.50          Low Fat         0.016760   \n",
       "3           FDX07        19.20          Regular         0.000000   \n",
       "4           NCD19         8.93          Low Fat         0.000000   \n",
       "\n",
       "               Item_Type  Item_MRP Outlet_Identifier  \\\n",
       "0                  Dairy  249.8092            OUT049   \n",
       "1            Soft Drinks   48.2692            OUT018   \n",
       "2                   Meat  141.6180            OUT049   \n",
       "3  Fruits and Vegetables  182.0950            OUT010   \n",
       "4              Household   53.8614            OUT013   \n",
       "\n",
       "   Outlet_Establishment_Year Outlet_Size Outlet_Location_Type  \\\n",
       "0                       1999      Medium               Tier 1   \n",
       "1                       2009      Medium               Tier 3   \n",
       "2                       1999      Medium               Tier 1   \n",
       "3                       1998         NaN               Tier 3   \n",
       "4                       1987        High               Tier 3   \n",
       "\n",
       "         Outlet_Type  Item_Outlet_Sales  \n",
       "0  Supermarket Type1          3735.1380  \n",
       "1  Supermarket Type2           443.4228  \n",
       "2  Supermarket Type1          2097.2700  \n",
       "3      Grocery Store           732.3800  \n",
       "4  Supermarket Type1           994.7052  "
      ]
     },
     "execution_count": 2,
     "metadata": {},
     "output_type": "execute_result"
    }
   ],
   "source": [
    "df = pd.read_csv('https://raw.githubusercontent.com/bipulshahi/Dataset/main/Big_Mart_Sales_Figure.csv')\n",
    "\n",
    "df.head()"
   ]
  },
  {
   "cell_type": "code",
   "execution_count": 3,
   "metadata": {},
   "outputs": [
    {
     "data": {
      "application/vnd.microsoft.datawrangler.viewer.v0+json": {
       "columns": [
        {
         "name": "index",
         "rawType": "int64",
         "type": "integer"
        },
        {
         "name": "Item_Weight",
         "rawType": "float64",
         "type": "float"
        },
        {
         "name": "Item_Visibility",
         "rawType": "float64",
         "type": "float"
        },
        {
         "name": "Item_MRP",
         "rawType": "float64",
         "type": "float"
        },
        {
         "name": "Outlet_Establishment_Year",
         "rawType": "int64",
         "type": "integer"
        },
        {
         "name": "Item_Outlet_Sales",
         "rawType": "float64",
         "type": "float"
        }
       ],
       "ref": "e7277f14-196b-4ba8-8140-828ac9dadba8",
       "rows": [
        [
         "0",
         "9.3",
         "0.016047301",
         "249.8092",
         "1999",
         "3735.138"
        ],
        [
         "1",
         "5.92",
         "0.019278216",
         "48.2692",
         "2009",
         "443.4228"
        ],
        [
         "2",
         "17.5",
         "0.016760075",
         "141.618",
         "1999",
         "2097.27"
        ],
        [
         "3",
         "19.2",
         "0.0",
         "182.095",
         "1998",
         "732.38"
        ],
        [
         "4",
         "8.93",
         "0.0",
         "53.8614",
         "1987",
         "994.7052"
        ]
       ],
       "shape": {
        "columns": 5,
        "rows": 5
       }
      },
      "text/html": [
       "<div>\n",
       "<style scoped>\n",
       "    .dataframe tbody tr th:only-of-type {\n",
       "        vertical-align: middle;\n",
       "    }\n",
       "\n",
       "    .dataframe tbody tr th {\n",
       "        vertical-align: top;\n",
       "    }\n",
       "\n",
       "    .dataframe thead th {\n",
       "        text-align: right;\n",
       "    }\n",
       "</style>\n",
       "<table border=\"1\" class=\"dataframe\">\n",
       "  <thead>\n",
       "    <tr style=\"text-align: right;\">\n",
       "      <th></th>\n",
       "      <th>Item_Weight</th>\n",
       "      <th>Item_Visibility</th>\n",
       "      <th>Item_MRP</th>\n",
       "      <th>Outlet_Establishment_Year</th>\n",
       "      <th>Item_Outlet_Sales</th>\n",
       "    </tr>\n",
       "  </thead>\n",
       "  <tbody>\n",
       "    <tr>\n",
       "      <th>0</th>\n",
       "      <td>9.30</td>\n",
       "      <td>0.016047</td>\n",
       "      <td>249.8092</td>\n",
       "      <td>1999</td>\n",
       "      <td>3735.1380</td>\n",
       "    </tr>\n",
       "    <tr>\n",
       "      <th>1</th>\n",
       "      <td>5.92</td>\n",
       "      <td>0.019278</td>\n",
       "      <td>48.2692</td>\n",
       "      <td>2009</td>\n",
       "      <td>443.4228</td>\n",
       "    </tr>\n",
       "    <tr>\n",
       "      <th>2</th>\n",
       "      <td>17.50</td>\n",
       "      <td>0.016760</td>\n",
       "      <td>141.6180</td>\n",
       "      <td>1999</td>\n",
       "      <td>2097.2700</td>\n",
       "    </tr>\n",
       "    <tr>\n",
       "      <th>3</th>\n",
       "      <td>19.20</td>\n",
       "      <td>0.000000</td>\n",
       "      <td>182.0950</td>\n",
       "      <td>1998</td>\n",
       "      <td>732.3800</td>\n",
       "    </tr>\n",
       "    <tr>\n",
       "      <th>4</th>\n",
       "      <td>8.93</td>\n",
       "      <td>0.000000</td>\n",
       "      <td>53.8614</td>\n",
       "      <td>1987</td>\n",
       "      <td>994.7052</td>\n",
       "    </tr>\n",
       "  </tbody>\n",
       "</table>\n",
       "</div>"
      ],
      "text/plain": [
       "   Item_Weight  Item_Visibility  Item_MRP  Outlet_Establishment_Year  \\\n",
       "0         9.30         0.016047  249.8092                       1999   \n",
       "1         5.92         0.019278   48.2692                       2009   \n",
       "2        17.50         0.016760  141.6180                       1999   \n",
       "3        19.20         0.000000  182.0950                       1998   \n",
       "4         8.93         0.000000   53.8614                       1987   \n",
       "\n",
       "   Item_Outlet_Sales  \n",
       "0          3735.1380  \n",
       "1           443.4228  \n",
       "2          2097.2700  \n",
       "3           732.3800  \n",
       "4           994.7052  "
      ]
     },
     "execution_count": 3,
     "metadata": {},
     "output_type": "execute_result"
    }
   ],
   "source": [
    "df_numerical = df.select_dtypes(include='number')\n",
    "\n",
    "df_numerical.head()"
   ]
  },
  {
   "cell_type": "code",
   "execution_count": 4,
   "metadata": {},
   "outputs": [
    {
     "data": {
      "application/vnd.microsoft.datawrangler.viewer.v0+json": {
       "columns": [
        {
         "name": "index",
         "rawType": "int64",
         "type": "integer"
        },
        {
         "name": "Item_Identifier",
         "rawType": "object",
         "type": "string"
        },
        {
         "name": "Item_Weight",
         "rawType": "float64",
         "type": "float"
        },
        {
         "name": "Item_Fat_Content",
         "rawType": "object",
         "type": "string"
        },
        {
         "name": "Item_Visibility",
         "rawType": "float64",
         "type": "float"
        },
        {
         "name": "Item_Type",
         "rawType": "object",
         "type": "string"
        },
        {
         "name": "Item_MRP",
         "rawType": "float64",
         "type": "float"
        },
        {
         "name": "Outlet_Identifier",
         "rawType": "object",
         "type": "string"
        },
        {
         "name": "Outlet_Establishment_Year",
         "rawType": "int64",
         "type": "integer"
        },
        {
         "name": "Outlet_Size",
         "rawType": "object",
         "type": "unknown"
        },
        {
         "name": "Outlet_Location_Type",
         "rawType": "object",
         "type": "string"
        },
        {
         "name": "Outlet_Type",
         "rawType": "object",
         "type": "string"
        },
        {
         "name": "Item_Outlet_Sales",
         "rawType": "float64",
         "type": "float"
        }
       ],
       "ref": "fedb5557-ac6f-4124-af24-3a6a85af2f74",
       "rows": [
        [
         "8518",
         "FDF22",
         "6.865",
         "Low Fat",
         "0.056783389",
         "Snack Foods",
         "214.5218",
         "OUT013",
         "1987",
         "High",
         "Tier 3",
         "Supermarket Type1",
         "2778.3834"
        ],
        [
         "8519",
         "FDS36",
         "8.38",
         "Regular",
         "0.046982429",
         "Baking Goods",
         "108.157",
         "OUT045",
         "2002",
         null,
         "Tier 2",
         "Supermarket Type1",
         "549.285"
        ],
        [
         "8520",
         "NCJ29",
         "10.6",
         "Low Fat",
         "0.035186271",
         "Health and Hygiene",
         "85.1224",
         "OUT035",
         "2004",
         "Small",
         "Tier 2",
         "Supermarket Type1",
         "1193.1136"
        ],
        [
         "8521",
         "FDN46",
         "7.21",
         "Regular",
         "0.145220646",
         "Snack Foods",
         "103.1332",
         "OUT018",
         "2009",
         "Medium",
         "Tier 3",
         "Supermarket Type2",
         "1845.5976"
        ],
        [
         "8522",
         "DRG01",
         "14.8",
         "Low Fat",
         "0.04487828",
         "Soft Drinks",
         "75.467",
         "OUT046",
         "1997",
         "Small",
         "Tier 1",
         "Supermarket Type1",
         "765.67"
        ]
       ],
       "shape": {
        "columns": 12,
        "rows": 5
       }
      },
      "text/html": [
       "<div>\n",
       "<style scoped>\n",
       "    .dataframe tbody tr th:only-of-type {\n",
       "        vertical-align: middle;\n",
       "    }\n",
       "\n",
       "    .dataframe tbody tr th {\n",
       "        vertical-align: top;\n",
       "    }\n",
       "\n",
       "    .dataframe thead th {\n",
       "        text-align: right;\n",
       "    }\n",
       "</style>\n",
       "<table border=\"1\" class=\"dataframe\">\n",
       "  <thead>\n",
       "    <tr style=\"text-align: right;\">\n",
       "      <th></th>\n",
       "      <th>Item_Identifier</th>\n",
       "      <th>Item_Weight</th>\n",
       "      <th>Item_Fat_Content</th>\n",
       "      <th>Item_Visibility</th>\n",
       "      <th>Item_Type</th>\n",
       "      <th>Item_MRP</th>\n",
       "      <th>Outlet_Identifier</th>\n",
       "      <th>Outlet_Establishment_Year</th>\n",
       "      <th>Outlet_Size</th>\n",
       "      <th>Outlet_Location_Type</th>\n",
       "      <th>Outlet_Type</th>\n",
       "      <th>Item_Outlet_Sales</th>\n",
       "    </tr>\n",
       "  </thead>\n",
       "  <tbody>\n",
       "    <tr>\n",
       "      <th>8518</th>\n",
       "      <td>FDF22</td>\n",
       "      <td>6.865</td>\n",
       "      <td>Low Fat</td>\n",
       "      <td>0.056783</td>\n",
       "      <td>Snack Foods</td>\n",
       "      <td>214.5218</td>\n",
       "      <td>OUT013</td>\n",
       "      <td>1987</td>\n",
       "      <td>High</td>\n",
       "      <td>Tier 3</td>\n",
       "      <td>Supermarket Type1</td>\n",
       "      <td>2778.3834</td>\n",
       "    </tr>\n",
       "    <tr>\n",
       "      <th>8519</th>\n",
       "      <td>FDS36</td>\n",
       "      <td>8.380</td>\n",
       "      <td>Regular</td>\n",
       "      <td>0.046982</td>\n",
       "      <td>Baking Goods</td>\n",
       "      <td>108.1570</td>\n",
       "      <td>OUT045</td>\n",
       "      <td>2002</td>\n",
       "      <td>NaN</td>\n",
       "      <td>Tier 2</td>\n",
       "      <td>Supermarket Type1</td>\n",
       "      <td>549.2850</td>\n",
       "    </tr>\n",
       "    <tr>\n",
       "      <th>8520</th>\n",
       "      <td>NCJ29</td>\n",
       "      <td>10.600</td>\n",
       "      <td>Low Fat</td>\n",
       "      <td>0.035186</td>\n",
       "      <td>Health and Hygiene</td>\n",
       "      <td>85.1224</td>\n",
       "      <td>OUT035</td>\n",
       "      <td>2004</td>\n",
       "      <td>Small</td>\n",
       "      <td>Tier 2</td>\n",
       "      <td>Supermarket Type1</td>\n",
       "      <td>1193.1136</td>\n",
       "    </tr>\n",
       "    <tr>\n",
       "      <th>8521</th>\n",
       "      <td>FDN46</td>\n",
       "      <td>7.210</td>\n",
       "      <td>Regular</td>\n",
       "      <td>0.145221</td>\n",
       "      <td>Snack Foods</td>\n",
       "      <td>103.1332</td>\n",
       "      <td>OUT018</td>\n",
       "      <td>2009</td>\n",
       "      <td>Medium</td>\n",
       "      <td>Tier 3</td>\n",
       "      <td>Supermarket Type2</td>\n",
       "      <td>1845.5976</td>\n",
       "    </tr>\n",
       "    <tr>\n",
       "      <th>8522</th>\n",
       "      <td>DRG01</td>\n",
       "      <td>14.800</td>\n",
       "      <td>Low Fat</td>\n",
       "      <td>0.044878</td>\n",
       "      <td>Soft Drinks</td>\n",
       "      <td>75.4670</td>\n",
       "      <td>OUT046</td>\n",
       "      <td>1997</td>\n",
       "      <td>Small</td>\n",
       "      <td>Tier 1</td>\n",
       "      <td>Supermarket Type1</td>\n",
       "      <td>765.6700</td>\n",
       "    </tr>\n",
       "  </tbody>\n",
       "</table>\n",
       "</div>"
      ],
      "text/plain": [
       "     Item_Identifier  Item_Weight Item_Fat_Content  Item_Visibility  \\\n",
       "8518           FDF22        6.865          Low Fat         0.056783   \n",
       "8519           FDS36        8.380          Regular         0.046982   \n",
       "8520           NCJ29       10.600          Low Fat         0.035186   \n",
       "8521           FDN46        7.210          Regular         0.145221   \n",
       "8522           DRG01       14.800          Low Fat         0.044878   \n",
       "\n",
       "               Item_Type  Item_MRP Outlet_Identifier  \\\n",
       "8518         Snack Foods  214.5218            OUT013   \n",
       "8519        Baking Goods  108.1570            OUT045   \n",
       "8520  Health and Hygiene   85.1224            OUT035   \n",
       "8521         Snack Foods  103.1332            OUT018   \n",
       "8522         Soft Drinks   75.4670            OUT046   \n",
       "\n",
       "      Outlet_Establishment_Year Outlet_Size Outlet_Location_Type  \\\n",
       "8518                       1987        High               Tier 3   \n",
       "8519                       2002         NaN               Tier 2   \n",
       "8520                       2004       Small               Tier 2   \n",
       "8521                       2009      Medium               Tier 3   \n",
       "8522                       1997       Small               Tier 1   \n",
       "\n",
       "            Outlet_Type  Item_Outlet_Sales  \n",
       "8518  Supermarket Type1          2778.3834  \n",
       "8519  Supermarket Type1           549.2850  \n",
       "8520  Supermarket Type1          1193.1136  \n",
       "8521  Supermarket Type2          1845.5976  \n",
       "8522  Supermarket Type1           765.6700  "
      ]
     },
     "execution_count": 4,
     "metadata": {},
     "output_type": "execute_result"
    }
   ],
   "source": [
    "df.tail()"
   ]
  },
  {
   "cell_type": "code",
   "execution_count": 5,
   "metadata": {},
   "outputs": [],
   "source": [
    "df_non_numerical = df.select_dtypes(include='object')"
   ]
  },
  {
   "cell_type": "code",
   "execution_count": 6,
   "metadata": {},
   "outputs": [
    {
     "data": {
      "application/vnd.microsoft.datawrangler.viewer.v0+json": {
       "columns": [
        {
         "name": "index",
         "rawType": "object",
         "type": "string"
        },
        {
         "name": "Item_Weight",
         "rawType": "float64",
         "type": "float"
        },
        {
         "name": "Item_Visibility",
         "rawType": "float64",
         "type": "float"
        },
        {
         "name": "Item_MRP",
         "rawType": "float64",
         "type": "float"
        },
        {
         "name": "Outlet_Establishment_Year",
         "rawType": "float64",
         "type": "float"
        },
        {
         "name": "Item_Outlet_Sales",
         "rawType": "float64",
         "type": "float"
        }
       ],
       "ref": "ca48df27-a905-4c17-bede-31da5062889e",
       "rows": [
        [
         "Item_Weight",
         "1.0",
         "-0.014047725947827152",
         "0.02714115388333068",
         "-0.011588290193822258",
         "0.01412273928005647"
        ],
        [
         "Item_Visibility",
         "-0.014047725947827152",
         "1.0",
         "-0.0013148480362671618",
         "-0.07483350421024908",
         "-0.12862461222076968"
        ],
        [
         "Item_MRP",
         "0.02714115388333068",
         "-0.0013148480362671618",
         "1.0",
         "0.005019916170231697",
         "0.5675744466569178"
        ],
        [
         "Outlet_Establishment_Year",
         "-0.011588290193822258",
         "-0.07483350421024908",
         "0.005019916170231697",
         "1.0",
         "-0.04913497044082044"
        ],
        [
         "Item_Outlet_Sales",
         "0.01412273928005647",
         "-0.12862461222076968",
         "0.5675744466569178",
         "-0.04913497044082044",
         "1.0"
        ]
       ],
       "shape": {
        "columns": 5,
        "rows": 5
       }
      },
      "text/html": [
       "<div>\n",
       "<style scoped>\n",
       "    .dataframe tbody tr th:only-of-type {\n",
       "        vertical-align: middle;\n",
       "    }\n",
       "\n",
       "    .dataframe tbody tr th {\n",
       "        vertical-align: top;\n",
       "    }\n",
       "\n",
       "    .dataframe thead th {\n",
       "        text-align: right;\n",
       "    }\n",
       "</style>\n",
       "<table border=\"1\" class=\"dataframe\">\n",
       "  <thead>\n",
       "    <tr style=\"text-align: right;\">\n",
       "      <th></th>\n",
       "      <th>Item_Weight</th>\n",
       "      <th>Item_Visibility</th>\n",
       "      <th>Item_MRP</th>\n",
       "      <th>Outlet_Establishment_Year</th>\n",
       "      <th>Item_Outlet_Sales</th>\n",
       "    </tr>\n",
       "  </thead>\n",
       "  <tbody>\n",
       "    <tr>\n",
       "      <th>Item_Weight</th>\n",
       "      <td>1.000000</td>\n",
       "      <td>-0.014048</td>\n",
       "      <td>0.027141</td>\n",
       "      <td>-0.011588</td>\n",
       "      <td>0.014123</td>\n",
       "    </tr>\n",
       "    <tr>\n",
       "      <th>Item_Visibility</th>\n",
       "      <td>-0.014048</td>\n",
       "      <td>1.000000</td>\n",
       "      <td>-0.001315</td>\n",
       "      <td>-0.074834</td>\n",
       "      <td>-0.128625</td>\n",
       "    </tr>\n",
       "    <tr>\n",
       "      <th>Item_MRP</th>\n",
       "      <td>0.027141</td>\n",
       "      <td>-0.001315</td>\n",
       "      <td>1.000000</td>\n",
       "      <td>0.005020</td>\n",
       "      <td>0.567574</td>\n",
       "    </tr>\n",
       "    <tr>\n",
       "      <th>Outlet_Establishment_Year</th>\n",
       "      <td>-0.011588</td>\n",
       "      <td>-0.074834</td>\n",
       "      <td>0.005020</td>\n",
       "      <td>1.000000</td>\n",
       "      <td>-0.049135</td>\n",
       "    </tr>\n",
       "    <tr>\n",
       "      <th>Item_Outlet_Sales</th>\n",
       "      <td>0.014123</td>\n",
       "      <td>-0.128625</td>\n",
       "      <td>0.567574</td>\n",
       "      <td>-0.049135</td>\n",
       "      <td>1.000000</td>\n",
       "    </tr>\n",
       "  </tbody>\n",
       "</table>\n",
       "</div>"
      ],
      "text/plain": [
       "                           Item_Weight  Item_Visibility  Item_MRP  \\\n",
       "Item_Weight                   1.000000        -0.014048  0.027141   \n",
       "Item_Visibility              -0.014048         1.000000 -0.001315   \n",
       "Item_MRP                      0.027141        -0.001315  1.000000   \n",
       "Outlet_Establishment_Year    -0.011588        -0.074834  0.005020   \n",
       "Item_Outlet_Sales             0.014123        -0.128625  0.567574   \n",
       "\n",
       "                           Outlet_Establishment_Year  Item_Outlet_Sales  \n",
       "Item_Weight                                -0.011588           0.014123  \n",
       "Item_Visibility                            -0.074834          -0.128625  \n",
       "Item_MRP                                    0.005020           0.567574  \n",
       "Outlet_Establishment_Year                   1.000000          -0.049135  \n",
       "Item_Outlet_Sales                          -0.049135           1.000000  "
      ]
     },
     "execution_count": 6,
     "metadata": {},
     "output_type": "execute_result"
    }
   ],
   "source": [
    "df_numerical.corr()"
   ]
  },
  {
   "cell_type": "code",
   "execution_count": 7,
   "metadata": {},
   "outputs": [
    {
     "data": {
      "text/plain": [
       "<Axes: >"
      ]
     },
     "execution_count": 7,
     "metadata": {},
     "output_type": "execute_result"
    },
    {
     "data": {
      "image/png": "[encoded data removed]",
      "text/plain": [
       "<Figure size 640x480 with 2 Axes>"
      ]
     },
     "metadata": {},
     "output_type": "display_data"
    }
   ],
   "source": [
    "sns.heatmap(df_numerical.corr(),annot=True)"
   ]
  },
  {
   "cell_type": "code",
   "execution_count": 8,
   "metadata": {},
   "outputs": [
    {
     "data": {
      "application/vnd.microsoft.datawrangler.viewer.v0+json": {
       "columns": [
        {
         "name": "index",
         "rawType": "object",
         "type": "string"
        },
        {
         "name": "0",
         "rawType": "int64",
         "type": "integer"
        }
       ],
       "ref": "f77d9c1b-8c88-4cd4-9574-81e1cb31ff25",
       "rows": [
        [
         "Item_Identifier",
         "1559"
        ],
        [
         "Item_Fat_Content",
         "5"
        ],
        [
         "Item_Type",
         "16"
        ],
        [
         "Outlet_Identifier",
         "10"
        ],
        [
         "Outlet_Size",
         "3"
        ],
        [
         "Outlet_Location_Type",
         "3"
        ],
        [
         "Outlet_Type",
         "4"
        ]
       ],
       "shape": {
        "columns": 1,
        "rows": 7
       }
      },
      "text/plain": [
       "Item_Identifier         1559\n",
       "Item_Fat_Content           5\n",
       "Item_Type                 16\n",
       "Outlet_Identifier         10\n",
       "Outlet_Size                3\n",
       "Outlet_Location_Type       3\n",
       "Outlet_Type                4\n",
       "dtype: int64"
      ]
     },
     "execution_count": 8,
     "metadata": {},
     "output_type": "execute_result"
    }
   ],
   "source": [
    "df_non_numerical.nunique()"
   ]
  },
  {
   "cell_type": "code",
   "execution_count": 9,
   "metadata": {},
   "outputs": [],
   "source": [
    "#python function to return only first two charaters of the string\n",
    "\n",
    "def first_two_charaters(text):\n",
    "    return text[0:2]\n"
   ]
  },
  {
   "cell_type": "code",
   "execution_count": 10,
   "metadata": {},
   "outputs": [
    {
     "data": {
      "application/vnd.microsoft.datawrangler.viewer.v0+json": {
       "columns": [
        {
         "name": "index",
         "rawType": "int64",
         "type": "integer"
        },
        {
         "name": "Item_Identifier",
         "rawType": "object",
         "type": "string"
        }
       ],
       "ref": "c10f1b71-3afa-4f26-ab6e-8e43b1af51ee",
       "rows": [
        [
         "0",
         "FD"
        ],
        [
         "1",
         "DR"
        ],
        [
         "2",
         "FD"
        ],
        [
         "3",
         "FD"
        ],
        [
         "4",
         "NC"
        ]
       ],
       "shape": {
        "columns": 1,
        "rows": 5
       }
      },
      "text/plain": [
       "0    FD\n",
       "1    DR\n",
       "2    FD\n",
       "3    FD\n",
       "4    NC\n",
       "Name: Item_Identifier, dtype: object"
      ]
     },
     "execution_count": 10,
     "metadata": {},
     "output_type": "execute_result"
    }
   ],
   "source": [
    "item_identifier = df['Item_Identifier'].apply(first_two_charaters)\n",
    "\n",
    "item_identifier.head()"
   ]
  },
  {
   "cell_type": "code",
   "execution_count": 11,
   "metadata": {},
   "outputs": [
    {
     "data": {
      "application/vnd.microsoft.datawrangler.viewer.v0+json": {
       "columns": [
        {
         "name": "Item_Identifier",
         "rawType": "object",
         "type": "string"
        },
        {
         "name": "count",
         "rawType": "int64",
         "type": "integer"
        }
       ],
       "ref": "0d32d0c8-18e3-471d-aebe-c7e8c2f5bd27",
       "rows": [
        [
         "FD",
         "6125"
        ],
        [
         "NC",
         "1599"
        ],
        [
         "DR",
         "799"
        ]
       ],
       "shape": {
        "columns": 1,
        "rows": 3
       }
      },
      "text/plain": [
       "Item_Identifier\n",
       "FD    6125\n",
       "NC    1599\n",
       "DR     799\n",
       "Name: count, dtype: int64"
      ]
     },
     "execution_count": 11,
     "metadata": {},
     "output_type": "execute_result"
    }
   ],
   "source": [
    "df['Item_Identifier'].apply(first_two_charaters).value_counts()"
   ]
  },
  {
   "cell_type": "code",
   "execution_count": 12,
   "metadata": {},
   "outputs": [],
   "source": [
    "df.insert(1,'item_ide',item_identifier)"
   ]
  },
  {
   "cell_type": "code",
   "execution_count": 13,
   "metadata": {},
   "outputs": [
    {
     "data": {
      "application/vnd.microsoft.datawrangler.viewer.v0+json": {
       "columns": [
        {
         "name": "index",
         "rawType": "int64",
         "type": "integer"
        },
        {
         "name": "Item_Identifier",
         "rawType": "object",
         "type": "string"
        },
        {
         "name": "item_ide",
         "rawType": "object",
         "type": "string"
        },
        {
         "name": "Item_Weight",
         "rawType": "float64",
         "type": "float"
        },
        {
         "name": "Item_Fat_Content",
         "rawType": "object",
         "type": "string"
        },
        {
         "name": "Item_Visibility",
         "rawType": "float64",
         "type": "float"
        },
        {
         "name": "Item_Type",
         "rawType": "object",
         "type": "string"
        },
        {
         "name": "Item_MRP",
         "rawType": "float64",
         "type": "float"
        },
        {
         "name": "Outlet_Identifier",
         "rawType": "object",
         "type": "string"
        },
        {
         "name": "Outlet_Establishment_Year",
         "rawType": "int64",
         "type": "integer"
        },
        {
         "name": "Outlet_Size",
         "rawType": "object",
         "type": "unknown"
        },
        {
         "name": "Outlet_Location_Type",
         "rawType": "object",
         "type": "string"
        },
        {
         "name": "Outlet_Type",
         "rawType": "object",
         "type": "string"
        },
        {
         "name": "Item_Outlet_Sales",
         "rawType": "float64",
         "type": "float"
        }
       ],
       "ref": "e00daccc-1605-451c-8bc4-09104bc610b1",
       "rows": [
        [
         "0",
         "FDA15",
         "FD",
         "9.3",
         "Low Fat",
         "0.016047301",
         "Dairy",
         "249.8092",
         "OUT049",
         "1999",
         "Medium",
         "Tier 1",
         "Supermarket Type1",
         "3735.138"
        ],
        [
         "1",
         "DRC01",
         "DR",
         "5.92",
         "Regular",
         "0.019278216",
         "Soft Drinks",
         "48.2692",
         "OUT018",
         "2009",
         "Medium",
         "Tier 3",
         "Supermarket Type2",
         "443.4228"
        ],
        [
         "2",
         "FDN15",
         "FD",
         "17.5",
         "Low Fat",
         "0.016760075",
         "Meat",
         "141.618",
         "OUT049",
         "1999",
         "Medium",
         "Tier 1",
         "Supermarket Type1",
         "2097.27"
        ],
        [
         "3",
         "FDX07",
         "FD",
         "19.2",
         "Regular",
         "0.0",
         "Fruits and Vegetables",
         "182.095",
         "OUT010",
         "1998",
         null,
         "Tier 3",
         "Grocery Store",
         "732.38"
        ],
        [
         "4",
         "NCD19",
         "NC",
         "8.93",
         "Low Fat",
         "0.0",
         "Household",
         "53.8614",
         "OUT013",
         "1987",
         "High",
         "Tier 3",
         "Supermarket Type1",
         "994.7052"
        ]
       ],
       "shape": {
        "columns": 13,
        "rows": 5
       }
      },
      "text/html": [
       "<div>\n",
       "<style scoped>\n",
       "    .dataframe tbody tr th:only-of-type {\n",
       "        vertical-align: middle;\n",
       "    }\n",
       "\n",
       "    .dataframe tbody tr th {\n",
       "        vertical-align: top;\n",
       "    }\n",
       "\n",
       "    .dataframe thead th {\n",
       "        text-align: right;\n",
       "    }\n",
       "</style>\n",
       "<table border=\"1\" class=\"dataframe\">\n",
       "  <thead>\n",
       "    <tr style=\"text-align: right;\">\n",
       "      <th></th>\n",
       "      <th>Item_Identifier</th>\n",
       "      <th>item_ide</th>\n",
       "      <th>Item_Weight</th>\n",
       "      <th>Item_Fat_Content</th>\n",
       "      <th>Item_Visibility</th>\n",
       "      <th>Item_Type</th>\n",
       "      <th>Item_MRP</th>\n",
       "      <th>Outlet_Identifier</th>\n",
       "      <th>Outlet_Establishment_Year</th>\n",
       "      <th>Outlet_Size</th>\n",
       "      <th>Outlet_Location_Type</th>\n",
       "      <th>Outlet_Type</th>\n",
       "      <th>Item_Outlet_Sales</th>\n",
       "    </tr>\n",
       "  </thead>\n",
       "  <tbody>\n",
       "    <tr>\n",
       "      <th>0</th>\n",
       "      <td>FDA15</td>\n",
       "      <td>FD</td>\n",
       "      <td>9.30</td>\n",
       "      <td>Low Fat</td>\n",
       "      <td>0.016047</td>\n",
       "      <td>Dairy</td>\n",
       "      <td>249.8092</td>\n",
       "      <td>OUT049</td>\n",
       "      <td>1999</td>\n",
       "      <td>Medium</td>\n",
       "      <td>Tier 1</td>\n",
       "      <td>Supermarket Type1</td>\n",
       "      <td>3735.1380</td>\n",
       "    </tr>\n",
       "    <tr>\n",
       "      <th>1</th>\n",
       "      <td>DRC01</td>\n",
       "      <td>DR</td>\n",
       "      <td>5.92</td>\n",
       "      <td>Regular</td>\n",
       "      <td>0.019278</td>\n",
       "      <td>Soft Drinks</td>\n",
       "      <td>48.2692</td>\n",
       "      <td>OUT018</td>\n",
       "      <td>2009</td>\n",
       "      <td>Medium</td>\n",
       "      <td>Tier 3</td>\n",
       "      <td>Supermarket Type2</td>\n",
       "      <td>443.4228</td>\n",
       "    </tr>\n",
       "    <tr>\n",
       "      <th>2</th>\n",
       "      <td>FDN15</td>\n",
       "      <td>FD</td>\n",
       "      <td>17.50</td>\n",
       "      <td>Low Fat</td>\n",
       "      <td>0.016760</td>\n",
       "      <td>Meat</td>\n",
       "      <td>141.6180</td>\n",
       "      <td>OUT049</td>\n",
       "      <td>1999</td>\n",
       "      <td>Medium</td>\n",
       "      <td>Tier 1</td>\n",
       "      <td>Supermarket Type1</td>\n",
       "      <td>2097.2700</td>\n",
       "    </tr>\n",
       "    <tr>\n",
       "      <th>3</th>\n",
       "      <td>FDX07</td>\n",
       "      <td>FD</td>\n",
       "      <td>19.20</td>\n",
       "      <td>Regular</td>\n",
       "      <td>0.000000</td>\n",
       "      <td>Fruits and Vegetables</td>\n",
       "      <td>182.0950</td>\n",
       "      <td>OUT010</td>\n",
       "      <td>1998</td>\n",
       "      <td>NaN</td>\n",
       "      <td>Tier 3</td>\n",
       "      <td>Grocery Store</td>\n",
       "      <td>732.3800</td>\n",
       "    </tr>\n",
       "    <tr>\n",
       "      <th>4</th>\n",
       "      <td>NCD19</td>\n",
       "      <td>NC</td>\n",
       "      <td>8.93</td>\n",
       "      <td>Low Fat</td>\n",
       "      <td>0.000000</td>\n",
       "      <td>Household</td>\n",
       "      <td>53.8614</td>\n",
       "      <td>OUT013</td>\n",
       "      <td>1987</td>\n",
       "      <td>High</td>\n",
       "      <td>Tier 3</td>\n",
       "      <td>Supermarket Type1</td>\n",
       "      <td>994.7052</td>\n",
       "    </tr>\n",
       "  </tbody>\n",
       "</table>\n",
       "</div>"
      ],
      "text/plain": [
       "  Item_Identifier item_ide  Item_Weight Item_Fat_Content  Item_Visibility  \\\n",
       "0           FDA15       FD         9.30          Low Fat         0.016047   \n",
       "1           DRC01       DR         5.92          Regular         0.019278   \n",
       "2           FDN15       FD        17.50          Low Fat         0.016760   \n",
       "3           FDX07       FD        19.20          Regular         0.000000   \n",
       "4           NCD19       NC         8.93          Low Fat         0.000000   \n",
       "\n",
       "               Item_Type  Item_MRP Outlet_Identifier  \\\n",
       "0                  Dairy  249.8092            OUT049   \n",
       "1            Soft Drinks   48.2692            OUT018   \n",
       "2                   Meat  141.6180            OUT049   \n",
       "3  Fruits and Vegetables  182.0950            OUT010   \n",
       "4              Household   53.8614            OUT013   \n",
       "\n",
       "   Outlet_Establishment_Year Outlet_Size Outlet_Location_Type  \\\n",
       "0                       1999      Medium               Tier 1   \n",
       "1                       2009      Medium               Tier 3   \n",
       "2                       1999      Medium               Tier 1   \n",
       "3                       1998         NaN               Tier 3   \n",
       "4                       1987        High               Tier 3   \n",
       "\n",
       "         Outlet_Type  Item_Outlet_Sales  \n",
       "0  Supermarket Type1          3735.1380  \n",
       "1  Supermarket Type2           443.4228  \n",
       "2  Supermarket Type1          2097.2700  \n",
       "3      Grocery Store           732.3800  \n",
       "4  Supermarket Type1           994.7052  "
      ]
     },
     "execution_count": 13,
     "metadata": {},
     "output_type": "execute_result"
    }
   ],
   "source": [
    "df.head()"
   ]
  },
  {
   "cell_type": "code",
   "execution_count": 14,
   "metadata": {},
   "outputs": [],
   "source": [
    "#python function to get last two characters of the string\n",
    "\n",
    "def last_two_characters(text):\n",
    "    return int(text[-2:])\n"
   ]
  },
  {
   "cell_type": "code",
   "execution_count": 15,
   "metadata": {},
   "outputs": [],
   "source": [
    "item_identifier_num = df['Item_Identifier'].apply(last_two_characters)"
   ]
  },
  {
   "cell_type": "code",
   "execution_count": 16,
   "metadata": {},
   "outputs": [
    {
     "data": {
      "application/vnd.microsoft.datawrangler.viewer.v0+json": {
       "columns": [
        {
         "name": "index",
         "rawType": "int64",
         "type": "integer"
        },
        {
         "name": "Item_Identifier",
         "rawType": "int64",
         "type": "integer"
        }
       ],
       "ref": "899402ca-223a-4b31-b43d-4b52a741650a",
       "rows": [
        [
         "0",
         "15"
        ],
        [
         "1",
         "1"
        ],
        [
         "2",
         "15"
        ],
        [
         "3",
         "7"
        ],
        [
         "4",
         "19"
        ],
        [
         "5",
         "36"
        ],
        [
         "6",
         "10"
        ],
        [
         "7",
         "10"
        ],
        [
         "8",
         "17"
        ],
        [
         "9",
         "28"
        ],
        [
         "10",
         "7"
        ],
        [
         "11",
         "3"
        ],
        [
         "12",
         "32"
        ],
        [
         "13",
         "46"
        ],
        [
         "14",
         "32"
        ],
        [
         "15",
         "49"
        ],
        [
         "16",
         "42"
        ],
        [
         "17",
         "49"
        ],
        [
         "18",
         "11"
        ],
        [
         "19",
         "2"
        ],
        [
         "20",
         "22"
        ],
        [
         "21",
         "12"
        ],
        [
         "22",
         "30"
        ],
        [
         "23",
         "37"
        ],
        [
         "24",
         "28"
        ],
        [
         "25",
         "6"
        ],
        [
         "26",
         "10"
        ],
        [
         "27",
         "59"
        ],
        [
         "28",
         "51"
        ],
        [
         "29",
         "14"
        ],
        [
         "30",
         "38"
        ],
        [
         "31",
         "17"
        ],
        [
         "32",
         "33"
        ],
        [
         "33",
         "23"
        ],
        [
         "34",
         "1"
        ],
        [
         "35",
         "29"
        ],
        [
         "36",
         "20"
        ],
        [
         "37",
         "11"
        ],
        [
         "38",
         "10"
        ],
        [
         "39",
         "34"
        ],
        [
         "40",
         "2"
        ],
        [
         "41",
         "43"
        ],
        [
         "42",
         "46"
        ],
        [
         "43",
         "2"
        ],
        [
         "44",
         "50"
        ],
        [
         "45",
         "39"
        ],
        [
         "46",
         "5"
        ],
        [
         "47",
         "49"
        ],
        [
         "48",
         "12"
        ],
        [
         "49",
         "2"
        ]
       ],
       "shape": {
        "columns": 1,
        "rows": 8523
       }
      },
      "text/plain": [
       "0       15\n",
       "1        1\n",
       "2       15\n",
       "3        7\n",
       "4       19\n",
       "        ..\n",
       "8518    22\n",
       "8519    36\n",
       "8520    29\n",
       "8521    46\n",
       "8522     1\n",
       "Name: Item_Identifier, Length: 8523, dtype: int64"
      ]
     },
     "execution_count": 16,
     "metadata": {},
     "output_type": "execute_result"
    }
   ],
   "source": [
    "item_identifier_num"
   ]
  },
  {
   "cell_type": "code",
   "execution_count": 17,
   "metadata": {},
   "outputs": [],
   "source": [
    "df.insert(2,'item_ide_num',item_identifier_num)"
   ]
  },
  {
   "cell_type": "code",
   "execution_count": 18,
   "metadata": {},
   "outputs": [
    {
     "data": {
      "application/vnd.microsoft.datawrangler.viewer.v0+json": {
       "columns": [
        {
         "name": "index",
         "rawType": "int64",
         "type": "integer"
        },
        {
         "name": "Item_Identifier",
         "rawType": "object",
         "type": "string"
        },
        {
         "name": "item_ide",
         "rawType": "object",
         "type": "string"
        },
        {
         "name": "item_ide_num",
         "rawType": "int64",
         "type": "integer"
        },
        {
         "name": "Item_Weight",
         "rawType": "float64",
         "type": "float"
        },
        {
         "name": "Item_Fat_Content",
         "rawType": "object",
         "type": "string"
        },
        {
         "name": "Item_Visibility",
         "rawType": "float64",
         "type": "float"
        },
        {
         "name": "Item_Type",
         "rawType": "object",
         "type": "string"
        },
        {
         "name": "Item_MRP",
         "rawType": "float64",
         "type": "float"
        },
        {
         "name": "Outlet_Identifier",
         "rawType": "object",
         "type": "string"
        },
        {
         "name": "Outlet_Establishment_Year",
         "rawType": "int64",
         "type": "integer"
        },
        {
         "name": "Outlet_Size",
         "rawType": "object",
         "type": "unknown"
        },
        {
         "name": "Outlet_Location_Type",
         "rawType": "object",
         "type": "string"
        },
        {
         "name": "Outlet_Type",
         "rawType": "object",
         "type": "string"
        },
        {
         "name": "Item_Outlet_Sales",
         "rawType": "float64",
         "type": "float"
        }
       ],
       "ref": "62b1ad4c-23ad-4065-8391-ce931b062766",
       "rows": [
        [
         "0",
         "FDA15",
         "FD",
         "15",
         "9.3",
         "Low Fat",
         "0.016047301",
         "Dairy",
         "249.8092",
         "OUT049",
         "1999",
         "Medium",
         "Tier 1",
         "Supermarket Type1",
         "3735.138"
        ],
        [
         "1",
         "DRC01",
         "DR",
         "1",
         "5.92",
         "Regular",
         "0.019278216",
         "Soft Drinks",
         "48.2692",
         "OUT018",
         "2009",
         "Medium",
         "Tier 3",
         "Supermarket Type2",
         "443.4228"
        ],
        [
         "2",
         "FDN15",
         "FD",
         "15",
         "17.5",
         "Low Fat",
         "0.016760075",
         "Meat",
         "141.618",
         "OUT049",
         "1999",
         "Medium",
         "Tier 1",
         "Supermarket Type1",
         "2097.27"
        ],
        [
         "3",
         "FDX07",
         "FD",
         "7",
         "19.2",
         "Regular",
         "0.0",
         "Fruits and Vegetables",
         "182.095",
         "OUT010",
         "1998",
         null,
         "Tier 3",
         "Grocery Store",
         "732.38"
        ],
        [
         "4",
         "NCD19",
         "NC",
         "19",
         "8.93",
         "Low Fat",
         "0.0",
         "Household",
         "53.8614",
         "OUT013",
         "1987",
         "High",
         "Tier 3",
         "Supermarket Type1",
         "994.7052"
        ]
       ],
       "shape": {
        "columns": 14,
        "rows": 5
       }
      },
      "text/html": [
       "<div>\n",
       "<style scoped>\n",
       "    .dataframe tbody tr th:only-of-type {\n",
       "        vertical-align: middle;\n",
       "    }\n",
       "\n",
       "    .dataframe tbody tr th {\n",
       "        vertical-align: top;\n",
       "    }\n",
       "\n",
       "    .dataframe thead th {\n",
       "        text-align: right;\n",
       "    }\n",
       "</style>\n",
       "<table border=\"1\" class=\"dataframe\">\n",
       "  <thead>\n",
       "    <tr style=\"text-align: right;\">\n",
       "      <th></th>\n",
       "      <th>Item_Identifier</th>\n",
       "      <th>item_ide</th>\n",
       "      <th>item_ide_num</th>\n",
       "      <th>Item_Weight</th>\n",
       "      <th>Item_Fat_Content</th>\n",
       "      <th>Item_Visibility</th>\n",
       "      <th>Item_Type</th>\n",
       "      <th>Item_MRP</th>\n",
       "      <th>Outlet_Identifier</th>\n",
       "      <th>Outlet_Establishment_Year</th>\n",
       "      <th>Outlet_Size</th>\n",
       "      <th>Outlet_Location_Type</th>\n",
       "      <th>Outlet_Type</th>\n",
       "      <th>Item_Outlet_Sales</th>\n",
       "    </tr>\n",
       "  </thead>\n",
       "  <tbody>\n",
       "    <tr>\n",
       "      <th>0</th>\n",
       "      <td>FDA15</td>\n",
       "      <td>FD</td>\n",
       "      <td>15</td>\n",
       "      <td>9.30</td>\n",
       "      <td>Low Fat</td>\n",
       "      <td>0.016047</td>\n",
       "      <td>Dairy</td>\n",
       "      <td>249.8092</td>\n",
       "      <td>OUT049</td>\n",
       "      <td>1999</td>\n",
       "      <td>Medium</td>\n",
       "      <td>Tier 1</td>\n",
       "      <td>Supermarket Type1</td>\n",
       "      <td>3735.1380</td>\n",
       "    </tr>\n",
       "    <tr>\n",
       "      <th>1</th>\n",
       "      <td>DRC01</td>\n",
       "      <td>DR</td>\n",
       "      <td>1</td>\n",
       "      <td>5.92</td>\n",
       "      <td>Regular</td>\n",
       "      <td>0.019278</td>\n",
       "      <td>Soft Drinks</td>\n",
       "      <td>48.2692</td>\n",
       "      <td>OUT018</td>\n",
       "      <td>2009</td>\n",
       "      <td>Medium</td>\n",
       "      <td>Tier 3</td>\n",
       "      <td>Supermarket Type2</td>\n",
       "      <td>443.4228</td>\n",
       "    </tr>\n",
       "    <tr>\n",
       "      <th>2</th>\n",
       "      <td>FDN15</td>\n",
       "      <td>FD</td>\n",
       "      <td>15</td>\n",
       "      <td>17.50</td>\n",
       "      <td>Low Fat</td>\n",
       "      <td>0.016760</td>\n",
       "      <td>Meat</td>\n",
       "      <td>141.6180</td>\n",
       "      <td>OUT049</td>\n",
       "      <td>1999</td>\n",
       "      <td>Medium</td>\n",
       "      <td>Tier 1</td>\n",
       "      <td>Supermarket Type1</td>\n",
       "      <td>2097.2700</td>\n",
       "    </tr>\n",
       "    <tr>\n",
       "      <th>3</th>\n",
       "      <td>FDX07</td>\n",
       "      <td>FD</td>\n",
       "      <td>7</td>\n",
       "      <td>19.20</td>\n",
       "      <td>Regular</td>\n",
       "      <td>0.000000</td>\n",
       "      <td>Fruits and Vegetables</td>\n",
       "      <td>182.0950</td>\n",
       "      <td>OUT010</td>\n",
       "      <td>1998</td>\n",
       "      <td>NaN</td>\n",
       "      <td>Tier 3</td>\n",
       "      <td>Grocery Store</td>\n",
       "      <td>732.3800</td>\n",
       "    </tr>\n",
       "    <tr>\n",
       "      <th>4</th>\n",
       "      <td>NCD19</td>\n",
       "      <td>NC</td>\n",
       "      <td>19</td>\n",
       "      <td>8.93</td>\n",
       "      <td>Low Fat</td>\n",
       "      <td>0.000000</td>\n",
       "      <td>Household</td>\n",
       "      <td>53.8614</td>\n",
       "      <td>OUT013</td>\n",
       "      <td>1987</td>\n",
       "      <td>High</td>\n",
       "      <td>Tier 3</td>\n",
       "      <td>Supermarket Type1</td>\n",
       "      <td>994.7052</td>\n",
       "    </tr>\n",
       "  </tbody>\n",
       "</table>\n",
       "</div>"
      ],
      "text/plain": [
       "  Item_Identifier item_ide  item_ide_num  Item_Weight Item_Fat_Content  \\\n",
       "0           FDA15       FD            15         9.30          Low Fat   \n",
       "1           DRC01       DR             1         5.92          Regular   \n",
       "2           FDN15       FD            15        17.50          Low Fat   \n",
       "3           FDX07       FD             7        19.20          Regular   \n",
       "4           NCD19       NC            19         8.93          Low Fat   \n",
       "\n",
       "   Item_Visibility              Item_Type  Item_MRP Outlet_Identifier  \\\n",
       "0         0.016047                  Dairy  249.8092            OUT049   \n",
       "1         0.019278            Soft Drinks   48.2692            OUT018   \n",
       "2         0.016760                   Meat  141.6180            OUT049   \n",
       "3         0.000000  Fruits and Vegetables  182.0950            OUT010   \n",
       "4         0.000000              Household   53.8614            OUT013   \n",
       "\n",
       "   Outlet_Establishment_Year Outlet_Size Outlet_Location_Type  \\\n",
       "0                       1999      Medium               Tier 1   \n",
       "1                       2009      Medium               Tier 3   \n",
       "2                       1999      Medium               Tier 1   \n",
       "3                       1998         NaN               Tier 3   \n",
       "4                       1987        High               Tier 3   \n",
       "\n",
       "         Outlet_Type  Item_Outlet_Sales  \n",
       "0  Supermarket Type1          3735.1380  \n",
       "1  Supermarket Type2           443.4228  \n",
       "2  Supermarket Type1          2097.2700  \n",
       "3      Grocery Store           732.3800  \n",
       "4  Supermarket Type1           994.7052  "
      ]
     },
     "execution_count": 18,
     "metadata": {},
     "output_type": "execute_result"
    }
   ],
   "source": [
    "df.head()"
   ]
  },
  {
   "cell_type": "code",
   "execution_count": 19,
   "metadata": {},
   "outputs": [
    {
     "data": {
      "application/vnd.microsoft.datawrangler.viewer.v0+json": {
       "columns": [
        {
         "name": "index",
         "rawType": "object",
         "type": "string"
        },
        {
         "name": "0",
         "rawType": "object",
         "type": "unknown"
        }
       ],
       "ref": "f9823f69-5bec-4e2b-a19e-e23dbfdd19c2",
       "rows": [
        [
         "Item_Identifier",
         "object"
        ],
        [
         "item_ide",
         "object"
        ],
        [
         "item_ide_num",
         "int64"
        ],
        [
         "Item_Weight",
         "float64"
        ],
        [
         "Item_Fat_Content",
         "object"
        ],
        [
         "Item_Visibility",
         "float64"
        ],
        [
         "Item_Type",
         "object"
        ],
        [
         "Item_MRP",
         "float64"
        ],
        [
         "Outlet_Identifier",
         "object"
        ],
        [
         "Outlet_Establishment_Year",
         "int64"
        ],
        [
         "Outlet_Size",
         "object"
        ],
        [
         "Outlet_Location_Type",
         "object"
        ],
        [
         "Outlet_Type",
         "object"
        ],
        [
         "Item_Outlet_Sales",
         "float64"
        ]
       ],
       "shape": {
        "columns": 1,
        "rows": 14
       }
      },
      "text/plain": [
       "Item_Identifier               object\n",
       "item_ide                      object\n",
       "item_ide_num                   int64\n",
       "Item_Weight                  float64\n",
       "Item_Fat_Content              object\n",
       "Item_Visibility              float64\n",
       "Item_Type                     object\n",
       "Item_MRP                     float64\n",
       "Outlet_Identifier             object\n",
       "Outlet_Establishment_Year      int64\n",
       "Outlet_Size                   object\n",
       "Outlet_Location_Type          object\n",
       "Outlet_Type                   object\n",
       "Item_Outlet_Sales            float64\n",
       "dtype: object"
      ]
     },
     "execution_count": 19,
     "metadata": {},
     "output_type": "execute_result"
    }
   ],
   "source": [
    "df.dtypes"
   ]
  },
  {
   "cell_type": "code",
   "execution_count": 20,
   "metadata": {},
   "outputs": [
    {
     "data": {
      "text/plain": [
       "array(['Low Fat', 'Regular', 'low fat', 'LF', 'reg'], dtype=object)"
      ]
     },
     "execution_count": 20,
     "metadata": {},
     "output_type": "execute_result"
    }
   ],
   "source": [
    "df['Item_Fat_Content'].unique()"
   ]
  },
  {
   "cell_type": "code",
   "execution_count": 21,
   "metadata": {},
   "outputs": [
    {
     "data": {
      "text/plain": [
       "5"
      ]
     },
     "execution_count": 21,
     "metadata": {},
     "output_type": "execute_result"
    }
   ],
   "source": [
    "df['Item_Fat_Content'].nunique()"
   ]
  },
  {
   "cell_type": "code",
   "execution_count": 22,
   "metadata": {},
   "outputs": [
    {
     "data": {
      "text/plain": [
       "'Regular'"
      ]
     },
     "execution_count": 22,
     "metadata": {},
     "output_type": "execute_result"
    }
   ],
   "source": [
    "#python function for returning only Low Fat for (Low fat,LF,low fat) and Regular for (Regular,reg)\n",
    "\n",
    "def reg_lf(text):\n",
    "    if (text == 'Low Fat'):\n",
    "        return 'Low Fat'\n",
    "    elif(text == 'LF'):\n",
    "        return 'Low Fat'\n",
    "    elif(text == 'low fat'):\n",
    "        return 'Low Fat'\n",
    "    elif (text == 'Regular'):\n",
    "        return 'Regular'\n",
    "    elif(text == 'reg'):\n",
    "        return 'Regular'\n",
    "    \n",
    "reg_lf('reg')"
   ]
  },
  {
   "cell_type": "code",
   "execution_count": 23,
   "metadata": {},
   "outputs": [],
   "source": [
    "df['Item_Fat_Content']=df['Item_Fat_Content'].apply(reg_lf)"
   ]
  },
  {
   "cell_type": "code",
   "execution_count": 24,
   "metadata": {},
   "outputs": [
    {
     "data": {
      "application/vnd.microsoft.datawrangler.viewer.v0+json": {
       "columns": [
        {
         "name": "index",
         "rawType": "int64",
         "type": "integer"
        },
        {
         "name": "Item_Identifier",
         "rawType": "object",
         "type": "string"
        },
        {
         "name": "item_ide",
         "rawType": "object",
         "type": "string"
        },
        {
         "name": "item_ide_num",
         "rawType": "int64",
         "type": "integer"
        },
        {
         "name": "Item_Weight",
         "rawType": "float64",
         "type": "float"
        },
        {
         "name": "Item_Fat_Content",
         "rawType": "object",
         "type": "string"
        },
        {
         "name": "Item_Visibility",
         "rawType": "float64",
         "type": "float"
        },
        {
         "name": "Item_Type",
         "rawType": "object",
         "type": "string"
        },
        {
         "name": "Item_MRP",
         "rawType": "float64",
         "type": "float"
        },
        {
         "name": "Outlet_Identifier",
         "rawType": "object",
         "type": "string"
        },
        {
         "name": "Outlet_Establishment_Year",
         "rawType": "int64",
         "type": "integer"
        },
        {
         "name": "Outlet_Size",
         "rawType": "object",
         "type": "unknown"
        },
        {
         "name": "Outlet_Location_Type",
         "rawType": "object",
         "type": "string"
        },
        {
         "name": "Outlet_Type",
         "rawType": "object",
         "type": "string"
        },
        {
         "name": "Item_Outlet_Sales",
         "rawType": "float64",
         "type": "float"
        }
       ],
       "ref": "0b1150bb-ad3d-41a0-a38d-543597b7ca7b",
       "rows": [
        [
         "0",
         "FDA15",
         "FD",
         "15",
         "9.3",
         "Low Fat",
         "0.016047301",
         "Dairy",
         "249.8092",
         "OUT049",
         "1999",
         "Medium",
         "Tier 1",
         "Supermarket Type1",
         "3735.138"
        ],
        [
         "1",
         "DRC01",
         "DR",
         "1",
         "5.92",
         "Regular",
         "0.019278216",
         "Soft Drinks",
         "48.2692",
         "OUT018",
         "2009",
         "Medium",
         "Tier 3",
         "Supermarket Type2",
         "443.4228"
        ],
        [
         "2",
         "FDN15",
         "FD",
         "15",
         "17.5",
         "Low Fat",
         "0.016760075",
         "Meat",
         "141.618",
         "OUT049",
         "1999",
         "Medium",
         "Tier 1",
         "Supermarket Type1",
         "2097.27"
        ],
        [
         "3",
         "FDX07",
         "FD",
         "7",
         "19.2",
         "Regular",
         "0.0",
         "Fruits and Vegetables",
         "182.095",
         "OUT010",
         "1998",
         null,
         "Tier 3",
         "Grocery Store",
         "732.38"
        ],
        [
         "4",
         "NCD19",
         "NC",
         "19",
         "8.93",
         "Low Fat",
         "0.0",
         "Household",
         "53.8614",
         "OUT013",
         "1987",
         "High",
         "Tier 3",
         "Supermarket Type1",
         "994.7052"
        ]
       ],
       "shape": {
        "columns": 14,
        "rows": 5
       }
      },
      "text/html": [
       "<div>\n",
       "<style scoped>\n",
       "    .dataframe tbody tr th:only-of-type {\n",
       "        vertical-align: middle;\n",
       "    }\n",
       "\n",
       "    .dataframe tbody tr th {\n",
       "        vertical-align: top;\n",
       "    }\n",
       "\n",
       "    .dataframe thead th {\n",
       "        text-align: right;\n",
       "    }\n",
       "</style>\n",
       "<table border=\"1\" class=\"dataframe\">\n",
       "  <thead>\n",
       "    <tr style=\"text-align: right;\">\n",
       "      <th></th>\n",
       "      <th>Item_Identifier</th>\n",
       "      <th>item_ide</th>\n",
       "      <th>item_ide_num</th>\n",
       "      <th>Item_Weight</th>\n",
       "      <th>Item_Fat_Content</th>\n",
       "      <th>Item_Visibility</th>\n",
       "      <th>Item_Type</th>\n",
       "      <th>Item_MRP</th>\n",
       "      <th>Outlet_Identifier</th>\n",
       "      <th>Outlet_Establishment_Year</th>\n",
       "      <th>Outlet_Size</th>\n",
       "      <th>Outlet_Location_Type</th>\n",
       "      <th>Outlet_Type</th>\n",
       "      <th>Item_Outlet_Sales</th>\n",
       "    </tr>\n",
       "  </thead>\n",
       "  <tbody>\n",
       "    <tr>\n",
       "      <th>0</th>\n",
       "      <td>FDA15</td>\n",
       "      <td>FD</td>\n",
       "      <td>15</td>\n",
       "      <td>9.30</td>\n",
       "      <td>Low Fat</td>\n",
       "      <td>0.016047</td>\n",
       "      <td>Dairy</td>\n",
       "      <td>249.8092</td>\n",
       "      <td>OUT049</td>\n",
       "      <td>1999</td>\n",
       "      <td>Medium</td>\n",
       "      <td>Tier 1</td>\n",
       "      <td>Supermarket Type1</td>\n",
       "      <td>3735.1380</td>\n",
       "    </tr>\n",
       "    <tr>\n",
       "      <th>1</th>\n",
       "      <td>DRC01</td>\n",
       "      <td>DR</td>\n",
       "      <td>1</td>\n",
       "      <td>5.92</td>\n",
       "      <td>Regular</td>\n",
       "      <td>0.019278</td>\n",
       "      <td>Soft Drinks</td>\n",
       "      <td>48.2692</td>\n",
       "      <td>OUT018</td>\n",
       "      <td>2009</td>\n",
       "      <td>Medium</td>\n",
       "      <td>Tier 3</td>\n",
       "      <td>Supermarket Type2</td>\n",
       "      <td>443.4228</td>\n",
       "    </tr>\n",
       "    <tr>\n",
       "      <th>2</th>\n",
       "      <td>FDN15</td>\n",
       "      <td>FD</td>\n",
       "      <td>15</td>\n",
       "      <td>17.50</td>\n",
       "      <td>Low Fat</td>\n",
       "      <td>0.016760</td>\n",
       "      <td>Meat</td>\n",
       "      <td>141.6180</td>\n",
       "      <td>OUT049</td>\n",
       "      <td>1999</td>\n",
       "      <td>Medium</td>\n",
       "      <td>Tier 1</td>\n",
       "      <td>Supermarket Type1</td>\n",
       "      <td>2097.2700</td>\n",
       "    </tr>\n",
       "    <tr>\n",
       "      <th>3</th>\n",
       "      <td>FDX07</td>\n",
       "      <td>FD</td>\n",
       "      <td>7</td>\n",
       "      <td>19.20</td>\n",
       "      <td>Regular</td>\n",
       "      <td>0.000000</td>\n",
       "      <td>Fruits and Vegetables</td>\n",
       "      <td>182.0950</td>\n",
       "      <td>OUT010</td>\n",
       "      <td>1998</td>\n",
       "      <td>NaN</td>\n",
       "      <td>Tier 3</td>\n",
       "      <td>Grocery Store</td>\n",
       "      <td>732.3800</td>\n",
       "    </tr>\n",
       "    <tr>\n",
       "      <th>4</th>\n",
       "      <td>NCD19</td>\n",
       "      <td>NC</td>\n",
       "      <td>19</td>\n",
       "      <td>8.93</td>\n",
       "      <td>Low Fat</td>\n",
       "      <td>0.000000</td>\n",
       "      <td>Household</td>\n",
       "      <td>53.8614</td>\n",
       "      <td>OUT013</td>\n",
       "      <td>1987</td>\n",
       "      <td>High</td>\n",
       "      <td>Tier 3</td>\n",
       "      <td>Supermarket Type1</td>\n",
       "      <td>994.7052</td>\n",
       "    </tr>\n",
       "  </tbody>\n",
       "</table>\n",
       "</div>"
      ],
      "text/plain": [
       "  Item_Identifier item_ide  item_ide_num  Item_Weight Item_Fat_Content  \\\n",
       "0           FDA15       FD            15         9.30          Low Fat   \n",
       "1           DRC01       DR             1         5.92          Regular   \n",
       "2           FDN15       FD            15        17.50          Low Fat   \n",
       "3           FDX07       FD             7        19.20          Regular   \n",
       "4           NCD19       NC            19         8.93          Low Fat   \n",
       "\n",
       "   Item_Visibility              Item_Type  Item_MRP Outlet_Identifier  \\\n",
       "0         0.016047                  Dairy  249.8092            OUT049   \n",
       "1         0.019278            Soft Drinks   48.2692            OUT018   \n",
       "2         0.016760                   Meat  141.6180            OUT049   \n",
       "3         0.000000  Fruits and Vegetables  182.0950            OUT010   \n",
       "4         0.000000              Household   53.8614            OUT013   \n",
       "\n",
       "   Outlet_Establishment_Year Outlet_Size Outlet_Location_Type  \\\n",
       "0                       1999      Medium               Tier 1   \n",
       "1                       2009      Medium               Tier 3   \n",
       "2                       1999      Medium               Tier 1   \n",
       "3                       1998         NaN               Tier 3   \n",
       "4                       1987        High               Tier 3   \n",
       "\n",
       "         Outlet_Type  Item_Outlet_Sales  \n",
       "0  Supermarket Type1          3735.1380  \n",
       "1  Supermarket Type2           443.4228  \n",
       "2  Supermarket Type1          2097.2700  \n",
       "3      Grocery Store           732.3800  \n",
       "4  Supermarket Type1           994.7052  "
      ]
     },
     "execution_count": 24,
     "metadata": {},
     "output_type": "execute_result"
    }
   ],
   "source": [
    "df.head()"
   ]
  },
  {
   "cell_type": "code",
   "execution_count": 25,
   "metadata": {},
   "outputs": [
    {
     "data": {
      "text/plain": [
       "array(['Low Fat', 'Regular'], dtype=object)"
      ]
     },
     "execution_count": 25,
     "metadata": {},
     "output_type": "execute_result"
    }
   ],
   "source": [
    "df['Item_Fat_Content'].unique()"
   ]
  },
  {
   "cell_type": "code",
   "execution_count": 26,
   "metadata": {},
   "outputs": [
    {
     "data": {
      "application/vnd.microsoft.datawrangler.viewer.v0+json": {
       "columns": [
        {
         "name": "index",
         "rawType": "int64",
         "type": "integer"
        },
        {
         "name": "Item_Identifier",
         "rawType": "object",
         "type": "string"
        },
        {
         "name": "item_ide",
         "rawType": "object",
         "type": "string"
        },
        {
         "name": "item_ide_num",
         "rawType": "int64",
         "type": "integer"
        },
        {
         "name": "Item_Weight",
         "rawType": "float64",
         "type": "float"
        },
        {
         "name": "Item_Fat_Content",
         "rawType": "object",
         "type": "string"
        },
        {
         "name": "Item_Visibility",
         "rawType": "float64",
         "type": "float"
        },
        {
         "name": "Item_Type",
         "rawType": "object",
         "type": "string"
        },
        {
         "name": "Item_MRP",
         "rawType": "float64",
         "type": "float"
        },
        {
         "name": "Outlet_Identifier",
         "rawType": "object",
         "type": "string"
        },
        {
         "name": "Outlet_Establishment_Year",
         "rawType": "int64",
         "type": "integer"
        },
        {
         "name": "Outlet_Size",
         "rawType": "object",
         "type": "unknown"
        },
        {
         "name": "Outlet_Location_Type",
         "rawType": "object",
         "type": "string"
        },
        {
         "name": "Outlet_Type",
         "rawType": "object",
         "type": "string"
        },
        {
         "name": "Item_Outlet_Sales",
         "rawType": "float64",
         "type": "float"
        }
       ],
       "ref": "61d4698d-7c38-4168-91a1-ecc3cd8babfe",
       "rows": [
        [
         "0",
         "FDA15",
         "FD",
         "15",
         "9.3",
         "Low Fat",
         "0.016047301",
         "Dairy",
         "249.8092",
         "OUT049",
         "1999",
         "Medium",
         "Tier 1",
         "Supermarket Type1",
         "3735.138"
        ],
        [
         "1",
         "DRC01",
         "DR",
         "1",
         "5.92",
         "Regular",
         "0.019278216",
         "Soft Drinks",
         "48.2692",
         "OUT018",
         "2009",
         "Medium",
         "Tier 3",
         "Supermarket Type2",
         "443.4228"
        ],
        [
         "2",
         "FDN15",
         "FD",
         "15",
         "17.5",
         "Low Fat",
         "0.016760075",
         "Meat",
         "141.618",
         "OUT049",
         "1999",
         "Medium",
         "Tier 1",
         "Supermarket Type1",
         "2097.27"
        ],
        [
         "3",
         "FDX07",
         "FD",
         "7",
         "19.2",
         "Regular",
         "0.0",
         "Fruits and Vegetables",
         "182.095",
         "OUT010",
         "1998",
         null,
         "Tier 3",
         "Grocery Store",
         "732.38"
        ],
        [
         "4",
         "NCD19",
         "NC",
         "19",
         "8.93",
         "Low Fat",
         "0.0",
         "Household",
         "53.8614",
         "OUT013",
         "1987",
         "High",
         "Tier 3",
         "Supermarket Type1",
         "994.7052"
        ]
       ],
       "shape": {
        "columns": 14,
        "rows": 5
       }
      },
      "text/html": [
       "<div>\n",
       "<style scoped>\n",
       "    .dataframe tbody tr th:only-of-type {\n",
       "        vertical-align: middle;\n",
       "    }\n",
       "\n",
       "    .dataframe tbody tr th {\n",
       "        vertical-align: top;\n",
       "    }\n",
       "\n",
       "    .dataframe thead th {\n",
       "        text-align: right;\n",
       "    }\n",
       "</style>\n",
       "<table border=\"1\" class=\"dataframe\">\n",
       "  <thead>\n",
       "    <tr style=\"text-align: right;\">\n",
       "      <th></th>\n",
       "      <th>Item_Identifier</th>\n",
       "      <th>item_ide</th>\n",
       "      <th>item_ide_num</th>\n",
       "      <th>Item_Weight</th>\n",
       "      <th>Item_Fat_Content</th>\n",
       "      <th>Item_Visibility</th>\n",
       "      <th>Item_Type</th>\n",
       "      <th>Item_MRP</th>\n",
       "      <th>Outlet_Identifier</th>\n",
       "      <th>Outlet_Establishment_Year</th>\n",
       "      <th>Outlet_Size</th>\n",
       "      <th>Outlet_Location_Type</th>\n",
       "      <th>Outlet_Type</th>\n",
       "      <th>Item_Outlet_Sales</th>\n",
       "    </tr>\n",
       "  </thead>\n",
       "  <tbody>\n",
       "    <tr>\n",
       "      <th>0</th>\n",
       "      <td>FDA15</td>\n",
       "      <td>FD</td>\n",
       "      <td>15</td>\n",
       "      <td>9.30</td>\n",
       "      <td>Low Fat</td>\n",
       "      <td>0.016047</td>\n",
       "      <td>Dairy</td>\n",
       "      <td>249.8092</td>\n",
       "      <td>OUT049</td>\n",
       "      <td>1999</td>\n",
       "      <td>Medium</td>\n",
       "      <td>Tier 1</td>\n",
       "      <td>Supermarket Type1</td>\n",
       "      <td>3735.1380</td>\n",
       "    </tr>\n",
       "    <tr>\n",
       "      <th>1</th>\n",
       "      <td>DRC01</td>\n",
       "      <td>DR</td>\n",
       "      <td>1</td>\n",
       "      <td>5.92</td>\n",
       "      <td>Regular</td>\n",
       "      <td>0.019278</td>\n",
       "      <td>Soft Drinks</td>\n",
       "      <td>48.2692</td>\n",
       "      <td>OUT018</td>\n",
       "      <td>2009</td>\n",
       "      <td>Medium</td>\n",
       "      <td>Tier 3</td>\n",
       "      <td>Supermarket Type2</td>\n",
       "      <td>443.4228</td>\n",
       "    </tr>\n",
       "    <tr>\n",
       "      <th>2</th>\n",
       "      <td>FDN15</td>\n",
       "      <td>FD</td>\n",
       "      <td>15</td>\n",
       "      <td>17.50</td>\n",
       "      <td>Low Fat</td>\n",
       "      <td>0.016760</td>\n",
       "      <td>Meat</td>\n",
       "      <td>141.6180</td>\n",
       "      <td>OUT049</td>\n",
       "      <td>1999</td>\n",
       "      <td>Medium</td>\n",
       "      <td>Tier 1</td>\n",
       "      <td>Supermarket Type1</td>\n",
       "      <td>2097.2700</td>\n",
       "    </tr>\n",
       "    <tr>\n",
       "      <th>3</th>\n",
       "      <td>FDX07</td>\n",
       "      <td>FD</td>\n",
       "      <td>7</td>\n",
       "      <td>19.20</td>\n",
       "      <td>Regular</td>\n",
       "      <td>0.000000</td>\n",
       "      <td>Fruits and Vegetables</td>\n",
       "      <td>182.0950</td>\n",
       "      <td>OUT010</td>\n",
       "      <td>1998</td>\n",
       "      <td>NaN</td>\n",
       "      <td>Tier 3</td>\n",
       "      <td>Grocery Store</td>\n",
       "      <td>732.3800</td>\n",
       "    </tr>\n",
       "    <tr>\n",
       "      <th>4</th>\n",
       "      <td>NCD19</td>\n",
       "      <td>NC</td>\n",
       "      <td>19</td>\n",
       "      <td>8.93</td>\n",
       "      <td>Low Fat</td>\n",
       "      <td>0.000000</td>\n",
       "      <td>Household</td>\n",
       "      <td>53.8614</td>\n",
       "      <td>OUT013</td>\n",
       "      <td>1987</td>\n",
       "      <td>High</td>\n",
       "      <td>Tier 3</td>\n",
       "      <td>Supermarket Type1</td>\n",
       "      <td>994.7052</td>\n",
       "    </tr>\n",
       "  </tbody>\n",
       "</table>\n",
       "</div>"
      ],
      "text/plain": [
       "  Item_Identifier item_ide  item_ide_num  Item_Weight Item_Fat_Content  \\\n",
       "0           FDA15       FD            15         9.30          Low Fat   \n",
       "1           DRC01       DR             1         5.92          Regular   \n",
       "2           FDN15       FD            15        17.50          Low Fat   \n",
       "3           FDX07       FD             7        19.20          Regular   \n",
       "4           NCD19       NC            19         8.93          Low Fat   \n",
       "\n",
       "   Item_Visibility              Item_Type  Item_MRP Outlet_Identifier  \\\n",
       "0         0.016047                  Dairy  249.8092            OUT049   \n",
       "1         0.019278            Soft Drinks   48.2692            OUT018   \n",
       "2         0.016760                   Meat  141.6180            OUT049   \n",
       "3         0.000000  Fruits and Vegetables  182.0950            OUT010   \n",
       "4         0.000000              Household   53.8614            OUT013   \n",
       "\n",
       "   Outlet_Establishment_Year Outlet_Size Outlet_Location_Type  \\\n",
       "0                       1999      Medium               Tier 1   \n",
       "1                       2009      Medium               Tier 3   \n",
       "2                       1999      Medium               Tier 1   \n",
       "3                       1998         NaN               Tier 3   \n",
       "4                       1987        High               Tier 3   \n",
       "\n",
       "         Outlet_Type  Item_Outlet_Sales  \n",
       "0  Supermarket Type1          3735.1380  \n",
       "1  Supermarket Type2           443.4228  \n",
       "2  Supermarket Type1          2097.2700  \n",
       "3      Grocery Store           732.3800  \n",
       "4  Supermarket Type1           994.7052  "
      ]
     },
     "execution_count": 26,
     "metadata": {},
     "output_type": "execute_result"
    }
   ],
   "source": [
    "df.head()"
   ]
  },
  {
   "cell_type": "code",
   "execution_count": 27,
   "metadata": {},
   "outputs": [
    {
     "data": {
      "text/plain": [
       "array(['OUT049', 'OUT018', 'OUT010', 'OUT013', 'OUT027', 'OUT045',\n",
       "       'OUT017', 'OUT046', 'OUT035', 'OUT019'], dtype=object)"
      ]
     },
     "execution_count": 27,
     "metadata": {},
     "output_type": "execute_result"
    }
   ],
   "source": [
    "df['Outlet_Identifier'].unique()"
   ]
  },
  {
   "cell_type": "code",
   "execution_count": 28,
   "metadata": {},
   "outputs": [],
   "source": [
    "df['Outlet_Identifier']=df['Outlet_Identifier'].apply(last_two_characters)"
   ]
  },
  {
   "cell_type": "code",
   "execution_count": 29,
   "metadata": {},
   "outputs": [
    {
     "data": {
      "application/vnd.microsoft.datawrangler.viewer.v0+json": {
       "columns": [
        {
         "name": "index",
         "rawType": "int64",
         "type": "integer"
        },
        {
         "name": "Item_Identifier",
         "rawType": "object",
         "type": "string"
        },
        {
         "name": "item_ide",
         "rawType": "object",
         "type": "string"
        },
        {
         "name": "item_ide_num",
         "rawType": "int64",
         "type": "integer"
        },
        {
         "name": "Item_Weight",
         "rawType": "float64",
         "type": "float"
        },
        {
         "name": "Item_Fat_Content",
         "rawType": "object",
         "type": "string"
        },
        {
         "name": "Item_Visibility",
         "rawType": "float64",
         "type": "float"
        },
        {
         "name": "Item_Type",
         "rawType": "object",
         "type": "string"
        },
        {
         "name": "Item_MRP",
         "rawType": "float64",
         "type": "float"
        },
        {
         "name": "Outlet_Identifier",
         "rawType": "int64",
         "type": "integer"
        },
        {
         "name": "Outlet_Establishment_Year",
         "rawType": "int64",
         "type": "integer"
        },
        {
         "name": "Outlet_Size",
         "rawType": "object",
         "type": "unknown"
        },
        {
         "name": "Outlet_Location_Type",
         "rawType": "object",
         "type": "string"
        },
        {
         "name": "Outlet_Type",
         "rawType": "object",
         "type": "string"
        },
        {
         "name": "Item_Outlet_Sales",
         "rawType": "float64",
         "type": "float"
        }
       ],
       "ref": "cbd4938f-325a-4d79-8cd5-21e04b97f4c1",
       "rows": [
        [
         "0",
         "FDA15",
         "FD",
         "15",
         "9.3",
         "Low Fat",
         "0.016047301",
         "Dairy",
         "249.8092",
         "49",
         "1999",
         "Medium",
         "Tier 1",
         "Supermarket Type1",
         "3735.138"
        ],
        [
         "1",
         "DRC01",
         "DR",
         "1",
         "5.92",
         "Regular",
         "0.019278216",
         "Soft Drinks",
         "48.2692",
         "18",
         "2009",
         "Medium",
         "Tier 3",
         "Supermarket Type2",
         "443.4228"
        ],
        [
         "2",
         "FDN15",
         "FD",
         "15",
         "17.5",
         "Low Fat",
         "0.016760075",
         "Meat",
         "141.618",
         "49",
         "1999",
         "Medium",
         "Tier 1",
         "Supermarket Type1",
         "2097.27"
        ],
        [
         "3",
         "FDX07",
         "FD",
         "7",
         "19.2",
         "Regular",
         "0.0",
         "Fruits and Vegetables",
         "182.095",
         "10",
         "1998",
         null,
         "Tier 3",
         "Grocery Store",
         "732.38"
        ],
        [
         "4",
         "NCD19",
         "NC",
         "19",
         "8.93",
         "Low Fat",
         "0.0",
         "Household",
         "53.8614",
         "13",
         "1987",
         "High",
         "Tier 3",
         "Supermarket Type1",
         "994.7052"
        ]
       ],
       "shape": {
        "columns": 14,
        "rows": 5
       }
      },
      "text/html": [
       "<div>\n",
       "<style scoped>\n",
       "    .dataframe tbody tr th:only-of-type {\n",
       "        vertical-align: middle;\n",
       "    }\n",
       "\n",
       "    .dataframe tbody tr th {\n",
       "        vertical-align: top;\n",
       "    }\n",
       "\n",
       "    .dataframe thead th {\n",
       "        text-align: right;\n",
       "    }\n",
       "</style>\n",
       "<table border=\"1\" class=\"dataframe\">\n",
       "  <thead>\n",
       "    <tr style=\"text-align: right;\">\n",
       "      <th></th>\n",
       "      <th>Item_Identifier</th>\n",
       "      <th>item_ide</th>\n",
       "      <th>item_ide_num</th>\n",
       "      <th>Item_Weight</th>\n",
       "      <th>Item_Fat_Content</th>\n",
       "      <th>Item_Visibility</th>\n",
       "      <th>Item_Type</th>\n",
       "      <th>Item_MRP</th>\n",
       "      <th>Outlet_Identifier</th>\n",
       "      <th>Outlet_Establishment_Year</th>\n",
       "      <th>Outlet_Size</th>\n",
       "      <th>Outlet_Location_Type</th>\n",
       "      <th>Outlet_Type</th>\n",
       "      <th>Item_Outlet_Sales</th>\n",
       "    </tr>\n",
       "  </thead>\n",
       "  <tbody>\n",
       "    <tr>\n",
       "      <th>0</th>\n",
       "      <td>FDA15</td>\n",
       "      <td>FD</td>\n",
       "      <td>15</td>\n",
       "      <td>9.30</td>\n",
       "      <td>Low Fat</td>\n",
       "      <td>0.016047</td>\n",
       "      <td>Dairy</td>\n",
       "      <td>249.8092</td>\n",
       "      <td>49</td>\n",
       "      <td>1999</td>\n",
       "      <td>Medium</td>\n",
       "      <td>Tier 1</td>\n",
       "      <td>Supermarket Type1</td>\n",
       "      <td>3735.1380</td>\n",
       "    </tr>\n",
       "    <tr>\n",
       "      <th>1</th>\n",
       "      <td>DRC01</td>\n",
       "      <td>DR</td>\n",
       "      <td>1</td>\n",
       "      <td>5.92</td>\n",
       "      <td>Regular</td>\n",
       "      <td>0.019278</td>\n",
       "      <td>Soft Drinks</td>\n",
       "      <td>48.2692</td>\n",
       "      <td>18</td>\n",
       "      <td>2009</td>\n",
       "      <td>Medium</td>\n",
       "      <td>Tier 3</td>\n",
       "      <td>Supermarket Type2</td>\n",
       "      <td>443.4228</td>\n",
       "    </tr>\n",
       "    <tr>\n",
       "      <th>2</th>\n",
       "      <td>FDN15</td>\n",
       "      <td>FD</td>\n",
       "      <td>15</td>\n",
       "      <td>17.50</td>\n",
       "      <td>Low Fat</td>\n",
       "      <td>0.016760</td>\n",
       "      <td>Meat</td>\n",
       "      <td>141.6180</td>\n",
       "      <td>49</td>\n",
       "      <td>1999</td>\n",
       "      <td>Medium</td>\n",
       "      <td>Tier 1</td>\n",
       "      <td>Supermarket Type1</td>\n",
       "      <td>2097.2700</td>\n",
       "    </tr>\n",
       "    <tr>\n",
       "      <th>3</th>\n",
       "      <td>FDX07</td>\n",
       "      <td>FD</td>\n",
       "      <td>7</td>\n",
       "      <td>19.20</td>\n",
       "      <td>Regular</td>\n",
       "      <td>0.000000</td>\n",
       "      <td>Fruits and Vegetables</td>\n",
       "      <td>182.0950</td>\n",
       "      <td>10</td>\n",
       "      <td>1998</td>\n",
       "      <td>NaN</td>\n",
       "      <td>Tier 3</td>\n",
       "      <td>Grocery Store</td>\n",
       "      <td>732.3800</td>\n",
       "    </tr>\n",
       "    <tr>\n",
       "      <th>4</th>\n",
       "      <td>NCD19</td>\n",
       "      <td>NC</td>\n",
       "      <td>19</td>\n",
       "      <td>8.93</td>\n",
       "      <td>Low Fat</td>\n",
       "      <td>0.000000</td>\n",
       "      <td>Household</td>\n",
       "      <td>53.8614</td>\n",
       "      <td>13</td>\n",
       "      <td>1987</td>\n",
       "      <td>High</td>\n",
       "      <td>Tier 3</td>\n",
       "      <td>Supermarket Type1</td>\n",
       "      <td>994.7052</td>\n",
       "    </tr>\n",
       "  </tbody>\n",
       "</table>\n",
       "</div>"
      ],
      "text/plain": [
       "  Item_Identifier item_ide  item_ide_num  Item_Weight Item_Fat_Content  \\\n",
       "0           FDA15       FD            15         9.30          Low Fat   \n",
       "1           DRC01       DR             1         5.92          Regular   \n",
       "2           FDN15       FD            15        17.50          Low Fat   \n",
       "3           FDX07       FD             7        19.20          Regular   \n",
       "4           NCD19       NC            19         8.93          Low Fat   \n",
       "\n",
       "   Item_Visibility              Item_Type  Item_MRP  Outlet_Identifier  \\\n",
       "0         0.016047                  Dairy  249.8092                 49   \n",
       "1         0.019278            Soft Drinks   48.2692                 18   \n",
       "2         0.016760                   Meat  141.6180                 49   \n",
       "3         0.000000  Fruits and Vegetables  182.0950                 10   \n",
       "4         0.000000              Household   53.8614                 13   \n",
       "\n",
       "   Outlet_Establishment_Year Outlet_Size Outlet_Location_Type  \\\n",
       "0                       1999      Medium               Tier 1   \n",
       "1                       2009      Medium               Tier 3   \n",
       "2                       1999      Medium               Tier 1   \n",
       "3                       1998         NaN               Tier 3   \n",
       "4                       1987        High               Tier 3   \n",
       "\n",
       "         Outlet_Type  Item_Outlet_Sales  \n",
       "0  Supermarket Type1          3735.1380  \n",
       "1  Supermarket Type2           443.4228  \n",
       "2  Supermarket Type1          2097.2700  \n",
       "3      Grocery Store           732.3800  \n",
       "4  Supermarket Type1           994.7052  "
      ]
     },
     "execution_count": 29,
     "metadata": {},
     "output_type": "execute_result"
    }
   ],
   "source": [
    "df.head()"
   ]
  },
  {
   "cell_type": "code",
   "execution_count": 30,
   "metadata": {},
   "outputs": [],
   "source": [
    "df['Outlet_Establishment_Year']=2024-df['Outlet_Establishment_Year']"
   ]
  },
  {
   "cell_type": "code",
   "execution_count": 31,
   "metadata": {},
   "outputs": [
    {
     "data": {
      "application/vnd.microsoft.datawrangler.viewer.v0+json": {
       "columns": [
        {
         "name": "index",
         "rawType": "int64",
         "type": "integer"
        },
        {
         "name": "Item_Identifier",
         "rawType": "object",
         "type": "string"
        },
        {
         "name": "item_ide",
         "rawType": "object",
         "type": "string"
        },
        {
         "name": "item_ide_num",
         "rawType": "int64",
         "type": "integer"
        },
        {
         "name": "Item_Weight",
         "rawType": "float64",
         "type": "float"
        },
        {
         "name": "Item_Fat_Content",
         "rawType": "object",
         "type": "string"
        },
        {
         "name": "Item_Visibility",
         "rawType": "float64",
         "type": "float"
        },
        {
         "name": "Item_Type",
         "rawType": "object",
         "type": "string"
        },
        {
         "name": "Item_MRP",
         "rawType": "float64",
         "type": "float"
        },
        {
         "name": "Outlet_Identifier",
         "rawType": "int64",
         "type": "integer"
        },
        {
         "name": "Outlet_Establishment_Year",
         "rawType": "int64",
         "type": "integer"
        },
        {
         "name": "Outlet_Size",
         "rawType": "object",
         "type": "unknown"
        },
        {
         "name": "Outlet_Location_Type",
         "rawType": "object",
         "type": "string"
        },
        {
         "name": "Outlet_Type",
         "rawType": "object",
         "type": "string"
        },
        {
         "name": "Item_Outlet_Sales",
         "rawType": "float64",
         "type": "float"
        }
       ],
       "ref": "dc0d007b-1c8c-48e1-96b8-bd8ccb5fdddd",
       "rows": [
        [
         "0",
         "FDA15",
         "FD",
         "15",
         "9.3",
         "Low Fat",
         "0.016047301",
         "Dairy",
         "249.8092",
         "49",
         "25",
         "Medium",
         "Tier 1",
         "Supermarket Type1",
         "3735.138"
        ],
        [
         "1",
         "DRC01",
         "DR",
         "1",
         "5.92",
         "Regular",
         "0.019278216",
         "Soft Drinks",
         "48.2692",
         "18",
         "15",
         "Medium",
         "Tier 3",
         "Supermarket Type2",
         "443.4228"
        ],
        [
         "2",
         "FDN15",
         "FD",
         "15",
         "17.5",
         "Low Fat",
         "0.016760075",
         "Meat",
         "141.618",
         "49",
         "25",
         "Medium",
         "Tier 1",
         "Supermarket Type1",
         "2097.27"
        ],
        [
         "3",
         "FDX07",
         "FD",
         "7",
         "19.2",
         "Regular",
         "0.0",
         "Fruits and Vegetables",
         "182.095",
         "10",
         "26",
         null,
         "Tier 3",
         "Grocery Store",
         "732.38"
        ],
        [
         "4",
         "NCD19",
         "NC",
         "19",
         "8.93",
         "Low Fat",
         "0.0",
         "Household",
         "53.8614",
         "13",
         "37",
         "High",
         "Tier 3",
         "Supermarket Type1",
         "994.7052"
        ]
       ],
       "shape": {
        "columns": 14,
        "rows": 5
       }
      },
      "text/html": [
       "<div>\n",
       "<style scoped>\n",
       "    .dataframe tbody tr th:only-of-type {\n",
       "        vertical-align: middle;\n",
       "    }\n",
       "\n",
       "    .dataframe tbody tr th {\n",
       "        vertical-align: top;\n",
       "    }\n",
       "\n",
       "    .dataframe thead th {\n",
       "        text-align: right;\n",
       "    }\n",
       "</style>\n",
       "<table border=\"1\" class=\"dataframe\">\n",
       "  <thead>\n",
       "    <tr style=\"text-align: right;\">\n",
       "      <th></th>\n",
       "      <th>Item_Identifier</th>\n",
       "      <th>item_ide</th>\n",
       "      <th>item_ide_num</th>\n",
       "      <th>Item_Weight</th>\n",
       "      <th>Item_Fat_Content</th>\n",
       "      <th>Item_Visibility</th>\n",
       "      <th>Item_Type</th>\n",
       "      <th>Item_MRP</th>\n",
       "      <th>Outlet_Identifier</th>\n",
       "      <th>Outlet_Establishment_Year</th>\n",
       "      <th>Outlet_Size</th>\n",
       "      <th>Outlet_Location_Type</th>\n",
       "      <th>Outlet_Type</th>\n",
       "      <th>Item_Outlet_Sales</th>\n",
       "    </tr>\n",
       "  </thead>\n",
       "  <tbody>\n",
       "    <tr>\n",
       "      <th>0</th>\n",
       "      <td>FDA15</td>\n",
       "      <td>FD</td>\n",
       "      <td>15</td>\n",
       "      <td>9.30</td>\n",
       "      <td>Low Fat</td>\n",
       "      <td>0.016047</td>\n",
       "      <td>Dairy</td>\n",
       "      <td>249.8092</td>\n",
       "      <td>49</td>\n",
       "      <td>25</td>\n",
       "      <td>Medium</td>\n",
       "      <td>Tier 1</td>\n",
       "      <td>Supermarket Type1</td>\n",
       "      <td>3735.1380</td>\n",
       "    </tr>\n",
       "    <tr>\n",
       "      <th>1</th>\n",
       "      <td>DRC01</td>\n",
       "      <td>DR</td>\n",
       "      <td>1</td>\n",
       "      <td>5.92</td>\n",
       "      <td>Regular</td>\n",
       "      <td>0.019278</td>\n",
       "      <td>Soft Drinks</td>\n",
       "      <td>48.2692</td>\n",
       "      <td>18</td>\n",
       "      <td>15</td>\n",
       "      <td>Medium</td>\n",
       "      <td>Tier 3</td>\n",
       "      <td>Supermarket Type2</td>\n",
       "      <td>443.4228</td>\n",
       "    </tr>\n",
       "    <tr>\n",
       "      <th>2</th>\n",
       "      <td>FDN15</td>\n",
       "      <td>FD</td>\n",
       "      <td>15</td>\n",
       "      <td>17.50</td>\n",
       "      <td>Low Fat</td>\n",
       "      <td>0.016760</td>\n",
       "      <td>Meat</td>\n",
       "      <td>141.6180</td>\n",
       "      <td>49</td>\n",
       "      <td>25</td>\n",
       "      <td>Medium</td>\n",
       "      <td>Tier 1</td>\n",
       "      <td>Supermarket Type1</td>\n",
       "      <td>2097.2700</td>\n",
       "    </tr>\n",
       "    <tr>\n",
       "      <th>3</th>\n",
       "      <td>FDX07</td>\n",
       "      <td>FD</td>\n",
       "      <td>7</td>\n",
       "      <td>19.20</td>\n",
       "      <td>Regular</td>\n",
       "      <td>0.000000</td>\n",
       "      <td>Fruits and Vegetables</td>\n",
       "      <td>182.0950</td>\n",
       "      <td>10</td>\n",
       "      <td>26</td>\n",
       "      <td>NaN</td>\n",
       "      <td>Tier 3</td>\n",
       "      <td>Grocery Store</td>\n",
       "      <td>732.3800</td>\n",
       "    </tr>\n",
       "    <tr>\n",
       "      <th>4</th>\n",
       "      <td>NCD19</td>\n",
       "      <td>NC</td>\n",
       "      <td>19</td>\n",
       "      <td>8.93</td>\n",
       "      <td>Low Fat</td>\n",
       "      <td>0.000000</td>\n",
       "      <td>Household</td>\n",
       "      <td>53.8614</td>\n",
       "      <td>13</td>\n",
       "      <td>37</td>\n",
       "      <td>High</td>\n",
       "      <td>Tier 3</td>\n",
       "      <td>Supermarket Type1</td>\n",
       "      <td>994.7052</td>\n",
       "    </tr>\n",
       "  </tbody>\n",
       "</table>\n",
       "</div>"
      ],
      "text/plain": [
       "  Item_Identifier item_ide  item_ide_num  Item_Weight Item_Fat_Content  \\\n",
       "0           FDA15       FD            15         9.30          Low Fat   \n",
       "1           DRC01       DR             1         5.92          Regular   \n",
       "2           FDN15       FD            15        17.50          Low Fat   \n",
       "3           FDX07       FD             7        19.20          Regular   \n",
       "4           NCD19       NC            19         8.93          Low Fat   \n",
       "\n",
       "   Item_Visibility              Item_Type  Item_MRP  Outlet_Identifier  \\\n",
       "0         0.016047                  Dairy  249.8092                 49   \n",
       "1         0.019278            Soft Drinks   48.2692                 18   \n",
       "2         0.016760                   Meat  141.6180                 49   \n",
       "3         0.000000  Fruits and Vegetables  182.0950                 10   \n",
       "4         0.000000              Household   53.8614                 13   \n",
       "\n",
       "   Outlet_Establishment_Year Outlet_Size Outlet_Location_Type  \\\n",
       "0                         25      Medium               Tier 1   \n",
       "1                         15      Medium               Tier 3   \n",
       "2                         25      Medium               Tier 1   \n",
       "3                         26         NaN               Tier 3   \n",
       "4                         37        High               Tier 3   \n",
       "\n",
       "         Outlet_Type  Item_Outlet_Sales  \n",
       "0  Supermarket Type1          3735.1380  \n",
       "1  Supermarket Type2           443.4228  \n",
       "2  Supermarket Type1          2097.2700  \n",
       "3      Grocery Store           732.3800  \n",
       "4  Supermarket Type1           994.7052  "
      ]
     },
     "execution_count": 31,
     "metadata": {},
     "output_type": "execute_result"
    }
   ],
   "source": [
    "df.head()"
   ]
  },
  {
   "cell_type": "code",
   "execution_count": 32,
   "metadata": {},
   "outputs": [
    {
     "data": {
      "text/plain": [
       "array(['Supermarket Type1', 'Supermarket Type2', 'Grocery Store',\n",
       "       'Supermarket Type3'], dtype=object)"
      ]
     },
     "execution_count": 32,
     "metadata": {},
     "output_type": "execute_result"
    }
   ],
   "source": [
    "df['Outlet_Type'].unique()"
   ]
  },
  {
   "cell_type": "code",
   "execution_count": 33,
   "metadata": {},
   "outputs": [
    {
     "data": {
      "text/plain": [
       "array(['Medium', nan, 'High', 'Small'], dtype=object)"
      ]
     },
     "execution_count": 33,
     "metadata": {},
     "output_type": "execute_result"
    }
   ],
   "source": [
    "df['Outlet_Size'].unique()"
   ]
  },
  {
   "cell_type": "code",
   "execution_count": 34,
   "metadata": {},
   "outputs": [
    {
     "data": {
      "image/png": "[encoded data removed]",
      "text/plain": [
       "<Figure size 640x480 with 1 Axes>"
      ]
     },
     "metadata": {},
     "output_type": "display_data"
    }
   ],
   "source": [
    "plt.hist(df['Item_Outlet_Sales'])\n",
    "plt.show()"
   ]
  },
  {
   "cell_type": "code",
   "execution_count": 35,
   "metadata": {},
   "outputs": [
    {
     "data": {
      "image/png": "[encoded data removed]",
      "text/plain": [
       "<Figure size 640x480 with 1 Axes>"
      ]
     },
     "metadata": {},
     "output_type": "display_data"
    }
   ],
   "source": [
    "plt.hist(np.log(df['Item_Outlet_Sales']))\n",
    "plt.show()"
   ]
  },
  {
   "cell_type": "code",
   "execution_count": 36,
   "metadata": {},
   "outputs": [
    {
     "data": {
      "text/plain": [
       "<Axes: ylabel='Item_Outlet_Sales'>"
      ]
     },
     "execution_count": 36,
     "metadata": {},
     "output_type": "execute_result"
    },
    {
     "data": {
      "image/png": "[encoded data removed]",
      "text/plain": [
       "<Figure size 640x480 with 1 Axes>"
      ]
     },
     "metadata": {},
     "output_type": "display_data"
    }
   ],
   "source": [
    "sns.boxplot(df['Item_Outlet_Sales'])"
   ]
  },
  {
   "cell_type": "code",
   "execution_count": 37,
   "metadata": {},
   "outputs": [
    {
     "data": {
      "text/plain": [
       "<Axes: ylabel='Item_Outlet_Sales'>"
      ]
     },
     "execution_count": 37,
     "metadata": {},
     "output_type": "execute_result"
    },
    {
     "data": {
      "image/png": "[encoded data removed]",
      "text/plain": [
       "<Figure size 640x480 with 1 Axes>"
      ]
     },
     "metadata": {},
     "output_type": "display_data"
    }
   ],
   "source": [
    "sns.boxplot(np.log(df['Item_Outlet_Sales']))"
   ]
  },
  {
   "cell_type": "code",
   "execution_count": 38,
   "metadata": {},
   "outputs": [
    {
     "data": {
      "application/vnd.microsoft.datawrangler.viewer.v0+json": {
       "columns": [
        {
         "name": "index",
         "rawType": "object",
         "type": "string"
        },
        {
         "name": "item_ide_num",
         "rawType": "float64",
         "type": "float"
        },
        {
         "name": "Item_Weight",
         "rawType": "float64",
         "type": "float"
        },
        {
         "name": "Item_Visibility",
         "rawType": "float64",
         "type": "float"
        },
        {
         "name": "Item_MRP",
         "rawType": "float64",
         "type": "float"
        },
        {
         "name": "Outlet_Identifier",
         "rawType": "float64",
         "type": "float"
        },
        {
         "name": "Outlet_Establishment_Year",
         "rawType": "float64",
         "type": "float"
        },
        {
         "name": "Item_Outlet_Sales",
         "rawType": "float64",
         "type": "float"
        }
       ],
       "ref": "c2d3a7f8-d688-4fe0-8da8-69914c959d68",
       "rows": [
        [
         "count",
         "8523.0",
         "7060.0",
         "8523.0",
         "8523.0",
         "8523.0",
         "8523.0",
         "8523.0"
        ],
        [
         "mean",
         "30.327349524815205",
         "12.857645184135976",
         "0.06613202877895108",
         "140.9927819781767",
         "29.108764519535374",
         "26.168133286401503",
         "2181.288913575032"
        ],
        [
         "std",
         "17.24475810489752",
         "4.643456499186415",
         "0.05159782232113512",
         "62.27506651219046",
         "13.927647616886127",
         "8.371760408092655",
         "1706.499615733833"
        ],
        [
         "min",
         "1.0",
         "4.555",
         "0.0",
         "31.29",
         "10.0",
         "15.0",
         "33.29"
        ],
        [
         "25%",
         "15.0",
         "8.77375",
         "0.0269894775",
         "93.8265",
         "17.0",
         "20.0",
         "834.2474"
        ],
        [
         "50%",
         "30.0",
         "12.6",
         "0.053930934",
         "143.0128",
         "27.0",
         "25.0",
         "1794.331"
        ],
        [
         "75%",
         "45.0",
         "16.85",
         "0.0945852925",
         "185.6437",
         "45.0",
         "37.0",
         "3101.2964"
        ],
        [
         "max",
         "60.0",
         "21.35",
         "0.328390948",
         "266.8884",
         "49.0",
         "39.0",
         "13086.9648"
        ]
       ],
       "shape": {
        "columns": 7,
        "rows": 8
       }
      },
      "text/html": [
       "<div>\n",
       "<style scoped>\n",
       "    .dataframe tbody tr th:only-of-type {\n",
       "        vertical-align: middle;\n",
       "    }\n",
       "\n",
       "    .dataframe tbody tr th {\n",
       "        vertical-align: top;\n",
       "    }\n",
       "\n",
       "    .dataframe thead th {\n",
       "        text-align: right;\n",
       "    }\n",
       "</style>\n",
       "<table border=\"1\" class=\"dataframe\">\n",
       "  <thead>\n",
       "    <tr style=\"text-align: right;\">\n",
       "      <th></th>\n",
       "      <th>item_ide_num</th>\n",
       "      <th>Item_Weight</th>\n",
       "      <th>Item_Visibility</th>\n",
       "      <th>Item_MRP</th>\n",
       "      <th>Outlet_Identifier</th>\n",
       "      <th>Outlet_Establishment_Year</th>\n",
       "      <th>Item_Outlet_Sales</th>\n",
       "    </tr>\n",
       "  </thead>\n",
       "  <tbody>\n",
       "    <tr>\n",
       "      <th>count</th>\n",
       "      <td>8523.000000</td>\n",
       "      <td>7060.000000</td>\n",
       "      <td>8523.000000</td>\n",
       "      <td>8523.000000</td>\n",
       "      <td>8523.000000</td>\n",
       "      <td>8523.000000</td>\n",
       "      <td>8523.000000</td>\n",
       "    </tr>\n",
       "    <tr>\n",
       "      <th>mean</th>\n",
       "      <td>30.327350</td>\n",
       "      <td>12.857645</td>\n",
       "      <td>0.066132</td>\n",
       "      <td>140.992782</td>\n",
       "      <td>29.108765</td>\n",
       "      <td>26.168133</td>\n",
       "      <td>2181.288914</td>\n",
       "    </tr>\n",
       "    <tr>\n",
       "      <th>std</th>\n",
       "      <td>17.244758</td>\n",
       "      <td>4.643456</td>\n",
       "      <td>0.051598</td>\n",
       "      <td>62.275067</td>\n",
       "      <td>13.927648</td>\n",
       "      <td>8.371760</td>\n",
       "      <td>1706.499616</td>\n",
       "    </tr>\n",
       "    <tr>\n",
       "      <th>min</th>\n",
       "      <td>1.000000</td>\n",
       "      <td>4.555000</td>\n",
       "      <td>0.000000</td>\n",
       "      <td>31.290000</td>\n",
       "      <td>10.000000</td>\n",
       "      <td>15.000000</td>\n",
       "      <td>33.290000</td>\n",
       "    </tr>\n",
       "    <tr>\n",
       "      <th>25%</th>\n",
       "      <td>15.000000</td>\n",
       "      <td>8.773750</td>\n",
       "      <td>0.026989</td>\n",
       "      <td>93.826500</td>\n",
       "      <td>17.000000</td>\n",
       "      <td>20.000000</td>\n",
       "      <td>834.247400</td>\n",
       "    </tr>\n",
       "    <tr>\n",
       "      <th>50%</th>\n",
       "      <td>30.000000</td>\n",
       "      <td>12.600000</td>\n",
       "      <td>0.053931</td>\n",
       "      <td>143.012800</td>\n",
       "      <td>27.000000</td>\n",
       "      <td>25.000000</td>\n",
       "      <td>1794.331000</td>\n",
       "    </tr>\n",
       "    <tr>\n",
       "      <th>75%</th>\n",
       "      <td>45.000000</td>\n",
       "      <td>16.850000</td>\n",
       "      <td>0.094585</td>\n",
       "      <td>185.643700</td>\n",
       "      <td>45.000000</td>\n",
       "      <td>37.000000</td>\n",
       "      <td>3101.296400</td>\n",
       "    </tr>\n",
       "    <tr>\n",
       "      <th>max</th>\n",
       "      <td>60.000000</td>\n",
       "      <td>21.350000</td>\n",
       "      <td>0.328391</td>\n",
       "      <td>266.888400</td>\n",
       "      <td>49.000000</td>\n",
       "      <td>39.000000</td>\n",
       "      <td>13086.964800</td>\n",
       "    </tr>\n",
       "  </tbody>\n",
       "</table>\n",
       "</div>"
      ],
      "text/plain": [
       "       item_ide_num  Item_Weight  Item_Visibility     Item_MRP  \\\n",
       "count   8523.000000  7060.000000      8523.000000  8523.000000   \n",
       "mean      30.327350    12.857645         0.066132   140.992782   \n",
       "std       17.244758     4.643456         0.051598    62.275067   \n",
       "min        1.000000     4.555000         0.000000    31.290000   \n",
       "25%       15.000000     8.773750         0.026989    93.826500   \n",
       "50%       30.000000    12.600000         0.053931   143.012800   \n",
       "75%       45.000000    16.850000         0.094585   185.643700   \n",
       "max       60.000000    21.350000         0.328391   266.888400   \n",
       "\n",
       "       Outlet_Identifier  Outlet_Establishment_Year  Item_Outlet_Sales  \n",
       "count        8523.000000                8523.000000        8523.000000  \n",
       "mean           29.108765                  26.168133        2181.288914  \n",
       "std            13.927648                   8.371760        1706.499616  \n",
       "min            10.000000                  15.000000          33.290000  \n",
       "25%            17.000000                  20.000000         834.247400  \n",
       "50%            27.000000                  25.000000        1794.331000  \n",
       "75%            45.000000                  37.000000        3101.296400  \n",
       "max            49.000000                  39.000000       13086.964800  "
      ]
     },
     "execution_count": 38,
     "metadata": {},
     "output_type": "execute_result"
    }
   ],
   "source": [
    "df.describe()"
   ]
  },
  {
   "cell_type": "code",
   "execution_count": 39,
   "metadata": {},
   "outputs": [
    {
     "data": {
      "application/vnd.microsoft.datawrangler.viewer.v0+json": {
       "columns": [
        {
         "name": "index",
         "rawType": "object",
         "type": "string"
        },
        {
         "name": "0",
         "rawType": "int64",
         "type": "integer"
        }
       ],
       "ref": "242c732c-5f5d-4806-94cf-b95ae2184b5d",
       "rows": [
        [
         "Item_Identifier",
         "0"
        ],
        [
         "item_ide",
         "0"
        ],
        [
         "item_ide_num",
         "0"
        ],
        [
         "Item_Weight",
         "1463"
        ],
        [
         "Item_Fat_Content",
         "0"
        ],
        [
         "Item_Visibility",
         "0"
        ],
        [
         "Item_Type",
         "0"
        ],
        [
         "Item_MRP",
         "0"
        ],
        [
         "Outlet_Identifier",
         "0"
        ],
        [
         "Outlet_Establishment_Year",
         "0"
        ],
        [
         "Outlet_Size",
         "2410"
        ],
        [
         "Outlet_Location_Type",
         "0"
        ],
        [
         "Outlet_Type",
         "0"
        ],
        [
         "Item_Outlet_Sales",
         "0"
        ]
       ],
       "shape": {
        "columns": 1,
        "rows": 14
       }
      },
      "text/plain": [
       "Item_Identifier                 0\n",
       "item_ide                        0\n",
       "item_ide_num                    0\n",
       "Item_Weight                  1463\n",
       "Item_Fat_Content                0\n",
       "Item_Visibility                 0\n",
       "Item_Type                       0\n",
       "Item_MRP                        0\n",
       "Outlet_Identifier               0\n",
       "Outlet_Establishment_Year       0\n",
       "Outlet_Size                  2410\n",
       "Outlet_Location_Type            0\n",
       "Outlet_Type                     0\n",
       "Item_Outlet_Sales               0\n",
       "dtype: int64"
      ]
     },
     "execution_count": 39,
     "metadata": {},
     "output_type": "execute_result"
    }
   ],
   "source": [
    "df.isna().sum()"
   ]
  },
  {
   "cell_type": "code",
   "execution_count": 40,
   "metadata": {},
   "outputs": [
    {
     "data": {
      "application/vnd.microsoft.datawrangler.viewer.v0+json": {
       "columns": [
        {
         "name": "index",
         "rawType": "int64",
         "type": "integer"
        },
        {
         "name": "Item_Identifier",
         "rawType": "object",
         "type": "string"
        },
        {
         "name": "item_ide",
         "rawType": "object",
         "type": "string"
        },
        {
         "name": "item_ide_num",
         "rawType": "int64",
         "type": "integer"
        },
        {
         "name": "Item_Weight",
         "rawType": "float64",
         "type": "float"
        },
        {
         "name": "Item_Fat_Content",
         "rawType": "object",
         "type": "string"
        },
        {
         "name": "Item_Visibility",
         "rawType": "float64",
         "type": "float"
        },
        {
         "name": "Item_Type",
         "rawType": "object",
         "type": "string"
        },
        {
         "name": "Item_MRP",
         "rawType": "float64",
         "type": "float"
        },
        {
         "name": "Outlet_Identifier",
         "rawType": "int64",
         "type": "integer"
        },
        {
         "name": "Outlet_Establishment_Year",
         "rawType": "int64",
         "type": "integer"
        },
        {
         "name": "Outlet_Size",
         "rawType": "object",
         "type": "unknown"
        },
        {
         "name": "Outlet_Location_Type",
         "rawType": "object",
         "type": "string"
        },
        {
         "name": "Outlet_Type",
         "rawType": "object",
         "type": "string"
        },
        {
         "name": "Item_Outlet_Sales",
         "rawType": "float64",
         "type": "float"
        }
       ],
       "ref": "e7be91d6-0d64-409e-8b7e-c6ed1eb64c5e",
       "rows": [
        [
         "0",
         "FDA15",
         "FD",
         "15",
         "9.3",
         "Low Fat",
         "0.016047301",
         "Dairy",
         "249.8092",
         "49",
         "25",
         "Medium",
         "Tier 1",
         "Supermarket Type1",
         "3735.138"
        ],
        [
         "1",
         "DRC01",
         "DR",
         "1",
         "5.92",
         "Regular",
         "0.019278216",
         "Soft Drinks",
         "48.2692",
         "18",
         "15",
         "Medium",
         "Tier 3",
         "Supermarket Type2",
         "443.4228"
        ],
        [
         "2",
         "FDN15",
         "FD",
         "15",
         "17.5",
         "Low Fat",
         "0.016760075",
         "Meat",
         "141.618",
         "49",
         "25",
         "Medium",
         "Tier 1",
         "Supermarket Type1",
         "2097.27"
        ],
        [
         "3",
         "FDX07",
         "FD",
         "7",
         "19.2",
         "Regular",
         "0.0",
         "Fruits and Vegetables",
         "182.095",
         "10",
         "26",
         null,
         "Tier 3",
         "Grocery Store",
         "732.38"
        ],
        [
         "4",
         "NCD19",
         "NC",
         "19",
         "8.93",
         "Low Fat",
         "0.0",
         "Household",
         "53.8614",
         "13",
         "37",
         "High",
         "Tier 3",
         "Supermarket Type1",
         "994.7052"
        ]
       ],
       "shape": {
        "columns": 14,
        "rows": 5
       }
      },
      "text/html": [
       "<div>\n",
       "<style scoped>\n",
       "    .dataframe tbody tr th:only-of-type {\n",
       "        vertical-align: middle;\n",
       "    }\n",
       "\n",
       "    .dataframe tbody tr th {\n",
       "        vertical-align: top;\n",
       "    }\n",
       "\n",
       "    .dataframe thead th {\n",
       "        text-align: right;\n",
       "    }\n",
       "</style>\n",
       "<table border=\"1\" class=\"dataframe\">\n",
       "  <thead>\n",
       "    <tr style=\"text-align: right;\">\n",
       "      <th></th>\n",
       "      <th>Item_Identifier</th>\n",
       "      <th>item_ide</th>\n",
       "      <th>item_ide_num</th>\n",
       "      <th>Item_Weight</th>\n",
       "      <th>Item_Fat_Content</th>\n",
       "      <th>Item_Visibility</th>\n",
       "      <th>Item_Type</th>\n",
       "      <th>Item_MRP</th>\n",
       "      <th>Outlet_Identifier</th>\n",
       "      <th>Outlet_Establishment_Year</th>\n",
       "      <th>Outlet_Size</th>\n",
       "      <th>Outlet_Location_Type</th>\n",
       "      <th>Outlet_Type</th>\n",
       "      <th>Item_Outlet_Sales</th>\n",
       "    </tr>\n",
       "  </thead>\n",
       "  <tbody>\n",
       "    <tr>\n",
       "      <th>0</th>\n",
       "      <td>FDA15</td>\n",
       "      <td>FD</td>\n",
       "      <td>15</td>\n",
       "      <td>9.30</td>\n",
       "      <td>Low Fat</td>\n",
       "      <td>0.016047</td>\n",
       "      <td>Dairy</td>\n",
       "      <td>249.8092</td>\n",
       "      <td>49</td>\n",
       "      <td>25</td>\n",
       "      <td>Medium</td>\n",
       "      <td>Tier 1</td>\n",
       "      <td>Supermarket Type1</td>\n",
       "      <td>3735.1380</td>\n",
       "    </tr>\n",
       "    <tr>\n",
       "      <th>1</th>\n",
       "      <td>DRC01</td>\n",
       "      <td>DR</td>\n",
       "      <td>1</td>\n",
       "      <td>5.92</td>\n",
       "      <td>Regular</td>\n",
       "      <td>0.019278</td>\n",
       "      <td>Soft Drinks</td>\n",
       "      <td>48.2692</td>\n",
       "      <td>18</td>\n",
       "      <td>15</td>\n",
       "      <td>Medium</td>\n",
       "      <td>Tier 3</td>\n",
       "      <td>Supermarket Type2</td>\n",
       "      <td>443.4228</td>\n",
       "    </tr>\n",
       "    <tr>\n",
       "      <th>2</th>\n",
       "      <td>FDN15</td>\n",
       "      <td>FD</td>\n",
       "      <td>15</td>\n",
       "      <td>17.50</td>\n",
       "      <td>Low Fat</td>\n",
       "      <td>0.016760</td>\n",
       "      <td>Meat</td>\n",
       "      <td>141.6180</td>\n",
       "      <td>49</td>\n",
       "      <td>25</td>\n",
       "      <td>Medium</td>\n",
       "      <td>Tier 1</td>\n",
       "      <td>Supermarket Type1</td>\n",
       "      <td>2097.2700</td>\n",
       "    </tr>\n",
       "    <tr>\n",
       "      <th>3</th>\n",
       "      <td>FDX07</td>\n",
       "      <td>FD</td>\n",
       "      <td>7</td>\n",
       "      <td>19.20</td>\n",
       "      <td>Regular</td>\n",
       "      <td>0.000000</td>\n",
       "      <td>Fruits and Vegetables</td>\n",
       "      <td>182.0950</td>\n",
       "      <td>10</td>\n",
       "      <td>26</td>\n",
       "      <td>NaN</td>\n",
       "      <td>Tier 3</td>\n",
       "      <td>Grocery Store</td>\n",
       "      <td>732.3800</td>\n",
       "    </tr>\n",
       "    <tr>\n",
       "      <th>4</th>\n",
       "      <td>NCD19</td>\n",
       "      <td>NC</td>\n",
       "      <td>19</td>\n",
       "      <td>8.93</td>\n",
       "      <td>Low Fat</td>\n",
       "      <td>0.000000</td>\n",
       "      <td>Household</td>\n",
       "      <td>53.8614</td>\n",
       "      <td>13</td>\n",
       "      <td>37</td>\n",
       "      <td>High</td>\n",
       "      <td>Tier 3</td>\n",
       "      <td>Supermarket Type1</td>\n",
       "      <td>994.7052</td>\n",
       "    </tr>\n",
       "  </tbody>\n",
       "</table>\n",
       "</div>"
      ],
      "text/plain": [
       "  Item_Identifier item_ide  item_ide_num  Item_Weight Item_Fat_Content  \\\n",
       "0           FDA15       FD            15         9.30          Low Fat   \n",
       "1           DRC01       DR             1         5.92          Regular   \n",
       "2           FDN15       FD            15        17.50          Low Fat   \n",
       "3           FDX07       FD             7        19.20          Regular   \n",
       "4           NCD19       NC            19         8.93          Low Fat   \n",
       "\n",
       "   Item_Visibility              Item_Type  Item_MRP  Outlet_Identifier  \\\n",
       "0         0.016047                  Dairy  249.8092                 49   \n",
       "1         0.019278            Soft Drinks   48.2692                 18   \n",
       "2         0.016760                   Meat  141.6180                 49   \n",
       "3         0.000000  Fruits and Vegetables  182.0950                 10   \n",
       "4         0.000000              Household   53.8614                 13   \n",
       "\n",
       "   Outlet_Establishment_Year Outlet_Size Outlet_Location_Type  \\\n",
       "0                         25      Medium               Tier 1   \n",
       "1                         15      Medium               Tier 3   \n",
       "2                         25      Medium               Tier 1   \n",
       "3                         26         NaN               Tier 3   \n",
       "4                         37        High               Tier 3   \n",
       "\n",
       "         Outlet_Type  Item_Outlet_Sales  \n",
       "0  Supermarket Type1          3735.1380  \n",
       "1  Supermarket Type2           443.4228  \n",
       "2  Supermarket Type1          2097.2700  \n",
       "3      Grocery Store           732.3800  \n",
       "4  Supermarket Type1           994.7052  "
      ]
     },
     "execution_count": 40,
     "metadata": {},
     "output_type": "execute_result"
    }
   ],
   "source": [
    "df.head()"
   ]
  },
  {
   "cell_type": "code",
   "execution_count": 41,
   "metadata": {},
   "outputs": [
    {
     "name": "stdout",
     "output_type": "stream",
     "text": [
      "12.6\n",
      "12.857645184135976\n"
     ]
    }
   ],
   "source": [
    "print(df['Item_Weight'].median())\n",
    "print(df['Item_Weight'].mean())"
   ]
  },
  {
   "cell_type": "code",
   "execution_count": 42,
   "metadata": {},
   "outputs": [
    {
     "data": {
      "application/vnd.microsoft.datawrangler.viewer.v0+json": {
       "columns": [
        {
         "name": "Item_Type",
         "rawType": "object",
         "type": "string"
        },
        {
         "name": "Item_Weight",
         "rawType": "float64",
         "type": "float"
        }
       ],
       "ref": "079085f1-c577-4576-a5c8-d61736b5eb14",
       "rows": [
        [
         "Baking Goods",
         "11.65"
        ],
        [
         "Breads",
         "10.6"
        ],
        [
         "Breakfast",
         "10.695"
        ],
        [
         "Canned",
         "12.15"
        ],
        [
         "Dairy",
         "13.35"
        ],
        [
         "Frozen Foods",
         "12.85"
        ],
        [
         "Fruits and Vegetables",
         "13.1"
        ],
        [
         "Hard Drinks",
         "10.1"
        ],
        [
         "Health and Hygiene",
         "12.15"
        ],
        [
         "Household",
         "13.15"
        ],
        [
         "Meat",
         "12.35"
        ],
        [
         "Others",
         "14.5"
        ],
        [
         "Seafood",
         "11.65"
        ],
        [
         "Snack Foods",
         "13.15"
        ],
        [
         "Soft Drinks",
         "11.8"
        ],
        [
         "Starchy Foods",
         "13.175"
        ]
       ],
       "shape": {
        "columns": 1,
        "rows": 16
       }
      },
      "text/plain": [
       "Item_Type\n",
       "Baking Goods             11.650\n",
       "Breads                   10.600\n",
       "Breakfast                10.695\n",
       "Canned                   12.150\n",
       "Dairy                    13.350\n",
       "Frozen Foods             12.850\n",
       "Fruits and Vegetables    13.100\n",
       "Hard Drinks              10.100\n",
       "Health and Hygiene       12.150\n",
       "Household                13.150\n",
       "Meat                     12.350\n",
       "Others                   14.500\n",
       "Seafood                  11.650\n",
       "Snack Foods              13.150\n",
       "Soft Drinks              11.800\n",
       "Starchy Foods            13.175\n",
       "Name: Item_Weight, dtype: float64"
      ]
     },
     "execution_count": 42,
     "metadata": {},
     "output_type": "execute_result"
    }
   ],
   "source": [
    "df.groupby('Item_Type')['Item_Weight'].median()"
   ]
  },
  {
   "cell_type": "code",
   "execution_count": 43,
   "metadata": {},
   "outputs": [
    {
     "data": {
      "application/vnd.microsoft.datawrangler.viewer.v0+json": {
       "columns": [
        {
         "name": "index",
         "rawType": "int64",
         "type": "integer"
        },
        {
         "name": "Item_Weight",
         "rawType": "float64",
         "type": "float"
        }
       ],
       "ref": "45314d19-2e62-4db9-a2d3-d0076e2ced8c",
       "rows": [
        [
         "0",
         "13.35"
        ],
        [
         "1",
         "11.8"
        ],
        [
         "2",
         "12.35"
        ],
        [
         "3",
         "13.1"
        ],
        [
         "4",
         "13.15"
        ],
        [
         "5",
         "11.65"
        ],
        [
         "6",
         "13.15"
        ],
        [
         "7",
         "13.15"
        ],
        [
         "8",
         "12.85"
        ],
        [
         "9",
         "12.85"
        ],
        [
         "10",
         "13.1"
        ],
        [
         "11",
         "13.35"
        ],
        [
         "12",
         "13.1"
        ],
        [
         "13",
         "13.15"
        ],
        [
         "14",
         "13.1"
        ],
        [
         "15",
         "10.695"
        ],
        [
         "16",
         "12.15"
        ],
        [
         "17",
         "10.695"
        ],
        [
         "18",
         "10.1"
        ],
        [
         "19",
         "13.35"
        ],
        [
         "20",
         "13.15"
        ],
        [
         "21",
         "11.65"
        ],
        [
         "22",
         "13.15"
        ],
        [
         "23",
         "11.65"
        ],
        [
         "24",
         "12.85"
        ],
        [
         "25",
         "13.15"
        ],
        [
         "26",
         "13.15"
        ],
        [
         "27",
         "10.1"
        ],
        [
         "28",
         "13.35"
        ],
        [
         "29",
         "12.15"
        ],
        [
         "30",
         "13.35"
        ],
        [
         "31",
         "12.15"
        ],
        [
         "32",
         "13.15"
        ],
        [
         "33",
         "10.6"
        ],
        [
         "34",
         "11.8"
        ],
        [
         "35",
         "12.15"
        ],
        [
         "36",
         "13.1"
        ],
        [
         "37",
         "11.8"
        ],
        [
         "38",
         "13.15"
        ],
        [
         "39",
         "13.15"
        ],
        [
         "40",
         "13.35"
        ],
        [
         "41",
         "12.35"
        ],
        [
         "42",
         "13.15"
        ],
        [
         "43",
         "12.15"
        ],
        [
         "44",
         "12.15"
        ],
        [
         "45",
         "13.35"
        ],
        [
         "46",
         "12.15"
        ],
        [
         "47",
         "12.15"
        ],
        [
         "48",
         "11.65"
        ],
        [
         "49",
         "13.35"
        ]
       ],
       "shape": {
        "columns": 1,
        "rows": 8523
       }
      },
      "text/plain": [
       "0       13.35\n",
       "1       11.80\n",
       "2       12.35\n",
       "3       13.10\n",
       "4       13.15\n",
       "        ...  \n",
       "8518    13.15\n",
       "8519    11.65\n",
       "8520    12.15\n",
       "8521    13.15\n",
       "8522    11.80\n",
       "Name: Item_Weight, Length: 8523, dtype: float64"
      ]
     },
     "execution_count": 43,
     "metadata": {},
     "output_type": "execute_result"
    }
   ],
   "source": [
    "df.groupby('Item_Type')['Item_Weight'].transform('median')"
   ]
  },
  {
   "cell_type": "code",
   "execution_count": 44,
   "metadata": {},
   "outputs": [],
   "source": [
    "df['Item_Weight'] = df['Item_Weight'].fillna(df.groupby('Item_Type')['Item_Weight'].transform('median'))"
   ]
  },
  {
   "cell_type": "code",
   "execution_count": 45,
   "metadata": {},
   "outputs": [
    {
     "data": {
      "application/vnd.microsoft.datawrangler.viewer.v0+json": {
       "columns": [
        {
         "name": "index",
         "rawType": "int64",
         "type": "integer"
        },
        {
         "name": "Item_Identifier",
         "rawType": "object",
         "type": "string"
        },
        {
         "name": "item_ide",
         "rawType": "object",
         "type": "string"
        },
        {
         "name": "item_ide_num",
         "rawType": "int64",
         "type": "integer"
        },
        {
         "name": "Item_Weight",
         "rawType": "float64",
         "type": "float"
        },
        {
         "name": "Item_Fat_Content",
         "rawType": "object",
         "type": "string"
        },
        {
         "name": "Item_Visibility",
         "rawType": "float64",
         "type": "float"
        },
        {
         "name": "Item_Type",
         "rawType": "object",
         "type": "string"
        },
        {
         "name": "Item_MRP",
         "rawType": "float64",
         "type": "float"
        },
        {
         "name": "Outlet_Identifier",
         "rawType": "int64",
         "type": "integer"
        },
        {
         "name": "Outlet_Establishment_Year",
         "rawType": "int64",
         "type": "integer"
        },
        {
         "name": "Outlet_Size",
         "rawType": "object",
         "type": "unknown"
        },
        {
         "name": "Outlet_Location_Type",
         "rawType": "object",
         "type": "string"
        },
        {
         "name": "Outlet_Type",
         "rawType": "object",
         "type": "string"
        },
        {
         "name": "Item_Outlet_Sales",
         "rawType": "float64",
         "type": "float"
        }
       ],
       "ref": "445ae607-e205-43e7-b3a7-d4a8d0a21527",
       "rows": [
        [
         "0",
         "FDA15",
         "FD",
         "15",
         "9.3",
         "Low Fat",
         "0.016047301",
         "Dairy",
         "249.8092",
         "49",
         "25",
         "Medium",
         "Tier 1",
         "Supermarket Type1",
         "3735.138"
        ],
        [
         "1",
         "DRC01",
         "DR",
         "1",
         "5.92",
         "Regular",
         "0.019278216",
         "Soft Drinks",
         "48.2692",
         "18",
         "15",
         "Medium",
         "Tier 3",
         "Supermarket Type2",
         "443.4228"
        ],
        [
         "2",
         "FDN15",
         "FD",
         "15",
         "17.5",
         "Low Fat",
         "0.016760075",
         "Meat",
         "141.618",
         "49",
         "25",
         "Medium",
         "Tier 1",
         "Supermarket Type1",
         "2097.27"
        ],
        [
         "3",
         "FDX07",
         "FD",
         "7",
         "19.2",
         "Regular",
         "0.0",
         "Fruits and Vegetables",
         "182.095",
         "10",
         "26",
         null,
         "Tier 3",
         "Grocery Store",
         "732.38"
        ],
        [
         "4",
         "NCD19",
         "NC",
         "19",
         "8.93",
         "Low Fat",
         "0.0",
         "Household",
         "53.8614",
         "13",
         "37",
         "High",
         "Tier 3",
         "Supermarket Type1",
         "994.7052"
        ]
       ],
       "shape": {
        "columns": 14,
        "rows": 5
       }
      },
      "text/html": [
       "<div>\n",
       "<style scoped>\n",
       "    .dataframe tbody tr th:only-of-type {\n",
       "        vertical-align: middle;\n",
       "    }\n",
       "\n",
       "    .dataframe tbody tr th {\n",
       "        vertical-align: top;\n",
       "    }\n",
       "\n",
       "    .dataframe thead th {\n",
       "        text-align: right;\n",
       "    }\n",
       "</style>\n",
       "<table border=\"1\" class=\"dataframe\">\n",
       "  <thead>\n",
       "    <tr style=\"text-align: right;\">\n",
       "      <th></th>\n",
       "      <th>Item_Identifier</th>\n",
       "      <th>item_ide</th>\n",
       "      <th>item_ide_num</th>\n",
       "      <th>Item_Weight</th>\n",
       "      <th>Item_Fat_Content</th>\n",
       "      <th>Item_Visibility</th>\n",
       "      <th>Item_Type</th>\n",
       "      <th>Item_MRP</th>\n",
       "      <th>Outlet_Identifier</th>\n",
       "      <th>Outlet_Establishment_Year</th>\n",
       "      <th>Outlet_Size</th>\n",
       "      <th>Outlet_Location_Type</th>\n",
       "      <th>Outlet_Type</th>\n",
       "      <th>Item_Outlet_Sales</th>\n",
       "    </tr>\n",
       "  </thead>\n",
       "  <tbody>\n",
       "    <tr>\n",
       "      <th>0</th>\n",
       "      <td>FDA15</td>\n",
       "      <td>FD</td>\n",
       "      <td>15</td>\n",
       "      <td>9.30</td>\n",
       "      <td>Low Fat</td>\n",
       "      <td>0.016047</td>\n",
       "      <td>Dairy</td>\n",
       "      <td>249.8092</td>\n",
       "      <td>49</td>\n",
       "      <td>25</td>\n",
       "      <td>Medium</td>\n",
       "      <td>Tier 1</td>\n",
       "      <td>Supermarket Type1</td>\n",
       "      <td>3735.1380</td>\n",
       "    </tr>\n",
       "    <tr>\n",
       "      <th>1</th>\n",
       "      <td>DRC01</td>\n",
       "      <td>DR</td>\n",
       "      <td>1</td>\n",
       "      <td>5.92</td>\n",
       "      <td>Regular</td>\n",
       "      <td>0.019278</td>\n",
       "      <td>Soft Drinks</td>\n",
       "      <td>48.2692</td>\n",
       "      <td>18</td>\n",
       "      <td>15</td>\n",
       "      <td>Medium</td>\n",
       "      <td>Tier 3</td>\n",
       "      <td>Supermarket Type2</td>\n",
       "      <td>443.4228</td>\n",
       "    </tr>\n",
       "    <tr>\n",
       "      <th>2</th>\n",
       "      <td>FDN15</td>\n",
       "      <td>FD</td>\n",
       "      <td>15</td>\n",
       "      <td>17.50</td>\n",
       "      <td>Low Fat</td>\n",
       "      <td>0.016760</td>\n",
       "      <td>Meat</td>\n",
       "      <td>141.6180</td>\n",
       "      <td>49</td>\n",
       "      <td>25</td>\n",
       "      <td>Medium</td>\n",
       "      <td>Tier 1</td>\n",
       "      <td>Supermarket Type1</td>\n",
       "      <td>2097.2700</td>\n",
       "    </tr>\n",
       "    <tr>\n",
       "      <th>3</th>\n",
       "      <td>FDX07</td>\n",
       "      <td>FD</td>\n",
       "      <td>7</td>\n",
       "      <td>19.20</td>\n",
       "      <td>Regular</td>\n",
       "      <td>0.000000</td>\n",
       "      <td>Fruits and Vegetables</td>\n",
       "      <td>182.0950</td>\n",
       "      <td>10</td>\n",
       "      <td>26</td>\n",
       "      <td>NaN</td>\n",
       "      <td>Tier 3</td>\n",
       "      <td>Grocery Store</td>\n",
       "      <td>732.3800</td>\n",
       "    </tr>\n",
       "    <tr>\n",
       "      <th>4</th>\n",
       "      <td>NCD19</td>\n",
       "      <td>NC</td>\n",
       "      <td>19</td>\n",
       "      <td>8.93</td>\n",
       "      <td>Low Fat</td>\n",
       "      <td>0.000000</td>\n",
       "      <td>Household</td>\n",
       "      <td>53.8614</td>\n",
       "      <td>13</td>\n",
       "      <td>37</td>\n",
       "      <td>High</td>\n",
       "      <td>Tier 3</td>\n",
       "      <td>Supermarket Type1</td>\n",
       "      <td>994.7052</td>\n",
       "    </tr>\n",
       "  </tbody>\n",
       "</table>\n",
       "</div>"
      ],
      "text/plain": [
       "  Item_Identifier item_ide  item_ide_num  Item_Weight Item_Fat_Content  \\\n",
       "0           FDA15       FD            15         9.30          Low Fat   \n",
       "1           DRC01       DR             1         5.92          Regular   \n",
       "2           FDN15       FD            15        17.50          Low Fat   \n",
       "3           FDX07       FD             7        19.20          Regular   \n",
       "4           NCD19       NC            19         8.93          Low Fat   \n",
       "\n",
       "   Item_Visibility              Item_Type  Item_MRP  Outlet_Identifier  \\\n",
       "0         0.016047                  Dairy  249.8092                 49   \n",
       "1         0.019278            Soft Drinks   48.2692                 18   \n",
       "2         0.016760                   Meat  141.6180                 49   \n",
       "3         0.000000  Fruits and Vegetables  182.0950                 10   \n",
       "4         0.000000              Household   53.8614                 13   \n",
       "\n",
       "   Outlet_Establishment_Year Outlet_Size Outlet_Location_Type  \\\n",
       "0                         25      Medium               Tier 1   \n",
       "1                         15      Medium               Tier 3   \n",
       "2                         25      Medium               Tier 1   \n",
       "3                         26         NaN               Tier 3   \n",
       "4                         37        High               Tier 3   \n",
       "\n",
       "         Outlet_Type  Item_Outlet_Sales  \n",
       "0  Supermarket Type1          3735.1380  \n",
       "1  Supermarket Type2           443.4228  \n",
       "2  Supermarket Type1          2097.2700  \n",
       "3      Grocery Store           732.3800  \n",
       "4  Supermarket Type1           994.7052  "
      ]
     },
     "execution_count": 45,
     "metadata": {},
     "output_type": "execute_result"
    }
   ],
   "source": [
    "df.head()"
   ]
  },
  {
   "cell_type": "code",
   "execution_count": 46,
   "metadata": {},
   "outputs": [
    {
     "data": {
      "application/vnd.microsoft.datawrangler.viewer.v0+json": {
       "columns": [
        {
         "name": "index",
         "rawType": "object",
         "type": "string"
        },
        {
         "name": "0",
         "rawType": "int64",
         "type": "integer"
        }
       ],
       "ref": "a07bdbeb-90db-4387-b2b4-0e476d97c7d8",
       "rows": [
        [
         "Item_Identifier",
         "0"
        ],
        [
         "item_ide",
         "0"
        ],
        [
         "item_ide_num",
         "0"
        ],
        [
         "Item_Weight",
         "0"
        ],
        [
         "Item_Fat_Content",
         "0"
        ],
        [
         "Item_Visibility",
         "0"
        ],
        [
         "Item_Type",
         "0"
        ],
        [
         "Item_MRP",
         "0"
        ],
        [
         "Outlet_Identifier",
         "0"
        ],
        [
         "Outlet_Establishment_Year",
         "0"
        ],
        [
         "Outlet_Size",
         "2410"
        ],
        [
         "Outlet_Location_Type",
         "0"
        ],
        [
         "Outlet_Type",
         "0"
        ],
        [
         "Item_Outlet_Sales",
         "0"
        ]
       ],
       "shape": {
        "columns": 1,
        "rows": 14
       }
      },
      "text/plain": [
       "Item_Identifier                 0\n",
       "item_ide                        0\n",
       "item_ide_num                    0\n",
       "Item_Weight                     0\n",
       "Item_Fat_Content                0\n",
       "Item_Visibility                 0\n",
       "Item_Type                       0\n",
       "Item_MRP                        0\n",
       "Outlet_Identifier               0\n",
       "Outlet_Establishment_Year       0\n",
       "Outlet_Size                  2410\n",
       "Outlet_Location_Type            0\n",
       "Outlet_Type                     0\n",
       "Item_Outlet_Sales               0\n",
       "dtype: int64"
      ]
     },
     "execution_count": 46,
     "metadata": {},
     "output_type": "execute_result"
    }
   ],
   "source": [
    "df.isna().sum()"
   ]
  },
  {
   "cell_type": "code",
   "execution_count": 47,
   "metadata": {},
   "outputs": [
    {
     "data": {
      "application/vnd.microsoft.datawrangler.viewer.v0+json": {
       "columns": [
        {
         "name": "Outlet_Size",
         "rawType": "object",
         "type": "string"
        },
        {
         "name": "Tier 1",
         "rawType": "int64",
         "type": "integer"
        },
        {
         "name": "Tier 2",
         "rawType": "int64",
         "type": "integer"
        },
        {
         "name": "Tier 3",
         "rawType": "int64",
         "type": "integer"
        }
       ],
       "ref": "dbc02cb6-097a-4f88-8874-f1e6ba1f849c",
       "rows": [
        [
         "High",
         "0",
         "0",
         "932"
        ],
        [
         "Medium",
         "930",
         "0",
         "1863"
        ],
        [
         "Small",
         "1458",
         "930",
         "0"
        ]
       ],
       "shape": {
        "columns": 3,
        "rows": 3
       }
      },
      "text/html": [
       "<div>\n",
       "<style scoped>\n",
       "    .dataframe tbody tr th:only-of-type {\n",
       "        vertical-align: middle;\n",
       "    }\n",
       "\n",
       "    .dataframe tbody tr th {\n",
       "        vertical-align: top;\n",
       "    }\n",
       "\n",
       "    .dataframe thead th {\n",
       "        text-align: right;\n",
       "    }\n",
       "</style>\n",
       "<table border=\"1\" class=\"dataframe\">\n",
       "  <thead>\n",
       "    <tr style=\"text-align: right;\">\n",
       "      <th>Outlet_Location_Type</th>\n",
       "      <th>Tier 1</th>\n",
       "      <th>Tier 2</th>\n",
       "      <th>Tier 3</th>\n",
       "    </tr>\n",
       "    <tr>\n",
       "      <th>Outlet_Size</th>\n",
       "      <th></th>\n",
       "      <th></th>\n",
       "      <th></th>\n",
       "    </tr>\n",
       "  </thead>\n",
       "  <tbody>\n",
       "    <tr>\n",
       "      <th>High</th>\n",
       "      <td>0</td>\n",
       "      <td>0</td>\n",
       "      <td>932</td>\n",
       "    </tr>\n",
       "    <tr>\n",
       "      <th>Medium</th>\n",
       "      <td>930</td>\n",
       "      <td>0</td>\n",
       "      <td>1863</td>\n",
       "    </tr>\n",
       "    <tr>\n",
       "      <th>Small</th>\n",
       "      <td>1458</td>\n",
       "      <td>930</td>\n",
       "      <td>0</td>\n",
       "    </tr>\n",
       "  </tbody>\n",
       "</table>\n",
       "</div>"
      ],
      "text/plain": [
       "Outlet_Location_Type  Tier 1  Tier 2  Tier 3\n",
       "Outlet_Size                                 \n",
       "High                       0       0     932\n",
       "Medium                   930       0    1863\n",
       "Small                   1458     930       0"
      ]
     },
     "execution_count": 47,
     "metadata": {},
     "output_type": "execute_result"
    }
   ],
   "source": [
    "pd.crosstab(df['Outlet_Size'],df['Outlet_Location_Type'])"
   ]
  },
  {
   "cell_type": "code",
   "execution_count": 48,
   "metadata": {},
   "outputs": [
    {
     "data": {
      "application/vnd.microsoft.datawrangler.viewer.v0+json": {
       "columns": [
        {
         "name": "Outlet_Location_Type",
         "rawType": "object",
         "type": "string"
        },
        {
         "name": "count",
         "rawType": "int64",
         "type": "integer"
        }
       ],
       "ref": "a8ee7111-2921-4448-be41-ec36f066f425",
       "rows": [
        [
         "Tier 2",
         "1855"
        ],
        [
         "Tier 3",
         "555"
        ]
       ],
       "shape": {
        "columns": 1,
        "rows": 2
       }
      },
      "text/plain": [
       "Outlet_Location_Type\n",
       "Tier 2    1855\n",
       "Tier 3     555\n",
       "Name: count, dtype: int64"
      ]
     },
     "execution_count": 48,
     "metadata": {},
     "output_type": "execute_result"
    }
   ],
   "source": [
    "df[df['Outlet_Size'].isna()].Outlet_Location_Type.value_counts()"
   ]
  },
  {
   "cell_type": "code",
   "execution_count": 49,
   "metadata": {},
   "outputs": [],
   "source": [
    "#python function for getting Small and Medium for tier 2  - 3 Outlet Size\n",
    "\n",
    "def sm_med_size(text):\n",
    "    if(text == 'Tier 1'):\n",
    "        return\n",
    "    elif(text=='Tier 2'):\n",
    "        return 'Small'\n",
    "    elif(text=='Tier 3'):\n",
    "        return 'Medium'\n",
    "    \n",
    "sm_med_size('Tier 1')"
   ]
  },
  {
   "cell_type": "code",
   "execution_count": 50,
   "metadata": {},
   "outputs": [
    {
     "data": {
      "application/vnd.microsoft.datawrangler.viewer.v0+json": {
       "columns": [
        {
         "name": "index",
         "rawType": "int64",
         "type": "integer"
        },
        {
         "name": "Outlet_Location_Type",
         "rawType": "object",
         "type": "unknown"
        }
       ],
       "ref": "b43cabde-43e7-443c-a9c6-3b92893aeacf",
       "rows": [
        [
         "0",
         null
        ],
        [
         "1",
         "Medium"
        ],
        [
         "2",
         null
        ],
        [
         "3",
         "Medium"
        ],
        [
         "4",
         "Medium"
        ],
        [
         "5",
         "Medium"
        ],
        [
         "6",
         "Medium"
        ],
        [
         "7",
         "Medium"
        ],
        [
         "8",
         "Small"
        ],
        [
         "9",
         "Small"
        ],
        [
         "10",
         null
        ],
        [
         "11",
         null
        ],
        [
         "12",
         null
        ],
        [
         "13",
         null
        ],
        [
         "14",
         "Medium"
        ],
        [
         "15",
         null
        ],
        [
         "16",
         "Medium"
        ],
        [
         "17",
         null
        ],
        [
         "18",
         "Medium"
        ],
        [
         "19",
         "Small"
        ],
        [
         "20",
         "Medium"
        ],
        [
         "21",
         "Medium"
        ],
        [
         "22",
         "Small"
        ],
        [
         "23",
         null
        ],
        [
         "24",
         null
        ],
        [
         "25",
         "Small"
        ],
        [
         "26",
         "Small"
        ],
        [
         "27",
         "Medium"
        ],
        [
         "28",
         "Medium"
        ],
        [
         "29",
         null
        ],
        [
         "30",
         "Medium"
        ],
        [
         "31",
         "Medium"
        ],
        [
         "32",
         "Medium"
        ],
        [
         "33",
         "Small"
        ],
        [
         "34",
         null
        ],
        [
         "35",
         null
        ],
        [
         "36",
         "Medium"
        ],
        [
         "37",
         "Medium"
        ],
        [
         "38",
         "Medium"
        ],
        [
         "39",
         "Medium"
        ],
        [
         "40",
         null
        ],
        [
         "41",
         "Medium"
        ],
        [
         "42",
         null
        ],
        [
         "43",
         "Medium"
        ],
        [
         "44",
         "Medium"
        ],
        [
         "45",
         "Medium"
        ],
        [
         "46",
         "Small"
        ],
        [
         "47",
         "Small"
        ],
        [
         "48",
         null
        ],
        [
         "49",
         null
        ]
       ],
       "shape": {
        "columns": 1,
        "rows": 8523
       }
      },
      "text/plain": [
       "0         None\n",
       "1       Medium\n",
       "2         None\n",
       "3       Medium\n",
       "4       Medium\n",
       "         ...  \n",
       "8518    Medium\n",
       "8519     Small\n",
       "8520     Small\n",
       "8521    Medium\n",
       "8522      None\n",
       "Name: Outlet_Location_Type, Length: 8523, dtype: object"
      ]
     },
     "execution_count": 50,
     "metadata": {},
     "output_type": "execute_result"
    }
   ],
   "source": [
    "df['Outlet_Location_Type'].apply(sm_med_size)"
   ]
  },
  {
   "cell_type": "code",
   "execution_count": 51,
   "metadata": {},
   "outputs": [
    {
     "data": {
      "application/vnd.microsoft.datawrangler.viewer.v0+json": {
       "columns": [
        {
         "name": "index",
         "rawType": "int64",
         "type": "integer"
        },
        {
         "name": "Outlet_Size",
         "rawType": "object",
         "type": "string"
        }
       ],
       "ref": "1783e19f-4ff8-4f68-a9a9-def02af3fb52",
       "rows": [
        [
         "0",
         "Medium"
        ],
        [
         "1",
         "Medium"
        ],
        [
         "2",
         "Medium"
        ],
        [
         "3",
         "Medium"
        ],
        [
         "4",
         "High"
        ],
        [
         "5",
         "Medium"
        ],
        [
         "6",
         "High"
        ],
        [
         "7",
         "Medium"
        ],
        [
         "8",
         "Small"
        ],
        [
         "9",
         "Small"
        ],
        [
         "10",
         "Medium"
        ],
        [
         "11",
         "Small"
        ],
        [
         "12",
         "Medium"
        ],
        [
         "13",
         "Small"
        ],
        [
         "14",
         "High"
        ],
        [
         "15",
         "Small"
        ],
        [
         "16",
         "Medium"
        ],
        [
         "17",
         "Medium"
        ],
        [
         "18",
         "Medium"
        ],
        [
         "19",
         "Small"
        ],
        [
         "20",
         "High"
        ],
        [
         "21",
         "Medium"
        ],
        [
         "22",
         "Small"
        ],
        [
         "23",
         "Small"
        ],
        [
         "24",
         "Small"
        ],
        [
         "25",
         "Small"
        ],
        [
         "26",
         "Small"
        ],
        [
         "27",
         "High"
        ],
        [
         "28",
         "Medium"
        ],
        [
         "29",
         "Small"
        ],
        [
         "30",
         "Medium"
        ],
        [
         "31",
         "Medium"
        ],
        [
         "32",
         "Medium"
        ],
        [
         "33",
         "Small"
        ],
        [
         "34",
         "Small"
        ],
        [
         "35",
         "Medium"
        ],
        [
         "36",
         "Medium"
        ],
        [
         "37",
         "Medium"
        ],
        [
         "38",
         "Medium"
        ],
        [
         "39",
         "Medium"
        ],
        [
         "40",
         "Small"
        ],
        [
         "41",
         "High"
        ],
        [
         "42",
         "Medium"
        ],
        [
         "43",
         "Medium"
        ],
        [
         "44",
         "High"
        ],
        [
         "45",
         "Medium"
        ],
        [
         "46",
         "Small"
        ],
        [
         "47",
         "Small"
        ],
        [
         "48",
         "Small"
        ],
        [
         "49",
         "Small"
        ]
       ],
       "shape": {
        "columns": 1,
        "rows": 8523
       }
      },
      "text/plain": [
       "0       Medium\n",
       "1       Medium\n",
       "2       Medium\n",
       "3       Medium\n",
       "4         High\n",
       "         ...  \n",
       "8518      High\n",
       "8519     Small\n",
       "8520     Small\n",
       "8521    Medium\n",
       "8522     Small\n",
       "Name: Outlet_Size, Length: 8523, dtype: object"
      ]
     },
     "execution_count": 51,
     "metadata": {},
     "output_type": "execute_result"
    }
   ],
   "source": [
    "df['Outlet_Size'].fillna(df['Outlet_Location_Type'].apply(sm_med_size))"
   ]
  },
  {
   "cell_type": "code",
   "execution_count": 52,
   "metadata": {},
   "outputs": [],
   "source": [
    "df['Outlet_Size'] = df['Outlet_Size'].fillna(df['Outlet_Location_Type'].apply(sm_med_size))"
   ]
  },
  {
   "cell_type": "code",
   "execution_count": 53,
   "metadata": {},
   "outputs": [
    {
     "data": {
      "application/vnd.microsoft.datawrangler.viewer.v0+json": {
       "columns": [
        {
         "name": "index",
         "rawType": "object",
         "type": "string"
        },
        {
         "name": "0",
         "rawType": "int64",
         "type": "integer"
        }
       ],
       "ref": "73294554-4915-4463-8726-e7bcdf9af682",
       "rows": [
        [
         "Item_Identifier",
         "0"
        ],
        [
         "item_ide",
         "0"
        ],
        [
         "item_ide_num",
         "0"
        ],
        [
         "Item_Weight",
         "0"
        ],
        [
         "Item_Fat_Content",
         "0"
        ],
        [
         "Item_Visibility",
         "0"
        ],
        [
         "Item_Type",
         "0"
        ],
        [
         "Item_MRP",
         "0"
        ],
        [
         "Outlet_Identifier",
         "0"
        ],
        [
         "Outlet_Establishment_Year",
         "0"
        ],
        [
         "Outlet_Size",
         "0"
        ],
        [
         "Outlet_Location_Type",
         "0"
        ],
        [
         "Outlet_Type",
         "0"
        ],
        [
         "Item_Outlet_Sales",
         "0"
        ]
       ],
       "shape": {
        "columns": 1,
        "rows": 14
       }
      },
      "text/plain": [
       "Item_Identifier              0\n",
       "item_ide                     0\n",
       "item_ide_num                 0\n",
       "Item_Weight                  0\n",
       "Item_Fat_Content             0\n",
       "Item_Visibility              0\n",
       "Item_Type                    0\n",
       "Item_MRP                     0\n",
       "Outlet_Identifier            0\n",
       "Outlet_Establishment_Year    0\n",
       "Outlet_Size                  0\n",
       "Outlet_Location_Type         0\n",
       "Outlet_Type                  0\n",
       "Item_Outlet_Sales            0\n",
       "dtype: int64"
      ]
     },
     "execution_count": 53,
     "metadata": {},
     "output_type": "execute_result"
    }
   ],
   "source": [
    "df.isna().sum()"
   ]
  },
  {
   "cell_type": "code",
   "execution_count": 54,
   "metadata": {},
   "outputs": [
    {
     "data": {
      "application/vnd.microsoft.datawrangler.viewer.v0+json": {
       "columns": [
        {
         "name": "index",
         "rawType": "int64",
         "type": "integer"
        },
        {
         "name": "Item_Identifier",
         "rawType": "object",
         "type": "string"
        },
        {
         "name": "item_ide",
         "rawType": "object",
         "type": "string"
        },
        {
         "name": "item_ide_num",
         "rawType": "int64",
         "type": "integer"
        },
        {
         "name": "Item_Weight",
         "rawType": "float64",
         "type": "float"
        },
        {
         "name": "Item_Fat_Content",
         "rawType": "object",
         "type": "string"
        },
        {
         "name": "Item_Visibility",
         "rawType": "float64",
         "type": "float"
        },
        {
         "name": "Item_Type",
         "rawType": "object",
         "type": "string"
        },
        {
         "name": "Item_MRP",
         "rawType": "float64",
         "type": "float"
        },
        {
         "name": "Outlet_Identifier",
         "rawType": "int64",
         "type": "integer"
        },
        {
         "name": "Outlet_Establishment_Year",
         "rawType": "int64",
         "type": "integer"
        },
        {
         "name": "Outlet_Size",
         "rawType": "object",
         "type": "string"
        },
        {
         "name": "Outlet_Location_Type",
         "rawType": "object",
         "type": "string"
        },
        {
         "name": "Outlet_Type",
         "rawType": "object",
         "type": "string"
        },
        {
         "name": "Item_Outlet_Sales",
         "rawType": "float64",
         "type": "float"
        }
       ],
       "ref": "038ac4b0-c734-4a9c-bb97-3db571a8dc51",
       "rows": [
        [
         "0",
         "FDA15",
         "FD",
         "15",
         "9.3",
         "Low Fat",
         "0.016047301",
         "Dairy",
         "249.8092",
         "49",
         "25",
         "Medium",
         "Tier 1",
         "Supermarket Type1",
         "3735.138"
        ],
        [
         "1",
         "DRC01",
         "DR",
         "1",
         "5.92",
         "Regular",
         "0.019278216",
         "Soft Drinks",
         "48.2692",
         "18",
         "15",
         "Medium",
         "Tier 3",
         "Supermarket Type2",
         "443.4228"
        ],
        [
         "2",
         "FDN15",
         "FD",
         "15",
         "17.5",
         "Low Fat",
         "0.016760075",
         "Meat",
         "141.618",
         "49",
         "25",
         "Medium",
         "Tier 1",
         "Supermarket Type1",
         "2097.27"
        ],
        [
         "3",
         "FDX07",
         "FD",
         "7",
         "19.2",
         "Regular",
         "0.0",
         "Fruits and Vegetables",
         "182.095",
         "10",
         "26",
         "Medium",
         "Tier 3",
         "Grocery Store",
         "732.38"
        ],
        [
         "4",
         "NCD19",
         "NC",
         "19",
         "8.93",
         "Low Fat",
         "0.0",
         "Household",
         "53.8614",
         "13",
         "37",
         "High",
         "Tier 3",
         "Supermarket Type1",
         "994.7052"
        ]
       ],
       "shape": {
        "columns": 14,
        "rows": 5
       }
      },
      "text/html": [
       "<div>\n",
       "<style scoped>\n",
       "    .dataframe tbody tr th:only-of-type {\n",
       "        vertical-align: middle;\n",
       "    }\n",
       "\n",
       "    .dataframe tbody tr th {\n",
       "        vertical-align: top;\n",
       "    }\n",
       "\n",
       "    .dataframe thead th {\n",
       "        text-align: right;\n",
       "    }\n",
       "</style>\n",
       "<table border=\"1\" class=\"dataframe\">\n",
       "  <thead>\n",
       "    <tr style=\"text-align: right;\">\n",
       "      <th></th>\n",
       "      <th>Item_Identifier</th>\n",
       "      <th>item_ide</th>\n",
       "      <th>item_ide_num</th>\n",
       "      <th>Item_Weight</th>\n",
       "      <th>Item_Fat_Content</th>\n",
       "      <th>Item_Visibility</th>\n",
       "      <th>Item_Type</th>\n",
       "      <th>Item_MRP</th>\n",
       "      <th>Outlet_Identifier</th>\n",
       "      <th>Outlet_Establishment_Year</th>\n",
       "      <th>Outlet_Size</th>\n",
       "      <th>Outlet_Location_Type</th>\n",
       "      <th>Outlet_Type</th>\n",
       "      <th>Item_Outlet_Sales</th>\n",
       "    </tr>\n",
       "  </thead>\n",
       "  <tbody>\n",
       "    <tr>\n",
       "      <th>0</th>\n",
       "      <td>FDA15</td>\n",
       "      <td>FD</td>\n",
       "      <td>15</td>\n",
       "      <td>9.30</td>\n",
       "      <td>Low Fat</td>\n",
       "      <td>0.016047</td>\n",
       "      <td>Dairy</td>\n",
       "      <td>249.8092</td>\n",
       "      <td>49</td>\n",
       "      <td>25</td>\n",
       "      <td>Medium</td>\n",
       "      <td>Tier 1</td>\n",
       "      <td>Supermarket Type1</td>\n",
       "      <td>3735.1380</td>\n",
       "    </tr>\n",
       "    <tr>\n",
       "      <th>1</th>\n",
       "      <td>DRC01</td>\n",
       "      <td>DR</td>\n",
       "      <td>1</td>\n",
       "      <td>5.92</td>\n",
       "      <td>Regular</td>\n",
       "      <td>0.019278</td>\n",
       "      <td>Soft Drinks</td>\n",
       "      <td>48.2692</td>\n",
       "      <td>18</td>\n",
       "      <td>15</td>\n",
       "      <td>Medium</td>\n",
       "      <td>Tier 3</td>\n",
       "      <td>Supermarket Type2</td>\n",
       "      <td>443.4228</td>\n",
       "    </tr>\n",
       "    <tr>\n",
       "      <th>2</th>\n",
       "      <td>FDN15</td>\n",
       "      <td>FD</td>\n",
       "      <td>15</td>\n",
       "      <td>17.50</td>\n",
       "      <td>Low Fat</td>\n",
       "      <td>0.016760</td>\n",
       "      <td>Meat</td>\n",
       "      <td>141.6180</td>\n",
       "      <td>49</td>\n",
       "      <td>25</td>\n",
       "      <td>Medium</td>\n",
       "      <td>Tier 1</td>\n",
       "      <td>Supermarket Type1</td>\n",
       "      <td>2097.2700</td>\n",
       "    </tr>\n",
       "    <tr>\n",
       "      <th>3</th>\n",
       "      <td>FDX07</td>\n",
       "      <td>FD</td>\n",
       "      <td>7</td>\n",
       "      <td>19.20</td>\n",
       "      <td>Regular</td>\n",
       "      <td>0.000000</td>\n",
       "      <td>Fruits and Vegetables</td>\n",
       "      <td>182.0950</td>\n",
       "      <td>10</td>\n",
       "      <td>26</td>\n",
       "      <td>Medium</td>\n",
       "      <td>Tier 3</td>\n",
       "      <td>Grocery Store</td>\n",
       "      <td>732.3800</td>\n",
       "    </tr>\n",
       "    <tr>\n",
       "      <th>4</th>\n",
       "      <td>NCD19</td>\n",
       "      <td>NC</td>\n",
       "      <td>19</td>\n",
       "      <td>8.93</td>\n",
       "      <td>Low Fat</td>\n",
       "      <td>0.000000</td>\n",
       "      <td>Household</td>\n",
       "      <td>53.8614</td>\n",
       "      <td>13</td>\n",
       "      <td>37</td>\n",
       "      <td>High</td>\n",
       "      <td>Tier 3</td>\n",
       "      <td>Supermarket Type1</td>\n",
       "      <td>994.7052</td>\n",
       "    </tr>\n",
       "  </tbody>\n",
       "</table>\n",
       "</div>"
      ],
      "text/plain": [
       "  Item_Identifier item_ide  item_ide_num  Item_Weight Item_Fat_Content  \\\n",
       "0           FDA15       FD            15         9.30          Low Fat   \n",
       "1           DRC01       DR             1         5.92          Regular   \n",
       "2           FDN15       FD            15        17.50          Low Fat   \n",
       "3           FDX07       FD             7        19.20          Regular   \n",
       "4           NCD19       NC            19         8.93          Low Fat   \n",
       "\n",
       "   Item_Visibility              Item_Type  Item_MRP  Outlet_Identifier  \\\n",
       "0         0.016047                  Dairy  249.8092                 49   \n",
       "1         0.019278            Soft Drinks   48.2692                 18   \n",
       "2         0.016760                   Meat  141.6180                 49   \n",
       "3         0.000000  Fruits and Vegetables  182.0950                 10   \n",
       "4         0.000000              Household   53.8614                 13   \n",
       "\n",
       "   Outlet_Establishment_Year Outlet_Size Outlet_Location_Type  \\\n",
       "0                         25      Medium               Tier 1   \n",
       "1                         15      Medium               Tier 3   \n",
       "2                         25      Medium               Tier 1   \n",
       "3                         26      Medium               Tier 3   \n",
       "4                         37        High               Tier 3   \n",
       "\n",
       "         Outlet_Type  Item_Outlet_Sales  \n",
       "0  Supermarket Type1          3735.1380  \n",
       "1  Supermarket Type2           443.4228  \n",
       "2  Supermarket Type1          2097.2700  \n",
       "3      Grocery Store           732.3800  \n",
       "4  Supermarket Type1           994.7052  "
      ]
     },
     "execution_count": 54,
     "metadata": {},
     "output_type": "execute_result"
    }
   ],
   "source": [
    "df.head()"
   ]
  },
  {
   "cell_type": "markdown",
   "metadata": {},
   "source": [
    "**Encoding Non-Numerical Data in columns:-**\n"
   ]
  },
  {
   "cell_type": "markdown",
   "metadata": {},
   "source": [
    "*Ordinal:-*\n"
   ]
  },
  {
   "cell_type": "markdown",
   "metadata": {},
   "source": [
    "    data values are ordered :- \n",
    "        eg. High, Medium, Small\n",
    "    Uses labeded encoding:-\n",
    "        0,1,2 \n"
   ]
  },
  {
   "cell_type": "markdown",
   "metadata": {},
   "source": [
    "*Nominal:-*\n"
   ]
  },
  {
   "cell_type": "markdown",
   "metadata": {},
   "source": [
    "    data values can't be ordered :-\n",
    "        eg. FD,DR,NC\n",
    "    uses one-hot encoding:-\n",
    "        FD :- 1 0 0\n",
    "        DR :- 0 1 0\n",
    "        NC :- 0 0 1"
   ]
  },
  {
   "cell_type": "code",
   "execution_count": 55,
   "metadata": {},
   "outputs": [],
   "source": [
    "#Ordinal data encoding\n",
    "\n",
    "orginal_columns = ['Item_Fat_Content','Outlet_Size','Outlet_Location_Type','Outlet_Type']\n",
    "\n",
    "for i in orginal_columns:\n",
    "    df[i] = df[i].astype('category').cat.codes"
   ]
  },
  {
   "cell_type": "code",
   "execution_count": 56,
   "metadata": {},
   "outputs": [
    {
     "data": {
      "application/vnd.microsoft.datawrangler.viewer.v0+json": {
       "columns": [
        {
         "name": "index",
         "rawType": "int64",
         "type": "integer"
        },
        {
         "name": "Item_Identifier",
         "rawType": "object",
         "type": "string"
        },
        {
         "name": "item_ide",
         "rawType": "object",
         "type": "string"
        },
        {
         "name": "item_ide_num",
         "rawType": "int64",
         "type": "integer"
        },
        {
         "name": "Item_Weight",
         "rawType": "float64",
         "type": "float"
        },
        {
         "name": "Item_Fat_Content",
         "rawType": "int8",
         "type": "integer"
        },
        {
         "name": "Item_Visibility",
         "rawType": "float64",
         "type": "float"
        },
        {
         "name": "Item_Type",
         "rawType": "object",
         "type": "string"
        },
        {
         "name": "Item_MRP",
         "rawType": "float64",
         "type": "float"
        },
        {
         "name": "Outlet_Identifier",
         "rawType": "int64",
         "type": "integer"
        },
        {
         "name": "Outlet_Establishment_Year",
         "rawType": "int64",
         "type": "integer"
        },
        {
         "name": "Outlet_Size",
         "rawType": "int8",
         "type": "integer"
        },
        {
         "name": "Outlet_Location_Type",
         "rawType": "int8",
         "type": "integer"
        },
        {
         "name": "Outlet_Type",
         "rawType": "int8",
         "type": "integer"
        },
        {
         "name": "Item_Outlet_Sales",
         "rawType": "float64",
         "type": "float"
        }
       ],
       "ref": "a4cfba97-37f4-4299-8c82-d9866b8b83d9",
       "rows": [
        [
         "0",
         "FDA15",
         "FD",
         "15",
         "9.3",
         "0",
         "0.016047301",
         "Dairy",
         "249.8092",
         "49",
         "25",
         "1",
         "0",
         "1",
         "3735.138"
        ],
        [
         "1",
         "DRC01",
         "DR",
         "1",
         "5.92",
         "1",
         "0.019278216",
         "Soft Drinks",
         "48.2692",
         "18",
         "15",
         "1",
         "2",
         "2",
         "443.4228"
        ],
        [
         "2",
         "FDN15",
         "FD",
         "15",
         "17.5",
         "0",
         "0.016760075",
         "Meat",
         "141.618",
         "49",
         "25",
         "1",
         "0",
         "1",
         "2097.27"
        ],
        [
         "3",
         "FDX07",
         "FD",
         "7",
         "19.2",
         "1",
         "0.0",
         "Fruits and Vegetables",
         "182.095",
         "10",
         "26",
         "1",
         "2",
         "0",
         "732.38"
        ],
        [
         "4",
         "NCD19",
         "NC",
         "19",
         "8.93",
         "0",
         "0.0",
         "Household",
         "53.8614",
         "13",
         "37",
         "0",
         "2",
         "1",
         "994.7052"
        ]
       ],
       "shape": {
        "columns": 14,
        "rows": 5
       }
      },
      "text/html": [
       "<div>\n",
       "<style scoped>\n",
       "    .dataframe tbody tr th:only-of-type {\n",
       "        vertical-align: middle;\n",
       "    }\n",
       "\n",
       "    .dataframe tbody tr th {\n",
       "        vertical-align: top;\n",
       "    }\n",
       "\n",
       "    .dataframe thead th {\n",
       "        text-align: right;\n",
       "    }\n",
       "</style>\n",
       "<table border=\"1\" class=\"dataframe\">\n",
       "  <thead>\n",
       "    <tr style=\"text-align: right;\">\n",
       "      <th></th>\n",
       "      <th>Item_Identifier</th>\n",
       "      <th>item_ide</th>\n",
       "      <th>item_ide_num</th>\n",
       "      <th>Item_Weight</th>\n",
       "      <th>Item_Fat_Content</th>\n",
       "      <th>Item_Visibility</th>\n",
       "      <th>Item_Type</th>\n",
       "      <th>Item_MRP</th>\n",
       "      <th>Outlet_Identifier</th>\n",
       "      <th>Outlet_Establishment_Year</th>\n",
       "      <th>Outlet_Size</th>\n",
       "      <th>Outlet_Location_Type</th>\n",
       "      <th>Outlet_Type</th>\n",
       "      <th>Item_Outlet_Sales</th>\n",
       "    </tr>\n",
       "  </thead>\n",
       "  <tbody>\n",
       "    <tr>\n",
       "      <th>0</th>\n",
       "      <td>FDA15</td>\n",
       "      <td>FD</td>\n",
       "      <td>15</td>\n",
       "      <td>9.30</td>\n",
       "      <td>0</td>\n",
       "      <td>0.016047</td>\n",
       "      <td>Dairy</td>\n",
       "      <td>249.8092</td>\n",
       "      <td>49</td>\n",
       "      <td>25</td>\n",
       "      <td>1</td>\n",
       "      <td>0</td>\n",
       "      <td>1</td>\n",
       "      <td>3735.1380</td>\n",
       "    </tr>\n",
       "    <tr>\n",
       "      <th>1</th>\n",
       "      <td>DRC01</td>\n",
       "      <td>DR</td>\n",
       "      <td>1</td>\n",
       "      <td>5.92</td>\n",
       "      <td>1</td>\n",
       "      <td>0.019278</td>\n",
       "      <td>Soft Drinks</td>\n",
       "      <td>48.2692</td>\n",
       "      <td>18</td>\n",
       "      <td>15</td>\n",
       "      <td>1</td>\n",
       "      <td>2</td>\n",
       "      <td>2</td>\n",
       "      <td>443.4228</td>\n",
       "    </tr>\n",
       "    <tr>\n",
       "      <th>2</th>\n",
       "      <td>FDN15</td>\n",
       "      <td>FD</td>\n",
       "      <td>15</td>\n",
       "      <td>17.50</td>\n",
       "      <td>0</td>\n",
       "      <td>0.016760</td>\n",
       "      <td>Meat</td>\n",
       "      <td>141.6180</td>\n",
       "      <td>49</td>\n",
       "      <td>25</td>\n",
       "      <td>1</td>\n",
       "      <td>0</td>\n",
       "      <td>1</td>\n",
       "      <td>2097.2700</td>\n",
       "    </tr>\n",
       "    <tr>\n",
       "      <th>3</th>\n",
       "      <td>FDX07</td>\n",
       "      <td>FD</td>\n",
       "      <td>7</td>\n",
       "      <td>19.20</td>\n",
       "      <td>1</td>\n",
       "      <td>0.000000</td>\n",
       "      <td>Fruits and Vegetables</td>\n",
       "      <td>182.0950</td>\n",
       "      <td>10</td>\n",
       "      <td>26</td>\n",
       "      <td>1</td>\n",
       "      <td>2</td>\n",
       "      <td>0</td>\n",
       "      <td>732.3800</td>\n",
       "    </tr>\n",
       "    <tr>\n",
       "      <th>4</th>\n",
       "      <td>NCD19</td>\n",
       "      <td>NC</td>\n",
       "      <td>19</td>\n",
       "      <td>8.93</td>\n",
       "      <td>0</td>\n",
       "      <td>0.000000</td>\n",
       "      <td>Household</td>\n",
       "      <td>53.8614</td>\n",
       "      <td>13</td>\n",
       "      <td>37</td>\n",
       "      <td>0</td>\n",
       "      <td>2</td>\n",
       "      <td>1</td>\n",
       "      <td>994.7052</td>\n",
       "    </tr>\n",
       "  </tbody>\n",
       "</table>\n",
       "</div>"
      ],
      "text/plain": [
       "  Item_Identifier item_ide  item_ide_num  Item_Weight  Item_Fat_Content  \\\n",
       "0           FDA15       FD            15         9.30                 0   \n",
       "1           DRC01       DR             1         5.92                 1   \n",
       "2           FDN15       FD            15        17.50                 0   \n",
       "3           FDX07       FD             7        19.20                 1   \n",
       "4           NCD19       NC            19         8.93                 0   \n",
       "\n",
       "   Item_Visibility              Item_Type  Item_MRP  Outlet_Identifier  \\\n",
       "0         0.016047                  Dairy  249.8092                 49   \n",
       "1         0.019278            Soft Drinks   48.2692                 18   \n",
       "2         0.016760                   Meat  141.6180                 49   \n",
       "3         0.000000  Fruits and Vegetables  182.0950                 10   \n",
       "4         0.000000              Household   53.8614                 13   \n",
       "\n",
       "   Outlet_Establishment_Year  Outlet_Size  Outlet_Location_Type  Outlet_Type  \\\n",
       "0                         25            1                     0            1   \n",
       "1                         15            1                     2            2   \n",
       "2                         25            1                     0            1   \n",
       "3                         26            1                     2            0   \n",
       "4                         37            0                     2            1   \n",
       "\n",
       "   Item_Outlet_Sales  \n",
       "0          3735.1380  \n",
       "1           443.4228  \n",
       "2          2097.2700  \n",
       "3           732.3800  \n",
       "4           994.7052  "
      ]
     },
     "execution_count": 56,
     "metadata": {},
     "output_type": "execute_result"
    }
   ],
   "source": [
    "df.head()"
   ]
  },
  {
   "cell_type": "code",
   "execution_count": 57,
   "metadata": {},
   "outputs": [],
   "source": [
    "df = df.drop('Item_Identifier',axis='columns')"
   ]
  },
  {
   "cell_type": "code",
   "execution_count": 58,
   "metadata": {},
   "outputs": [
    {
     "data": {
      "text/plain": [
       "array(['Dairy', 'Soft Drinks', 'Meat', 'Fruits and Vegetables',\n",
       "       'Household', 'Baking Goods', 'Snack Foods', 'Frozen Foods',\n",
       "       'Breakfast', 'Health and Hygiene', 'Hard Drinks', 'Canned',\n",
       "       'Breads', 'Starchy Foods', 'Others', 'Seafood'], dtype=object)"
      ]
     },
     "execution_count": 58,
     "metadata": {},
     "output_type": "execute_result"
    }
   ],
   "source": [
    "df['Item_Type'].unique()"
   ]
  },
  {
   "cell_type": "code",
   "execution_count": 59,
   "metadata": {},
   "outputs": [
    {
     "data": {
      "application/vnd.microsoft.datawrangler.viewer.v0+json": {
       "columns": [
        {
         "name": "index",
         "rawType": "int64",
         "type": "integer"
        },
        {
         "name": "item_ide_num",
         "rawType": "int64",
         "type": "integer"
        },
        {
         "name": "Item_Weight",
         "rawType": "float64",
         "type": "float"
        },
        {
         "name": "Item_Fat_Content",
         "rawType": "int8",
         "type": "integer"
        },
        {
         "name": "Item_Visibility",
         "rawType": "float64",
         "type": "float"
        },
        {
         "name": "Item_MRP",
         "rawType": "float64",
         "type": "float"
        },
        {
         "name": "Outlet_Identifier",
         "rawType": "int64",
         "type": "integer"
        },
        {
         "name": "Outlet_Establishment_Year",
         "rawType": "int64",
         "type": "integer"
        },
        {
         "name": "Outlet_Size",
         "rawType": "int8",
         "type": "integer"
        },
        {
         "name": "Outlet_Location_Type",
         "rawType": "int8",
         "type": "integer"
        },
        {
         "name": "Outlet_Type",
         "rawType": "int8",
         "type": "integer"
        },
        {
         "name": "Item_Outlet_Sales",
         "rawType": "float64",
         "type": "float"
        },
        {
         "name": "item_ide_DR",
         "rawType": "bool",
         "type": "boolean"
        },
        {
         "name": "item_ide_FD",
         "rawType": "bool",
         "type": "boolean"
        },
        {
         "name": "item_ide_NC",
         "rawType": "bool",
         "type": "boolean"
        },
        {
         "name": "Item_Type_Baking Goods",
         "rawType": "bool",
         "type": "boolean"
        },
        {
         "name": "Item_Type_Breads",
         "rawType": "bool",
         "type": "boolean"
        },
        {
         "name": "Item_Type_Breakfast",
         "rawType": "bool",
         "type": "boolean"
        },
        {
         "name": "Item_Type_Canned",
         "rawType": "bool",
         "type": "boolean"
        },
        {
         "name": "Item_Type_Dairy",
         "rawType": "bool",
         "type": "boolean"
        },
        {
         "name": "Item_Type_Frozen Foods",
         "rawType": "bool",
         "type": "boolean"
        },
        {
         "name": "Item_Type_Fruits and Vegetables",
         "rawType": "bool",
         "type": "boolean"
        },
        {
         "name": "Item_Type_Hard Drinks",
         "rawType": "bool",
         "type": "boolean"
        },
        {
         "name": "Item_Type_Health and Hygiene",
         "rawType": "bool",
         "type": "boolean"
        },
        {
         "name": "Item_Type_Household",
         "rawType": "bool",
         "type": "boolean"
        },
        {
         "name": "Item_Type_Meat",
         "rawType": "bool",
         "type": "boolean"
        },
        {
         "name": "Item_Type_Others",
         "rawType": "bool",
         "type": "boolean"
        },
        {
         "name": "Item_Type_Seafood",
         "rawType": "bool",
         "type": "boolean"
        },
        {
         "name": "Item_Type_Snack Foods",
         "rawType": "bool",
         "type": "boolean"
        },
        {
         "name": "Item_Type_Soft Drinks",
         "rawType": "bool",
         "type": "boolean"
        },
        {
         "name": "Item_Type_Starchy Foods",
         "rawType": "bool",
         "type": "boolean"
        }
       ],
       "ref": "67b5ead9-c2c7-4be3-8bdf-45f392a940ad",
       "rows": [
        [
         "0",
         "15",
         "9.3",
         "0",
         "0.016047301",
         "249.8092",
         "49",
         "25",
         "1",
         "0",
         "1",
         "3735.138",
         "False",
         "True",
         "False",
         "False",
         "False",
         "False",
         "False",
         "True",
         "False",
         "False",
         "False",
         "False",
         "False",
         "False",
         "False",
         "False",
         "False",
         "False",
         "False"
        ],
        [
         "1",
         "1",
         "5.92",
         "1",
         "0.019278216",
         "48.2692",
         "18",
         "15",
         "1",
         "2",
         "2",
         "443.4228",
         "True",
         "False",
         "False",
         "False",
         "False",
         "False",
         "False",
         "False",
         "False",
         "False",
         "False",
         "False",
         "False",
         "False",
         "False",
         "False",
         "False",
         "True",
         "False"
        ],
        [
         "2",
         "15",
         "17.5",
         "0",
         "0.016760075",
         "141.618",
         "49",
         "25",
         "1",
         "0",
         "1",
         "2097.27",
         "False",
         "True",
         "False",
         "False",
         "False",
         "False",
         "False",
         "False",
         "False",
         "False",
         "False",
         "False",
         "False",
         "True",
         "False",
         "False",
         "False",
         "False",
         "False"
        ],
        [
         "3",
         "7",
         "19.2",
         "1",
         "0.0",
         "182.095",
         "10",
         "26",
         "1",
         "2",
         "0",
         "732.38",
         "False",
         "True",
         "False",
         "False",
         "False",
         "False",
         "False",
         "False",
         "False",
         "True",
         "False",
         "False",
         "False",
         "False",
         "False",
         "False",
         "False",
         "False",
         "False"
        ],
        [
         "4",
         "19",
         "8.93",
         "0",
         "0.0",
         "53.8614",
         "13",
         "37",
         "0",
         "2",
         "1",
         "994.7052",
         "False",
         "False",
         "True",
         "False",
         "False",
         "False",
         "False",
         "False",
         "False",
         "False",
         "False",
         "False",
         "True",
         "False",
         "False",
         "False",
         "False",
         "False",
         "False"
        ]
       ],
       "shape": {
        "columns": 30,
        "rows": 5
       }
      },
      "text/html": [
       "<div>\n",
       "<style scoped>\n",
       "    .dataframe tbody tr th:only-of-type {\n",
       "        vertical-align: middle;\n",
       "    }\n",
       "\n",
       "    .dataframe tbody tr th {\n",
       "        vertical-align: top;\n",
       "    }\n",
       "\n",
       "    .dataframe thead th {\n",
       "        text-align: right;\n",
       "    }\n",
       "</style>\n",
       "<table border=\"1\" class=\"dataframe\">\n",
       "  <thead>\n",
       "    <tr style=\"text-align: right;\">\n",
       "      <th></th>\n",
       "      <th>item_ide_num</th>\n",
       "      <th>Item_Weight</th>\n",
       "      <th>Item_Fat_Content</th>\n",
       "      <th>Item_Visibility</th>\n",
       "      <th>Item_MRP</th>\n",
       "      <th>Outlet_Identifier</th>\n",
       "      <th>Outlet_Establishment_Year</th>\n",
       "      <th>Outlet_Size</th>\n",
       "      <th>Outlet_Location_Type</th>\n",
       "      <th>Outlet_Type</th>\n",
       "      <th>...</th>\n",
       "      <th>Item_Type_Fruits and Vegetables</th>\n",
       "      <th>Item_Type_Hard Drinks</th>\n",
       "      <th>Item_Type_Health and Hygiene</th>\n",
       "      <th>Item_Type_Household</th>\n",
       "      <th>Item_Type_Meat</th>\n",
       "      <th>Item_Type_Others</th>\n",
       "      <th>Item_Type_Seafood</th>\n",
       "      <th>Item_Type_Snack Foods</th>\n",
       "      <th>Item_Type_Soft Drinks</th>\n",
       "      <th>Item_Type_Starchy Foods</th>\n",
       "    </tr>\n",
       "  </thead>\n",
       "  <tbody>\n",
       "    <tr>\n",
       "      <th>0</th>\n",
       "      <td>15</td>\n",
       "      <td>9.30</td>\n",
       "      <td>0</td>\n",
       "      <td>0.016047</td>\n",
       "      <td>249.8092</td>\n",
       "      <td>49</td>\n",
       "      <td>25</td>\n",
       "      <td>1</td>\n",
       "      <td>0</td>\n",
       "      <td>1</td>\n",
       "      <td>...</td>\n",
       "      <td>False</td>\n",
       "      <td>False</td>\n",
       "      <td>False</td>\n",
       "      <td>False</td>\n",
       "      <td>False</td>\n",
       "      <td>False</td>\n",
       "      <td>False</td>\n",
       "      <td>False</td>\n",
       "      <td>False</td>\n",
       "      <td>False</td>\n",
       "    </tr>\n",
       "    <tr>\n",
       "      <th>1</th>\n",
       "      <td>1</td>\n",
       "      <td>5.92</td>\n",
       "      <td>1</td>\n",
       "      <td>0.019278</td>\n",
       "      <td>48.2692</td>\n",
       "      <td>18</td>\n",
       "      <td>15</td>\n",
       "      <td>1</td>\n",
       "      <td>2</td>\n",
       "      <td>2</td>\n",
       "      <td>...</td>\n",
       "      <td>False</td>\n",
       "      <td>False</td>\n",
       "      <td>False</td>\n",
       "      <td>False</td>\n",
       "      <td>False</td>\n",
       "      <td>False</td>\n",
       "      <td>False</td>\n",
       "      <td>False</td>\n",
       "      <td>True</td>\n",
       "      <td>False</td>\n",
       "    </tr>\n",
       "    <tr>\n",
       "      <th>2</th>\n",
       "      <td>15</td>\n",
       "      <td>17.50</td>\n",
       "      <td>0</td>\n",
       "      <td>0.016760</td>\n",
       "      <td>141.6180</td>\n",
       "      <td>49</td>\n",
       "      <td>25</td>\n",
       "      <td>1</td>\n",
       "      <td>0</td>\n",
       "      <td>1</td>\n",
       "      <td>...</td>\n",
       "      <td>False</td>\n",
       "      <td>False</td>\n",
       "      <td>False</td>\n",
       "      <td>False</td>\n",
       "      <td>True</td>\n",
       "      <td>False</td>\n",
       "      <td>False</td>\n",
       "      <td>False</td>\n",
       "      <td>False</td>\n",
       "      <td>False</td>\n",
       "    </tr>\n",
       "    <tr>\n",
       "      <th>3</th>\n",
       "      <td>7</td>\n",
       "      <td>19.20</td>\n",
       "      <td>1</td>\n",
       "      <td>0.000000</td>\n",
       "      <td>182.0950</td>\n",
       "      <td>10</td>\n",
       "      <td>26</td>\n",
       "      <td>1</td>\n",
       "      <td>2</td>\n",
       "      <td>0</td>\n",
       "      <td>...</td>\n",
       "      <td>True</td>\n",
       "      <td>False</td>\n",
       "      <td>False</td>\n",
       "      <td>False</td>\n",
       "      <td>False</td>\n",
       "      <td>False</td>\n",
       "      <td>False</td>\n",
       "      <td>False</td>\n",
       "      <td>False</td>\n",
       "      <td>False</td>\n",
       "    </tr>\n",
       "    <tr>\n",
       "      <th>4</th>\n",
       "      <td>19</td>\n",
       "      <td>8.93</td>\n",
       "      <td>0</td>\n",
       "      <td>0.000000</td>\n",
       "      <td>53.8614</td>\n",
       "      <td>13</td>\n",
       "      <td>37</td>\n",
       "      <td>0</td>\n",
       "      <td>2</td>\n",
       "      <td>1</td>\n",
       "      <td>...</td>\n",
       "      <td>False</td>\n",
       "      <td>False</td>\n",
       "      <td>False</td>\n",
       "      <td>True</td>\n",
       "      <td>False</td>\n",
       "      <td>False</td>\n",
       "      <td>False</td>\n",
       "      <td>False</td>\n",
       "      <td>False</td>\n",
       "      <td>False</td>\n",
       "    </tr>\n",
       "  </tbody>\n",
       "</table>\n",
       "<p>5 rows × 30 columns</p>\n",
       "</div>"
      ],
      "text/plain": [
       "   item_ide_num  Item_Weight  Item_Fat_Content  Item_Visibility  Item_MRP  \\\n",
       "0            15         9.30                 0         0.016047  249.8092   \n",
       "1             1         5.92                 1         0.019278   48.2692   \n",
       "2            15        17.50                 0         0.016760  141.6180   \n",
       "3             7        19.20                 1         0.000000  182.0950   \n",
       "4            19         8.93                 0         0.000000   53.8614   \n",
       "\n",
       "   Outlet_Identifier  Outlet_Establishment_Year  Outlet_Size  \\\n",
       "0                 49                         25            1   \n",
       "1                 18                         15            1   \n",
       "2                 49                         25            1   \n",
       "3                 10                         26            1   \n",
       "4                 13                         37            0   \n",
       "\n",
       "   Outlet_Location_Type  Outlet_Type  ...  Item_Type_Fruits and Vegetables  \\\n",
       "0                     0            1  ...                            False   \n",
       "1                     2            2  ...                            False   \n",
       "2                     0            1  ...                            False   \n",
       "3                     2            0  ...                             True   \n",
       "4                     2            1  ...                            False   \n",
       "\n",
       "   Item_Type_Hard Drinks  Item_Type_Health and Hygiene  Item_Type_Household  \\\n",
       "0                  False                         False                False   \n",
       "1                  False                         False                False   \n",
       "2                  False                         False                False   \n",
       "3                  False                         False                False   \n",
       "4                  False                         False                 True   \n",
       "\n",
       "   Item_Type_Meat  Item_Type_Others  Item_Type_Seafood  Item_Type_Snack Foods  \\\n",
       "0           False             False              False                  False   \n",
       "1           False             False              False                  False   \n",
       "2            True             False              False                  False   \n",
       "3           False             False              False                  False   \n",
       "4           False             False              False                  False   \n",
       "\n",
       "   Item_Type_Soft Drinks  Item_Type_Starchy Foods  \n",
       "0                  False                    False  \n",
       "1                   True                    False  \n",
       "2                  False                    False  \n",
       "3                  False                    False  \n",
       "4                  False                    False  \n",
       "\n",
       "[5 rows x 30 columns]"
      ]
     },
     "execution_count": 59,
     "metadata": {},
     "output_type": "execute_result"
    }
   ],
   "source": [
    "#Nominal Data Encoding\n",
    "\n",
    "updated_df = pd.get_dummies(df,columns=['item_ide','Item_Type'])\n",
    "\n",
    "updated_df.head()"
   ]
  },
  {
   "cell_type": "markdown",
   "metadata": {},
   "source": [
    "**Linear Regression Model for Big Mart Data**"
   ]
  },
  {
   "cell_type": "code",
   "execution_count": 60,
   "metadata": {},
   "outputs": [],
   "source": [
    "X = updated_df.drop(['Item_Outlet_Sales'],axis='columns')\n",
    "Y_log = np.log(updated_df['Item_Outlet_Sales'])"
   ]
  },
  {
   "cell_type": "code",
   "execution_count": 61,
   "metadata": {},
   "outputs": [
    {
     "data": {
      "text/html": [
       "<style>#sk-container-id-1 {\n",
       "  /* Definition of color scheme common for light and dark mode */\n",
       "  --sklearn-color-text: #000;\n",
       "  --sklearn-color-text-muted: #666;\n",
       "  --sklearn-color-line: gray;\n",
       "  /* Definition of color scheme for unfitted estimators */\n",
       "  --sklearn-color-unfitted-level-0: #fff5e6;\n",
       "  --sklearn-color-unfitted-level-1: #f6e4d2;\n",
       "  --sklearn-color-unfitted-level-2: #ffe0b3;\n",
       "  --sklearn-color-unfitted-level-3: chocolate;\n",
       "  /* Definition of color scheme for fitted estimators */\n",
       "  --sklearn-color-fitted-level-0: #f0f8ff;\n",
       "  --sklearn-color-fitted-level-1: #d4ebff;\n",
       "  --sklearn-color-fitted-level-2: #b3dbfd;\n",
       "  --sklearn-color-fitted-level-3: cornflowerblue;\n",
       "\n",
       "  /* Specific color for light theme */\n",
       "  --sklearn-color-text-on-default-background: var(--sg-text-color, var(--theme-code-foreground, var(--jp-content-font-color1, black)));\n",
       "  --sklearn-color-background: var(--sg-background-color, var(--theme-background, var(--jp-layout-color0, white)));\n",
       "  --sklearn-color-border-box: var(--sg-text-color, var(--theme-code-foreground, var(--jp-content-font-color1, black)));\n",
       "  --sklearn-color-icon: #696969;\n",
       "\n",
       "  @media (prefers-color-scheme: dark) {\n",
       "    /* Redefinition of color scheme for dark theme */\n",
       "    --sklearn-color-text-on-default-background: var(--sg-text-color, var(--theme-code-foreground, var(--jp-content-font-color1, white)));\n",
       "    --sklearn-color-background: var(--sg-background-color, var(--theme-background, var(--jp-layout-color0, #111)));\n",
       "    --sklearn-color-border-box: var(--sg-text-color, var(--theme-code-foreground, var(--jp-content-font-color1, white)));\n",
       "    --sklearn-color-icon: #878787;\n",
       "  }\n",
       "}\n",
       "\n",
       "#sk-container-id-1 {\n",
       "  color: var(--sklearn-color-text);\n",
       "}\n",
       "\n",
       "#sk-container-id-1 pre {\n",
       "  padding: 0;\n",
       "}\n",
       "\n",
       "#sk-container-id-1 input.sk-hidden--visually {\n",
       "  border: 0;\n",
       "  clip: rect(1px 1px 1px 1px);\n",
       "  clip: rect(1px, 1px, 1px, 1px);\n",
       "  height: 1px;\n",
       "  margin: -1px;\n",
       "  overflow: hidden;\n",
       "  padding: 0;\n",
       "  position: absolute;\n",
       "  width: 1px;\n",
       "}\n",
       "\n",
       "#sk-container-id-1 div.sk-dashed-wrapped {\n",
       "  border: 1px dashed var(--sklearn-color-line);\n",
       "  margin: 0 0.4em 0.5em 0.4em;\n",
       "  box-sizing: border-box;\n",
       "  padding-bottom: 0.4em;\n",
       "  background-color: var(--sklearn-color-background);\n",
       "}\n",
       "\n",
       "#sk-container-id-1 div.sk-container {\n",
       "  /* jupyter's `normalize.less` sets `[hidden] { display: none; }`\n",
       "     but bootstrap.min.css set `[hidden] { display: none !important; }`\n",
       "     so we also need the `!important` here to be able to override the\n",
       "     default hidden behavior on the sphinx rendered scikit-learn.org.\n",
       "     See: https://github.com/scikit-learn/scikit-learn/issues/21755 */\n",
       "  display: inline-block !important;\n",
       "  position: relative;\n",
       "}\n",
       "\n",
       "#sk-container-id-1 div.sk-text-repr-fallback {\n",
       "  display: none;\n",
       "}\n",
       "\n",
       "div.sk-parallel-item,\n",
       "div.sk-serial,\n",
       "div.sk-item {\n",
       "  /* draw centered vertical line to link estimators */\n",
       "  background-image: linear-gradient(var(--sklearn-color-text-on-default-background), var(--sklearn-color-text-on-default-background));\n",
       "  background-size: 2px 100%;\n",
       "  background-repeat: no-repeat;\n",
       "  background-position: center center;\n",
       "}\n",
       "\n",
       "/* Parallel-specific style estimator block */\n",
       "\n",
       "#sk-container-id-1 div.sk-parallel-item::after {\n",
       "  content: \"\";\n",
       "  width: 100%;\n",
       "  border-bottom: 2px solid var(--sklearn-color-text-on-default-background);\n",
       "  flex-grow: 1;\n",
       "}\n",
       "\n",
       "#sk-container-id-1 div.sk-parallel {\n",
       "  display: flex;\n",
       "  align-items: stretch;\n",
       "  justify-content: center;\n",
       "  background-color: var(--sklearn-color-background);\n",
       "  position: relative;\n",
       "}\n",
       "\n",
       "#sk-container-id-1 div.sk-parallel-item {\n",
       "  display: flex;\n",
       "  flex-direction: column;\n",
       "}\n",
       "\n",
       "#sk-container-id-1 div.sk-parallel-item:first-child::after {\n",
       "  align-self: flex-end;\n",
       "  width: 50%;\n",
       "}\n",
       "\n",
       "#sk-container-id-1 div.sk-parallel-item:last-child::after {\n",
       "  align-self: flex-start;\n",
       "  width: 50%;\n",
       "}\n",
       "\n",
       "#sk-container-id-1 div.sk-parallel-item:only-child::after {\n",
       "  width: 0;\n",
       "}\n",
       "\n",
       "/* Serial-specific style estimator block */\n",
       "\n",
       "#sk-container-id-1 div.sk-serial {\n",
       "  display: flex;\n",
       "  flex-direction: column;\n",
       "  align-items: center;\n",
       "  background-color: var(--sklearn-color-background);\n",
       "  padding-right: 1em;\n",
       "  padding-left: 1em;\n",
       "}\n",
       "\n",
       "\n",
       "/* Toggleable style: style used for estimator/Pipeline/ColumnTransformer box that is\n",
       "clickable and can be expanded/collapsed.\n",
       "- Pipeline and ColumnTransformer use this feature and define the default style\n",
       "- Estimators will overwrite some part of the style using the `sk-estimator` class\n",
       "*/\n",
       "\n",
       "/* Pipeline and ColumnTransformer style (default) */\n",
       "\n",
       "#sk-container-id-1 div.sk-toggleable {\n",
       "  /* Default theme specific background. It is overwritten whether we have a\n",
       "  specific estimator or a Pipeline/ColumnTransformer */\n",
       "  background-color: var(--sklearn-color-background);\n",
       "}\n",
       "\n",
       "/* Toggleable label */\n",
       "#sk-container-id-1 label.sk-toggleable__label {\n",
       "  cursor: pointer;\n",
       "  display: flex;\n",
       "  width: 100%;\n",
       "  margin-bottom: 0;\n",
       "  padding: 0.5em;\n",
       "  box-sizing: border-box;\n",
       "  text-align: center;\n",
       "  align-items: start;\n",
       "  justify-content: space-between;\n",
       "  gap: 0.5em;\n",
       "}\n",
       "\n",
       "#sk-container-id-1 label.sk-toggleable__label .caption {\n",
       "  font-size: 0.6rem;\n",
       "  font-weight: lighter;\n",
       "  color: var(--sklearn-color-text-muted);\n",
       "}\n",
       "\n",
       "#sk-container-id-1 label.sk-toggleable__label-arrow:before {\n",
       "  /* Arrow on the left of the label */\n",
       "  content: \"▸\";\n",
       "  float: left;\n",
       "  margin-right: 0.25em;\n",
       "  color: var(--sklearn-color-icon);\n",
       "}\n",
       "\n",
       "#sk-container-id-1 label.sk-toggleable__label-arrow:hover:before {\n",
       "  color: var(--sklearn-color-text);\n",
       "}\n",
       "\n",
       "/* Toggleable content - dropdown */\n",
       "\n",
       "#sk-container-id-1 div.sk-toggleable__content {\n",
       "  max-height: 0;\n",
       "  max-width: 0;\n",
       "  overflow: hidden;\n",
       "  text-align: left;\n",
       "  /* unfitted */\n",
       "  background-color: var(--sklearn-color-unfitted-level-0);\n",
       "}\n",
       "\n",
       "#sk-container-id-1 div.sk-toggleable__content.fitted {\n",
       "  /* fitted */\n",
       "  background-color: var(--sklearn-color-fitted-level-0);\n",
       "}\n",
       "\n",
       "#sk-container-id-1 div.sk-toggleable__content pre {\n",
       "  margin: 0.2em;\n",
       "  border-radius: 0.25em;\n",
       "  color: var(--sklearn-color-text);\n",
       "  /* unfitted */\n",
       "  background-color: var(--sklearn-color-unfitted-level-0);\n",
       "}\n",
       "\n",
       "#sk-container-id-1 div.sk-toggleable__content.fitted pre {\n",
       "  /* unfitted */\n",
       "  background-color: var(--sklearn-color-fitted-level-0);\n",
       "}\n",
       "\n",
       "#sk-container-id-1 input.sk-toggleable__control:checked~div.sk-toggleable__content {\n",
       "  /* Expand drop-down */\n",
       "  max-height: 200px;\n",
       "  max-width: 100%;\n",
       "  overflow: auto;\n",
       "}\n",
       "\n",
       "#sk-container-id-1 input.sk-toggleable__control:checked~label.sk-toggleable__label-arrow:before {\n",
       "  content: \"▾\";\n",
       "}\n",
       "\n",
       "/* Pipeline/ColumnTransformer-specific style */\n",
       "\n",
       "#sk-container-id-1 div.sk-label input.sk-toggleable__control:checked~label.sk-toggleable__label {\n",
       "  color: var(--sklearn-color-text);\n",
       "  background-color: var(--sklearn-color-unfitted-level-2);\n",
       "}\n",
       "\n",
       "#sk-container-id-1 div.sk-label.fitted input.sk-toggleable__control:checked~label.sk-toggleable__label {\n",
       "  background-color: var(--sklearn-color-fitted-level-2);\n",
       "}\n",
       "\n",
       "/* Estimator-specific style */\n",
       "\n",
       "/* Colorize estimator box */\n",
       "#sk-container-id-1 div.sk-estimator input.sk-toggleable__control:checked~label.sk-toggleable__label {\n",
       "  /* unfitted */\n",
       "  background-color: var(--sklearn-color-unfitted-level-2);\n",
       "}\n",
       "\n",
       "#sk-container-id-1 div.sk-estimator.fitted input.sk-toggleable__control:checked~label.sk-toggleable__label {\n",
       "  /* fitted */\n",
       "  background-color: var(--sklearn-color-fitted-level-2);\n",
       "}\n",
       "\n",
       "#sk-container-id-1 div.sk-label label.sk-toggleable__label,\n",
       "#sk-container-id-1 div.sk-label label {\n",
       "  /* The background is the default theme color */\n",
       "  color: var(--sklearn-color-text-on-default-background);\n",
       "}\n",
       "\n",
       "/* On hover, darken the color of the background */\n",
       "#sk-container-id-1 div.sk-label:hover label.sk-toggleable__label {\n",
       "  color: var(--sklearn-color-text);\n",
       "  background-color: var(--sklearn-color-unfitted-level-2);\n",
       "}\n",
       "\n",
       "/* Label box, darken color on hover, fitted */\n",
       "#sk-container-id-1 div.sk-label.fitted:hover label.sk-toggleable__label.fitted {\n",
       "  color: var(--sklearn-color-text);\n",
       "  background-color: var(--sklearn-color-fitted-level-2);\n",
       "}\n",
       "\n",
       "/* Estimator label */\n",
       "\n",
       "#sk-container-id-1 div.sk-label label {\n",
       "  font-family: monospace;\n",
       "  font-weight: bold;\n",
       "  display: inline-block;\n",
       "  line-height: 1.2em;\n",
       "}\n",
       "\n",
       "#sk-container-id-1 div.sk-label-container {\n",
       "  text-align: center;\n",
       "}\n",
       "\n",
       "/* Estimator-specific */\n",
       "#sk-container-id-1 div.sk-estimator {\n",
       "  font-family: monospace;\n",
       "  border: 1px dotted var(--sklearn-color-border-box);\n",
       "  border-radius: 0.25em;\n",
       "  box-sizing: border-box;\n",
       "  margin-bottom: 0.5em;\n",
       "  /* unfitted */\n",
       "  background-color: var(--sklearn-color-unfitted-level-0);\n",
       "}\n",
       "\n",
       "#sk-container-id-1 div.sk-estimator.fitted {\n",
       "  /* fitted */\n",
       "  background-color: var(--sklearn-color-fitted-level-0);\n",
       "}\n",
       "\n",
       "/* on hover */\n",
       "#sk-container-id-1 div.sk-estimator:hover {\n",
       "  /* unfitted */\n",
       "  background-color: var(--sklearn-color-unfitted-level-2);\n",
       "}\n",
       "\n",
       "#sk-container-id-1 div.sk-estimator.fitted:hover {\n",
       "  /* fitted */\n",
       "  background-color: var(--sklearn-color-fitted-level-2);\n",
       "}\n",
       "\n",
       "/* Specification for estimator info (e.g. \"i\" and \"?\") */\n",
       "\n",
       "/* Common style for \"i\" and \"?\" */\n",
       "\n",
       ".sk-estimator-doc-link,\n",
       "a:link.sk-estimator-doc-link,\n",
       "a:visited.sk-estimator-doc-link {\n",
       "  float: right;\n",
       "  font-size: smaller;\n",
       "  line-height: 1em;\n",
       "  font-family: monospace;\n",
       "  background-color: var(--sklearn-color-background);\n",
       "  border-radius: 1em;\n",
       "  height: 1em;\n",
       "  width: 1em;\n",
       "  text-decoration: none !important;\n",
       "  margin-left: 0.5em;\n",
       "  text-align: center;\n",
       "  /* unfitted */\n",
       "  border: var(--sklearn-color-unfitted-level-1) 1pt solid;\n",
       "  color: var(--sklearn-color-unfitted-level-1);\n",
       "}\n",
       "\n",
       ".sk-estimator-doc-link.fitted,\n",
       "a:link.sk-estimator-doc-link.fitted,\n",
       "a:visited.sk-estimator-doc-link.fitted {\n",
       "  /* fitted */\n",
       "  border: var(--sklearn-color-fitted-level-1) 1pt solid;\n",
       "  color: var(--sklearn-color-fitted-level-1);\n",
       "}\n",
       "\n",
       "/* On hover */\n",
       "div.sk-estimator:hover .sk-estimator-doc-link:hover,\n",
       ".sk-estimator-doc-link:hover,\n",
       "div.sk-label-container:hover .sk-estimator-doc-link:hover,\n",
       ".sk-estimator-doc-link:hover {\n",
       "  /* unfitted */\n",
       "  background-color: var(--sklearn-color-unfitted-level-3);\n",
       "  color: var(--sklearn-color-background);\n",
       "  text-decoration: none;\n",
       "}\n",
       "\n",
       "div.sk-estimator.fitted:hover .sk-estimator-doc-link.fitted:hover,\n",
       ".sk-estimator-doc-link.fitted:hover,\n",
       "div.sk-label-container:hover .sk-estimator-doc-link.fitted:hover,\n",
       ".sk-estimator-doc-link.fitted:hover {\n",
       "  /* fitted */\n",
       "  background-color: var(--sklearn-color-fitted-level-3);\n",
       "  color: var(--sklearn-color-background);\n",
       "  text-decoration: none;\n",
       "}\n",
       "\n",
       "/* Span, style for the box shown on hovering the info icon */\n",
       ".sk-estimator-doc-link span {\n",
       "  display: none;\n",
       "  z-index: 9999;\n",
       "  position: relative;\n",
       "  font-weight: normal;\n",
       "  right: .2ex;\n",
       "  padding: .5ex;\n",
       "  margin: .5ex;\n",
       "  width: min-content;\n",
       "  min-width: 20ex;\n",
       "  max-width: 50ex;\n",
       "  color: var(--sklearn-color-text);\n",
       "  box-shadow: 2pt 2pt 4pt #999;\n",
       "  /* unfitted */\n",
       "  background: var(--sklearn-color-unfitted-level-0);\n",
       "  border: .5pt solid var(--sklearn-color-unfitted-level-3);\n",
       "}\n",
       "\n",
       ".sk-estimator-doc-link.fitted span {\n",
       "  /* fitted */\n",
       "  background: var(--sklearn-color-fitted-level-0);\n",
       "  border: var(--sklearn-color-fitted-level-3);\n",
       "}\n",
       "\n",
       ".sk-estimator-doc-link:hover span {\n",
       "  display: block;\n",
       "}\n",
       "\n",
       "/* \"?\"-specific style due to the `<a>` HTML tag */\n",
       "\n",
       "#sk-container-id-1 a.estimator_doc_link {\n",
       "  float: right;\n",
       "  font-size: 1rem;\n",
       "  line-height: 1em;\n",
       "  font-family: monospace;\n",
       "  background-color: var(--sklearn-color-background);\n",
       "  border-radius: 1rem;\n",
       "  height: 1rem;\n",
       "  width: 1rem;\n",
       "  text-decoration: none;\n",
       "  /* unfitted */\n",
       "  color: var(--sklearn-color-unfitted-level-1);\n",
       "  border: var(--sklearn-color-unfitted-level-1) 1pt solid;\n",
       "}\n",
       "\n",
       "#sk-container-id-1 a.estimator_doc_link.fitted {\n",
       "  /* fitted */\n",
       "  border: var(--sklearn-color-fitted-level-1) 1pt solid;\n",
       "  color: var(--sklearn-color-fitted-level-1);\n",
       "}\n",
       "\n",
       "/* On hover */\n",
       "#sk-container-id-1 a.estimator_doc_link:hover {\n",
       "  /* unfitted */\n",
       "  background-color: var(--sklearn-color-unfitted-level-3);\n",
       "  color: var(--sklearn-color-background);\n",
       "  text-decoration: none;\n",
       "}\n",
       "\n",
       "#sk-container-id-1 a.estimator_doc_link.fitted:hover {\n",
       "  /* fitted */\n",
       "  background-color: var(--sklearn-color-fitted-level-3);\n",
       "}\n",
       "</style><div id=\"sk-container-id-1\" class=\"sk-top-container\"><div class=\"sk-text-repr-fallback\"><pre>LinearRegression()</pre><b>In a Jupyter environment, please rerun this cell to show the HTML representation or trust the notebook. <br />On GitHub, the HTML representation is unable to render, please try loading this page with nbviewer.org.</b></div><div class=\"sk-container\" hidden><div class=\"sk-item\"><div class=\"sk-estimator fitted sk-toggleable\"><input class=\"sk-toggleable__control sk-hidden--visually\" id=\"sk-estimator-id-1\" type=\"checkbox\" checked><label for=\"sk-estimator-id-1\" class=\"sk-toggleable__label fitted sk-toggleable__label-arrow\"><div><div>LinearRegression</div></div><div><a class=\"sk-estimator-doc-link fitted\" rel=\"noreferrer\" target=\"_blank\" href=\"https://scikit-learn.org/1.6/modules/generated/sklearn.linear_model.LinearRegression.html\">?<span>Documentation for LinearRegression</span></a><span class=\"sk-estimator-doc-link fitted\">i<span>Fitted</span></span></div></label><div class=\"sk-toggleable__content fitted\"><pre>LinearRegression()</pre></div> </div></div></div></div>"
      ],
      "text/plain": [
       "LinearRegression()"
      ]
     },
     "execution_count": 61,
     "metadata": {},
     "output_type": "execute_result"
    }
   ],
   "source": [
    "from sklearn.model_selection import train_test_split\n",
    "from sklearn.linear_model import LinearRegression\n",
    "\n",
    "X_train,X_test,Y_train,Y_test = train_test_split(X,Y_log,train_size=0.8,random_state=0)\n",
    "\n",
    "model1 = LinearRegression()\n",
    "model1.fit(X_train,Y_train)"
   ]
  },
  {
   "cell_type": "code",
   "execution_count": 62,
   "metadata": {},
   "outputs": [],
   "source": [
    "y_trainPred = model1.predict(X_train)\n",
    "y_testPred = model1.predict(X_test)"
   ]
  },
  {
   "cell_type": "code",
   "execution_count": 63,
   "metadata": {},
   "outputs": [
    {
     "name": "stdout",
     "output_type": "stream",
     "text": [
      "MAE Train :- 0.5161820742129716\n",
      "MAE Test :- 0.5412996047312475\n",
      "\n",
      "R2 Score Train 0.5823832107547902\n",
      "R2 Score Test 0.5616839755304234\n"
     ]
    }
   ],
   "source": [
    "from sklearn.metrics import mean_absolute_error,r2_score\n",
    "\n",
    "print('MAE Train :-',mean_absolute_error(Y_train,y_trainPred))\n",
    "print('MAE Test :-',mean_absolute_error(Y_test,y_testPred))\n",
    "\n",
    "print()\n",
    "\n",
    "print('R2 Score Train',r2_score(Y_train,y_trainPred))\n",
    "print('R2 Score Test',r2_score(Y_test,y_testPred))"
   ]
  },
  {
   "cell_type": "markdown",
   "metadata": {},
   "source": [
    "**Applying Non-Linear Regression on Big Mart Data**"
   ]
  },
  {
   "cell_type": "code",
   "execution_count": 64,
   "metadata": {},
   "outputs": [
    {
     "data": {
      "text/plain": [
       "(6818, 435)"
      ]
     },
     "execution_count": 64,
     "metadata": {},
     "output_type": "execute_result"
    }
   ],
   "source": [
    "from sklearn.preprocessing import PolynomialFeatures\n",
    "poly = PolynomialFeatures(degree=2,include_bias=False,interaction_only=True)\n",
    "poly.fit(X_train)\n",
    "\n",
    "X_trainPoly = poly.transform(X_train)\n",
    "X_testPoly = poly.transform(X_test)\n",
    "\n",
    "X_trainPoly.shape"
   ]
  },
  {
   "cell_type": "code",
   "execution_count": 65,
   "metadata": {},
   "outputs": [
    {
     "data": {
      "text/html": [
       "<style>#sk-container-id-2 {\n",
       "  /* Definition of color scheme common for light and dark mode */\n",
       "  --sklearn-color-text: #000;\n",
       "  --sklearn-color-text-muted: #666;\n",
       "  --sklearn-color-line: gray;\n",
       "  /* Definition of color scheme for unfitted estimators */\n",
       "  --sklearn-color-unfitted-level-0: #fff5e6;\n",
       "  --sklearn-color-unfitted-level-1: #f6e4d2;\n",
       "  --sklearn-color-unfitted-level-2: #ffe0b3;\n",
       "  --sklearn-color-unfitted-level-3: chocolate;\n",
       "  /* Definition of color scheme for fitted estimators */\n",
       "  --sklearn-color-fitted-level-0: #f0f8ff;\n",
       "  --sklearn-color-fitted-level-1: #d4ebff;\n",
       "  --sklearn-color-fitted-level-2: #b3dbfd;\n",
       "  --sklearn-color-fitted-level-3: cornflowerblue;\n",
       "\n",
       "  /* Specific color for light theme */\n",
       "  --sklearn-color-text-on-default-background: var(--sg-text-color, var(--theme-code-foreground, var(--jp-content-font-color1, black)));\n",
       "  --sklearn-color-background: var(--sg-background-color, var(--theme-background, var(--jp-layout-color0, white)));\n",
       "  --sklearn-color-border-box: var(--sg-text-color, var(--theme-code-foreground, var(--jp-content-font-color1, black)));\n",
       "  --sklearn-color-icon: #696969;\n",
       "\n",
       "  @media (prefers-color-scheme: dark) {\n",
       "    /* Redefinition of color scheme for dark theme */\n",
       "    --sklearn-color-text-on-default-background: var(--sg-text-color, var(--theme-code-foreground, var(--jp-content-font-color1, white)));\n",
       "    --sklearn-color-background: var(--sg-background-color, var(--theme-background, var(--jp-layout-color0, #111)));\n",
       "    --sklearn-color-border-box: var(--sg-text-color, var(--theme-code-foreground, var(--jp-content-font-color1, white)));\n",
       "    --sklearn-color-icon: #878787;\n",
       "  }\n",
       "}\n",
       "\n",
       "#sk-container-id-2 {\n",
       "  color: var(--sklearn-color-text);\n",
       "}\n",
       "\n",
       "#sk-container-id-2 pre {\n",
       "  padding: 0;\n",
       "}\n",
       "\n",
       "#sk-container-id-2 input.sk-hidden--visually {\n",
       "  border: 0;\n",
       "  clip: rect(1px 1px 1px 1px);\n",
       "  clip: rect(1px, 1px, 1px, 1px);\n",
       "  height: 1px;\n",
       "  margin: -1px;\n",
       "  overflow: hidden;\n",
       "  padding: 0;\n",
       "  position: absolute;\n",
       "  width: 1px;\n",
       "}\n",
       "\n",
       "#sk-container-id-2 div.sk-dashed-wrapped {\n",
       "  border: 1px dashed var(--sklearn-color-line);\n",
       "  margin: 0 0.4em 0.5em 0.4em;\n",
       "  box-sizing: border-box;\n",
       "  padding-bottom: 0.4em;\n",
       "  background-color: var(--sklearn-color-background);\n",
       "}\n",
       "\n",
       "#sk-container-id-2 div.sk-container {\n",
       "  /* jupyter's `normalize.less` sets `[hidden] { display: none; }`\n",
       "     but bootstrap.min.css set `[hidden] { display: none !important; }`\n",
       "     so we also need the `!important` here to be able to override the\n",
       "     default hidden behavior on the sphinx rendered scikit-learn.org.\n",
       "     See: https://github.com/scikit-learn/scikit-learn/issues/21755 */\n",
       "  display: inline-block !important;\n",
       "  position: relative;\n",
       "}\n",
       "\n",
       "#sk-container-id-2 div.sk-text-repr-fallback {\n",
       "  display: none;\n",
       "}\n",
       "\n",
       "div.sk-parallel-item,\n",
       "div.sk-serial,\n",
       "div.sk-item {\n",
       "  /* draw centered vertical line to link estimators */\n",
       "  background-image: linear-gradient(var(--sklearn-color-text-on-default-background), var(--sklearn-color-text-on-default-background));\n",
       "  background-size: 2px 100%;\n",
       "  background-repeat: no-repeat;\n",
       "  background-position: center center;\n",
       "}\n",
       "\n",
       "/* Parallel-specific style estimator block */\n",
       "\n",
       "#sk-container-id-2 div.sk-parallel-item::after {\n",
       "  content: \"\";\n",
       "  width: 100%;\n",
       "  border-bottom: 2px solid var(--sklearn-color-text-on-default-background);\n",
       "  flex-grow: 1;\n",
       "}\n",
       "\n",
       "#sk-container-id-2 div.sk-parallel {\n",
       "  display: flex;\n",
       "  align-items: stretch;\n",
       "  justify-content: center;\n",
       "  background-color: var(--sklearn-color-background);\n",
       "  position: relative;\n",
       "}\n",
       "\n",
       "#sk-container-id-2 div.sk-parallel-item {\n",
       "  display: flex;\n",
       "  flex-direction: column;\n",
       "}\n",
       "\n",
       "#sk-container-id-2 div.sk-parallel-item:first-child::after {\n",
       "  align-self: flex-end;\n",
       "  width: 50%;\n",
       "}\n",
       "\n",
       "#sk-container-id-2 div.sk-parallel-item:last-child::after {\n",
       "  align-self: flex-start;\n",
       "  width: 50%;\n",
       "}\n",
       "\n",
       "#sk-container-id-2 div.sk-parallel-item:only-child::after {\n",
       "  width: 0;\n",
       "}\n",
       "\n",
       "/* Serial-specific style estimator block */\n",
       "\n",
       "#sk-container-id-2 div.sk-serial {\n",
       "  display: flex;\n",
       "  flex-direction: column;\n",
       "  align-items: center;\n",
       "  background-color: var(--sklearn-color-background);\n",
       "  padding-right: 1em;\n",
       "  padding-left: 1em;\n",
       "}\n",
       "\n",
       "\n",
       "/* Toggleable style: style used for estimator/Pipeline/ColumnTransformer box that is\n",
       "clickable and can be expanded/collapsed.\n",
       "- Pipeline and ColumnTransformer use this feature and define the default style\n",
       "- Estimators will overwrite some part of the style using the `sk-estimator` class\n",
       "*/\n",
       "\n",
       "/* Pipeline and ColumnTransformer style (default) */\n",
       "\n",
       "#sk-container-id-2 div.sk-toggleable {\n",
       "  /* Default theme specific background. It is overwritten whether we have a\n",
       "  specific estimator or a Pipeline/ColumnTransformer */\n",
       "  background-color: var(--sklearn-color-background);\n",
       "}\n",
       "\n",
       "/* Toggleable label */\n",
       "#sk-container-id-2 label.sk-toggleable__label {\n",
       "  cursor: pointer;\n",
       "  display: flex;\n",
       "  width: 100%;\n",
       "  margin-bottom: 0;\n",
       "  padding: 0.5em;\n",
       "  box-sizing: border-box;\n",
       "  text-align: center;\n",
       "  align-items: start;\n",
       "  justify-content: space-between;\n",
       "  gap: 0.5em;\n",
       "}\n",
       "\n",
       "#sk-container-id-2 label.sk-toggleable__label .caption {\n",
       "  font-size: 0.6rem;\n",
       "  font-weight: lighter;\n",
       "  color: var(--sklearn-color-text-muted);\n",
       "}\n",
       "\n",
       "#sk-container-id-2 label.sk-toggleable__label-arrow:before {\n",
       "  /* Arrow on the left of the label */\n",
       "  content: \"▸\";\n",
       "  float: left;\n",
       "  margin-right: 0.25em;\n",
       "  color: var(--sklearn-color-icon);\n",
       "}\n",
       "\n",
       "#sk-container-id-2 label.sk-toggleable__label-arrow:hover:before {\n",
       "  color: var(--sklearn-color-text);\n",
       "}\n",
       "\n",
       "/* Toggleable content - dropdown */\n",
       "\n",
       "#sk-container-id-2 div.sk-toggleable__content {\n",
       "  max-height: 0;\n",
       "  max-width: 0;\n",
       "  overflow: hidden;\n",
       "  text-align: left;\n",
       "  /* unfitted */\n",
       "  background-color: var(--sklearn-color-unfitted-level-0);\n",
       "}\n",
       "\n",
       "#sk-container-id-2 div.sk-toggleable__content.fitted {\n",
       "  /* fitted */\n",
       "  background-color: var(--sklearn-color-fitted-level-0);\n",
       "}\n",
       "\n",
       "#sk-container-id-2 div.sk-toggleable__content pre {\n",
       "  margin: 0.2em;\n",
       "  border-radius: 0.25em;\n",
       "  color: var(--sklearn-color-text);\n",
       "  /* unfitted */\n",
       "  background-color: var(--sklearn-color-unfitted-level-0);\n",
       "}\n",
       "\n",
       "#sk-container-id-2 div.sk-toggleable__content.fitted pre {\n",
       "  /* unfitted */\n",
       "  background-color: var(--sklearn-color-fitted-level-0);\n",
       "}\n",
       "\n",
       "#sk-container-id-2 input.sk-toggleable__control:checked~div.sk-toggleable__content {\n",
       "  /* Expand drop-down */\n",
       "  max-height: 200px;\n",
       "  max-width: 100%;\n",
       "  overflow: auto;\n",
       "}\n",
       "\n",
       "#sk-container-id-2 input.sk-toggleable__control:checked~label.sk-toggleable__label-arrow:before {\n",
       "  content: \"▾\";\n",
       "}\n",
       "\n",
       "/* Pipeline/ColumnTransformer-specific style */\n",
       "\n",
       "#sk-container-id-2 div.sk-label input.sk-toggleable__control:checked~label.sk-toggleable__label {\n",
       "  color: var(--sklearn-color-text);\n",
       "  background-color: var(--sklearn-color-unfitted-level-2);\n",
       "}\n",
       "\n",
       "#sk-container-id-2 div.sk-label.fitted input.sk-toggleable__control:checked~label.sk-toggleable__label {\n",
       "  background-color: var(--sklearn-color-fitted-level-2);\n",
       "}\n",
       "\n",
       "/* Estimator-specific style */\n",
       "\n",
       "/* Colorize estimator box */\n",
       "#sk-container-id-2 div.sk-estimator input.sk-toggleable__control:checked~label.sk-toggleable__label {\n",
       "  /* unfitted */\n",
       "  background-color: var(--sklearn-color-unfitted-level-2);\n",
       "}\n",
       "\n",
       "#sk-container-id-2 div.sk-estimator.fitted input.sk-toggleable__control:checked~label.sk-toggleable__label {\n",
       "  /* fitted */\n",
       "  background-color: var(--sklearn-color-fitted-level-2);\n",
       "}\n",
       "\n",
       "#sk-container-id-2 div.sk-label label.sk-toggleable__label,\n",
       "#sk-container-id-2 div.sk-label label {\n",
       "  /* The background is the default theme color */\n",
       "  color: var(--sklearn-color-text-on-default-background);\n",
       "}\n",
       "\n",
       "/* On hover, darken the color of the background */\n",
       "#sk-container-id-2 div.sk-label:hover label.sk-toggleable__label {\n",
       "  color: var(--sklearn-color-text);\n",
       "  background-color: var(--sklearn-color-unfitted-level-2);\n",
       "}\n",
       "\n",
       "/* Label box, darken color on hover, fitted */\n",
       "#sk-container-id-2 div.sk-label.fitted:hover label.sk-toggleable__label.fitted {\n",
       "  color: var(--sklearn-color-text);\n",
       "  background-color: var(--sklearn-color-fitted-level-2);\n",
       "}\n",
       "\n",
       "/* Estimator label */\n",
       "\n",
       "#sk-container-id-2 div.sk-label label {\n",
       "  font-family: monospace;\n",
       "  font-weight: bold;\n",
       "  display: inline-block;\n",
       "  line-height: 1.2em;\n",
       "}\n",
       "\n",
       "#sk-container-id-2 div.sk-label-container {\n",
       "  text-align: center;\n",
       "}\n",
       "\n",
       "/* Estimator-specific */\n",
       "#sk-container-id-2 div.sk-estimator {\n",
       "  font-family: monospace;\n",
       "  border: 1px dotted var(--sklearn-color-border-box);\n",
       "  border-radius: 0.25em;\n",
       "  box-sizing: border-box;\n",
       "  margin-bottom: 0.5em;\n",
       "  /* unfitted */\n",
       "  background-color: var(--sklearn-color-unfitted-level-0);\n",
       "}\n",
       "\n",
       "#sk-container-id-2 div.sk-estimator.fitted {\n",
       "  /* fitted */\n",
       "  background-color: var(--sklearn-color-fitted-level-0);\n",
       "}\n",
       "\n",
       "/* on hover */\n",
       "#sk-container-id-2 div.sk-estimator:hover {\n",
       "  /* unfitted */\n",
       "  background-color: var(--sklearn-color-unfitted-level-2);\n",
       "}\n",
       "\n",
       "#sk-container-id-2 div.sk-estimator.fitted:hover {\n",
       "  /* fitted */\n",
       "  background-color: var(--sklearn-color-fitted-level-2);\n",
       "}\n",
       "\n",
       "/* Specification for estimator info (e.g. \"i\" and \"?\") */\n",
       "\n",
       "/* Common style for \"i\" and \"?\" */\n",
       "\n",
       ".sk-estimator-doc-link,\n",
       "a:link.sk-estimator-doc-link,\n",
       "a:visited.sk-estimator-doc-link {\n",
       "  float: right;\n",
       "  font-size: smaller;\n",
       "  line-height: 1em;\n",
       "  font-family: monospace;\n",
       "  background-color: var(--sklearn-color-background);\n",
       "  border-radius: 1em;\n",
       "  height: 1em;\n",
       "  width: 1em;\n",
       "  text-decoration: none !important;\n",
       "  margin-left: 0.5em;\n",
       "  text-align: center;\n",
       "  /* unfitted */\n",
       "  border: var(--sklearn-color-unfitted-level-1) 1pt solid;\n",
       "  color: var(--sklearn-color-unfitted-level-1);\n",
       "}\n",
       "\n",
       ".sk-estimator-doc-link.fitted,\n",
       "a:link.sk-estimator-doc-link.fitted,\n",
       "a:visited.sk-estimator-doc-link.fitted {\n",
       "  /* fitted */\n",
       "  border: var(--sklearn-color-fitted-level-1) 1pt solid;\n",
       "  color: var(--sklearn-color-fitted-level-1);\n",
       "}\n",
       "\n",
       "/* On hover */\n",
       "div.sk-estimator:hover .sk-estimator-doc-link:hover,\n",
       ".sk-estimator-doc-link:hover,\n",
       "div.sk-label-container:hover .sk-estimator-doc-link:hover,\n",
       ".sk-estimator-doc-link:hover {\n",
       "  /* unfitted */\n",
       "  background-color: var(--sklearn-color-unfitted-level-3);\n",
       "  color: var(--sklearn-color-background);\n",
       "  text-decoration: none;\n",
       "}\n",
       "\n",
       "div.sk-estimator.fitted:hover .sk-estimator-doc-link.fitted:hover,\n",
       ".sk-estimator-doc-link.fitted:hover,\n",
       "div.sk-label-container:hover .sk-estimator-doc-link.fitted:hover,\n",
       ".sk-estimator-doc-link.fitted:hover {\n",
       "  /* fitted */\n",
       "  background-color: var(--sklearn-color-fitted-level-3);\n",
       "  color: var(--sklearn-color-background);\n",
       "  text-decoration: none;\n",
       "}\n",
       "\n",
       "/* Span, style for the box shown on hovering the info icon */\n",
       ".sk-estimator-doc-link span {\n",
       "  display: none;\n",
       "  z-index: 9999;\n",
       "  position: relative;\n",
       "  font-weight: normal;\n",
       "  right: .2ex;\n",
       "  padding: .5ex;\n",
       "  margin: .5ex;\n",
       "  width: min-content;\n",
       "  min-width: 20ex;\n",
       "  max-width: 50ex;\n",
       "  color: var(--sklearn-color-text);\n",
       "  box-shadow: 2pt 2pt 4pt #999;\n",
       "  /* unfitted */\n",
       "  background: var(--sklearn-color-unfitted-level-0);\n",
       "  border: .5pt solid var(--sklearn-color-unfitted-level-3);\n",
       "}\n",
       "\n",
       ".sk-estimator-doc-link.fitted span {\n",
       "  /* fitted */\n",
       "  background: var(--sklearn-color-fitted-level-0);\n",
       "  border: var(--sklearn-color-fitted-level-3);\n",
       "}\n",
       "\n",
       ".sk-estimator-doc-link:hover span {\n",
       "  display: block;\n",
       "}\n",
       "\n",
       "/* \"?\"-specific style due to the `<a>` HTML tag */\n",
       "\n",
       "#sk-container-id-2 a.estimator_doc_link {\n",
       "  float: right;\n",
       "  font-size: 1rem;\n",
       "  line-height: 1em;\n",
       "  font-family: monospace;\n",
       "  background-color: var(--sklearn-color-background);\n",
       "  border-radius: 1rem;\n",
       "  height: 1rem;\n",
       "  width: 1rem;\n",
       "  text-decoration: none;\n",
       "  /* unfitted */\n",
       "  color: var(--sklearn-color-unfitted-level-1);\n",
       "  border: var(--sklearn-color-unfitted-level-1) 1pt solid;\n",
       "}\n",
       "\n",
       "#sk-container-id-2 a.estimator_doc_link.fitted {\n",
       "  /* fitted */\n",
       "  border: var(--sklearn-color-fitted-level-1) 1pt solid;\n",
       "  color: var(--sklearn-color-fitted-level-1);\n",
       "}\n",
       "\n",
       "/* On hover */\n",
       "#sk-container-id-2 a.estimator_doc_link:hover {\n",
       "  /* unfitted */\n",
       "  background-color: var(--sklearn-color-unfitted-level-3);\n",
       "  color: var(--sklearn-color-background);\n",
       "  text-decoration: none;\n",
       "}\n",
       "\n",
       "#sk-container-id-2 a.estimator_doc_link.fitted:hover {\n",
       "  /* fitted */\n",
       "  background-color: var(--sklearn-color-fitted-level-3);\n",
       "}\n",
       "</style><div id=\"sk-container-id-2\" class=\"sk-top-container\"><div class=\"sk-text-repr-fallback\"><pre>LinearRegression()</pre><b>In a Jupyter environment, please rerun this cell to show the HTML representation or trust the notebook. <br />On GitHub, the HTML representation is unable to render, please try loading this page with nbviewer.org.</b></div><div class=\"sk-container\" hidden><div class=\"sk-item\"><div class=\"sk-estimator fitted sk-toggleable\"><input class=\"sk-toggleable__control sk-hidden--visually\" id=\"sk-estimator-id-2\" type=\"checkbox\" checked><label for=\"sk-estimator-id-2\" class=\"sk-toggleable__label fitted sk-toggleable__label-arrow\"><div><div>LinearRegression</div></div><div><a class=\"sk-estimator-doc-link fitted\" rel=\"noreferrer\" target=\"_blank\" href=\"https://scikit-learn.org/1.6/modules/generated/sklearn.linear_model.LinearRegression.html\">?<span>Documentation for LinearRegression</span></a><span class=\"sk-estimator-doc-link fitted\">i<span>Fitted</span></span></div></label><div class=\"sk-toggleable__content fitted\"><pre>LinearRegression()</pre></div> </div></div></div></div>"
      ],
      "text/plain": [
       "LinearRegression()"
      ]
     },
     "execution_count": 65,
     "metadata": {},
     "output_type": "execute_result"
    }
   ],
   "source": [
    "model2 = LinearRegression()\n",
    "model2.fit(X_trainPoly,Y_train)\n"
   ]
  },
  {
   "cell_type": "code",
   "execution_count": 66,
   "metadata": {},
   "outputs": [],
   "source": [
    "y_trainPredPoly = model2.predict(X_trainPoly)\n",
    "y_testPredPoly = model2.predict(X_testPoly)"
   ]
  },
  {
   "cell_type": "code",
   "execution_count": 67,
   "metadata": {},
   "outputs": [
    {
     "name": "stdout",
     "output_type": "stream",
     "text": [
      "MAE Train :- 0.40610646027533764\n",
      "MAE Test :- 0.43280071016206667\n",
      "\n",
      "R2 Score Train 0.7344970107242584\n",
      "R2 Score Test 0.7048792454907635\n"
     ]
    }
   ],
   "source": [
    "print('MAE Train :-',mean_absolute_error(Y_train,y_trainPredPoly))\n",
    "print('MAE Test :-',mean_absolute_error(Y_test,y_testPredPoly))\n",
    "\n",
    "print()\n",
    "\n",
    "print('R2 Score Train',r2_score(Y_train,y_trainPredPoly))\n",
    "print('R2 Score Test',r2_score(Y_test,y_testPredPoly))"
   ]
  },
  {
   "cell_type": "code",
   "execution_count": 68,
   "metadata": {},
   "outputs": [
    {
     "data": {
      "image/png": "[encoded data removed]",
      "text/plain": [
       "<Figure size 640x480 with 1 Axes>"
      ]
     },
     "metadata": {},
     "output_type": "display_data"
    }
   ],
   "source": [
    "sns.boxplot(Y_log)\n",
    "plt.show()"
   ]
  },
  {
   "cell_type": "markdown",
   "metadata": {},
   "source": [
    "**Quartiles**"
   ]
  },
  {
   "cell_type": "code",
   "execution_count": 69,
   "metadata": {},
   "outputs": [
    {
     "name": "stdout",
     "output_type": "stream",
     "text": [
      "8.039575496603074 6.726529682585243\n",
      "1.3130458140178316\n"
     ]
    }
   ],
   "source": [
    "q3 = Y_log.quantile(0.75)\n",
    "q1 = Y_log.quantile(0.25)\n",
    "\n",
    "print(q3,q1)\n",
    "iqt = q3-q1\n",
    "\n",
    "print(iqt)"
   ]
  },
  {
   "cell_type": "markdown",
   "metadata": {},
   "source": [
    "**Upper Fence and Lower Fence**"
   ]
  },
  {
   "cell_type": "code",
   "execution_count": 70,
   "metadata": {},
   "outputs": [
    {
     "name": "stdout",
     "output_type": "stream",
     "text": [
      "10.00914421762982 4.756960961558495\n"
     ]
    }
   ],
   "source": [
    "upper_limit = q3 + 1.5 * iqt\n",
    "lower_limit = q1 - 1.5 * iqt\n",
    "\n",
    "print(upper_limit,lower_limit)"
   ]
  },
  {
   "cell_type": "markdown",
   "metadata": {},
   "source": [
    "**Total Outlayers**"
   ]
  },
  {
   "cell_type": "code",
   "execution_count": 71,
   "metadata": {},
   "outputs": [
    {
     "data": {
      "text/plain": [
       "174"
      ]
     },
     "execution_count": 71,
     "metadata": {},
     "output_type": "execute_result"
    }
   ],
   "source": [
    "((Y_log >= upper_limit) | (Y_log<= lower_limit)).sum()"
   ]
  },
  {
   "cell_type": "code",
   "execution_count": 72,
   "metadata": {},
   "outputs": [
    {
     "data": {
      "text/plain": [
       "0.020415346708905314"
      ]
     },
     "execution_count": 72,
     "metadata": {},
     "output_type": "execute_result"
    }
   ],
   "source": [
    "((Y_log >= upper_limit) | (Y_log<= lower_limit)).sum()/len(Y_log)"
   ]
  },
  {
   "cell_type": "code",
   "execution_count": 73,
   "metadata": {},
   "outputs": [
    {
     "data": {
      "text/plain": [
       "2.0415346708905315"
      ]
     },
     "execution_count": 73,
     "metadata": {},
     "output_type": "execute_result"
    }
   ],
   "source": [
    "(((Y_log >= upper_limit) | (Y_log<= lower_limit)).sum()/len(Y_log))*100"
   ]
  },
  {
   "cell_type": "code",
   "execution_count": 74,
   "metadata": {},
   "outputs": [],
   "source": [
    "new_Y_log = Y_log[~((Y_log >= upper_limit) | (Y_log<= lower_limit))]\n",
    "new_X = X[~((Y_log >= upper_limit) | (Y_log<= lower_limit))]"
   ]
  },
  {
   "cell_type": "markdown",
   "metadata": {},
   "source": [
    "**Applying Linear Regression after removing Outlayers**"
   ]
  },
  {
   "cell_type": "code",
   "execution_count": 75,
   "metadata": {},
   "outputs": [
    {
     "data": {
      "text/html": [
       "<style>#sk-container-id-3 {\n",
       "  /* Definition of color scheme common for light and dark mode */\n",
       "  --sklearn-color-text: #000;\n",
       "  --sklearn-color-text-muted: #666;\n",
       "  --sklearn-color-line: gray;\n",
       "  /* Definition of color scheme for unfitted estimators */\n",
       "  --sklearn-color-unfitted-level-0: #fff5e6;\n",
       "  --sklearn-color-unfitted-level-1: #f6e4d2;\n",
       "  --sklearn-color-unfitted-level-2: #ffe0b3;\n",
       "  --sklearn-color-unfitted-level-3: chocolate;\n",
       "  /* Definition of color scheme for fitted estimators */\n",
       "  --sklearn-color-fitted-level-0: #f0f8ff;\n",
       "  --sklearn-color-fitted-level-1: #d4ebff;\n",
       "  --sklearn-color-fitted-level-2: #b3dbfd;\n",
       "  --sklearn-color-fitted-level-3: cornflowerblue;\n",
       "\n",
       "  /* Specific color for light theme */\n",
       "  --sklearn-color-text-on-default-background: var(--sg-text-color, var(--theme-code-foreground, var(--jp-content-font-color1, black)));\n",
       "  --sklearn-color-background: var(--sg-background-color, var(--theme-background, var(--jp-layout-color0, white)));\n",
       "  --sklearn-color-border-box: var(--sg-text-color, var(--theme-code-foreground, var(--jp-content-font-color1, black)));\n",
       "  --sklearn-color-icon: #696969;\n",
       "\n",
       "  @media (prefers-color-scheme: dark) {\n",
       "    /* Redefinition of color scheme for dark theme */\n",
       "    --sklearn-color-text-on-default-background: var(--sg-text-color, var(--theme-code-foreground, var(--jp-content-font-color1, white)));\n",
       "    --sklearn-color-background: var(--sg-background-color, var(--theme-background, var(--jp-layout-color0, #111)));\n",
       "    --sklearn-color-border-box: var(--sg-text-color, var(--theme-code-foreground, var(--jp-content-font-color1, white)));\n",
       "    --sklearn-color-icon: #878787;\n",
       "  }\n",
       "}\n",
       "\n",
       "#sk-container-id-3 {\n",
       "  color: var(--sklearn-color-text);\n",
       "}\n",
       "\n",
       "#sk-container-id-3 pre {\n",
       "  padding: 0;\n",
       "}\n",
       "\n",
       "#sk-container-id-3 input.sk-hidden--visually {\n",
       "  border: 0;\n",
       "  clip: rect(1px 1px 1px 1px);\n",
       "  clip: rect(1px, 1px, 1px, 1px);\n",
       "  height: 1px;\n",
       "  margin: -1px;\n",
       "  overflow: hidden;\n",
       "  padding: 0;\n",
       "  position: absolute;\n",
       "  width: 1px;\n",
       "}\n",
       "\n",
       "#sk-container-id-3 div.sk-dashed-wrapped {\n",
       "  border: 1px dashed var(--sklearn-color-line);\n",
       "  margin: 0 0.4em 0.5em 0.4em;\n",
       "  box-sizing: border-box;\n",
       "  padding-bottom: 0.4em;\n",
       "  background-color: var(--sklearn-color-background);\n",
       "}\n",
       "\n",
       "#sk-container-id-3 div.sk-container {\n",
       "  /* jupyter's `normalize.less` sets `[hidden] { display: none; }`\n",
       "     but bootstrap.min.css set `[hidden] { display: none !important; }`\n",
       "     so we also need the `!important` here to be able to override the\n",
       "     default hidden behavior on the sphinx rendered scikit-learn.org.\n",
       "     See: https://github.com/scikit-learn/scikit-learn/issues/21755 */\n",
       "  display: inline-block !important;\n",
       "  position: relative;\n",
       "}\n",
       "\n",
       "#sk-container-id-3 div.sk-text-repr-fallback {\n",
       "  display: none;\n",
       "}\n",
       "\n",
       "div.sk-parallel-item,\n",
       "div.sk-serial,\n",
       "div.sk-item {\n",
       "  /* draw centered vertical line to link estimators */\n",
       "  background-image: linear-gradient(var(--sklearn-color-text-on-default-background), var(--sklearn-color-text-on-default-background));\n",
       "  background-size: 2px 100%;\n",
       "  background-repeat: no-repeat;\n",
       "  background-position: center center;\n",
       "}\n",
       "\n",
       "/* Parallel-specific style estimator block */\n",
       "\n",
       "#sk-container-id-3 div.sk-parallel-item::after {\n",
       "  content: \"\";\n",
       "  width: 100%;\n",
       "  border-bottom: 2px solid var(--sklearn-color-text-on-default-background);\n",
       "  flex-grow: 1;\n",
       "}\n",
       "\n",
       "#sk-container-id-3 div.sk-parallel {\n",
       "  display: flex;\n",
       "  align-items: stretch;\n",
       "  justify-content: center;\n",
       "  background-color: var(--sklearn-color-background);\n",
       "  position: relative;\n",
       "}\n",
       "\n",
       "#sk-container-id-3 div.sk-parallel-item {\n",
       "  display: flex;\n",
       "  flex-direction: column;\n",
       "}\n",
       "\n",
       "#sk-container-id-3 div.sk-parallel-item:first-child::after {\n",
       "  align-self: flex-end;\n",
       "  width: 50%;\n",
       "}\n",
       "\n",
       "#sk-container-id-3 div.sk-parallel-item:last-child::after {\n",
       "  align-self: flex-start;\n",
       "  width: 50%;\n",
       "}\n",
       "\n",
       "#sk-container-id-3 div.sk-parallel-item:only-child::after {\n",
       "  width: 0;\n",
       "}\n",
       "\n",
       "/* Serial-specific style estimator block */\n",
       "\n",
       "#sk-container-id-3 div.sk-serial {\n",
       "  display: flex;\n",
       "  flex-direction: column;\n",
       "  align-items: center;\n",
       "  background-color: var(--sklearn-color-background);\n",
       "  padding-right: 1em;\n",
       "  padding-left: 1em;\n",
       "}\n",
       "\n",
       "\n",
       "/* Toggleable style: style used for estimator/Pipeline/ColumnTransformer box that is\n",
       "clickable and can be expanded/collapsed.\n",
       "- Pipeline and ColumnTransformer use this feature and define the default style\n",
       "- Estimators will overwrite some part of the style using the `sk-estimator` class\n",
       "*/\n",
       "\n",
       "/* Pipeline and ColumnTransformer style (default) */\n",
       "\n",
       "#sk-container-id-3 div.sk-toggleable {\n",
       "  /* Default theme specific background. It is overwritten whether we have a\n",
       "  specific estimator or a Pipeline/ColumnTransformer */\n",
       "  background-color: var(--sklearn-color-background);\n",
       "}\n",
       "\n",
       "/* Toggleable label */\n",
       "#sk-container-id-3 label.sk-toggleable__label {\n",
       "  cursor: pointer;\n",
       "  display: flex;\n",
       "  width: 100%;\n",
       "  margin-bottom: 0;\n",
       "  padding: 0.5em;\n",
       "  box-sizing: border-box;\n",
       "  text-align: center;\n",
       "  align-items: start;\n",
       "  justify-content: space-between;\n",
       "  gap: 0.5em;\n",
       "}\n",
       "\n",
       "#sk-container-id-3 label.sk-toggleable__label .caption {\n",
       "  font-size: 0.6rem;\n",
       "  font-weight: lighter;\n",
       "  color: var(--sklearn-color-text-muted);\n",
       "}\n",
       "\n",
       "#sk-container-id-3 label.sk-toggleable__label-arrow:before {\n",
       "  /* Arrow on the left of the label */\n",
       "  content: \"▸\";\n",
       "  float: left;\n",
       "  margin-right: 0.25em;\n",
       "  color: var(--sklearn-color-icon);\n",
       "}\n",
       "\n",
       "#sk-container-id-3 label.sk-toggleable__label-arrow:hover:before {\n",
       "  color: var(--sklearn-color-text);\n",
       "}\n",
       "\n",
       "/* Toggleable content - dropdown */\n",
       "\n",
       "#sk-container-id-3 div.sk-toggleable__content {\n",
       "  max-height: 0;\n",
       "  max-width: 0;\n",
       "  overflow: hidden;\n",
       "  text-align: left;\n",
       "  /* unfitted */\n",
       "  background-color: var(--sklearn-color-unfitted-level-0);\n",
       "}\n",
       "\n",
       "#sk-container-id-3 div.sk-toggleable__content.fitted {\n",
       "  /* fitted */\n",
       "  background-color: var(--sklearn-color-fitted-level-0);\n",
       "}\n",
       "\n",
       "#sk-container-id-3 div.sk-toggleable__content pre {\n",
       "  margin: 0.2em;\n",
       "  border-radius: 0.25em;\n",
       "  color: var(--sklearn-color-text);\n",
       "  /* unfitted */\n",
       "  background-color: var(--sklearn-color-unfitted-level-0);\n",
       "}\n",
       "\n",
       "#sk-container-id-3 div.sk-toggleable__content.fitted pre {\n",
       "  /* unfitted */\n",
       "  background-color: var(--sklearn-color-fitted-level-0);\n",
       "}\n",
       "\n",
       "#sk-container-id-3 input.sk-toggleable__control:checked~div.sk-toggleable__content {\n",
       "  /* Expand drop-down */\n",
       "  max-height: 200px;\n",
       "  max-width: 100%;\n",
       "  overflow: auto;\n",
       "}\n",
       "\n",
       "#sk-container-id-3 input.sk-toggleable__control:checked~label.sk-toggleable__label-arrow:before {\n",
       "  content: \"▾\";\n",
       "}\n",
       "\n",
       "/* Pipeline/ColumnTransformer-specific style */\n",
       "\n",
       "#sk-container-id-3 div.sk-label input.sk-toggleable__control:checked~label.sk-toggleable__label {\n",
       "  color: var(--sklearn-color-text);\n",
       "  background-color: var(--sklearn-color-unfitted-level-2);\n",
       "}\n",
       "\n",
       "#sk-container-id-3 div.sk-label.fitted input.sk-toggleable__control:checked~label.sk-toggleable__label {\n",
       "  background-color: var(--sklearn-color-fitted-level-2);\n",
       "}\n",
       "\n",
       "/* Estimator-specific style */\n",
       "\n",
       "/* Colorize estimator box */\n",
       "#sk-container-id-3 div.sk-estimator input.sk-toggleable__control:checked~label.sk-toggleable__label {\n",
       "  /* unfitted */\n",
       "  background-color: var(--sklearn-color-unfitted-level-2);\n",
       "}\n",
       "\n",
       "#sk-container-id-3 div.sk-estimator.fitted input.sk-toggleable__control:checked~label.sk-toggleable__label {\n",
       "  /* fitted */\n",
       "  background-color: var(--sklearn-color-fitted-level-2);\n",
       "}\n",
       "\n",
       "#sk-container-id-3 div.sk-label label.sk-toggleable__label,\n",
       "#sk-container-id-3 div.sk-label label {\n",
       "  /* The background is the default theme color */\n",
       "  color: var(--sklearn-color-text-on-default-background);\n",
       "}\n",
       "\n",
       "/* On hover, darken the color of the background */\n",
       "#sk-container-id-3 div.sk-label:hover label.sk-toggleable__label {\n",
       "  color: var(--sklearn-color-text);\n",
       "  background-color: var(--sklearn-color-unfitted-level-2);\n",
       "}\n",
       "\n",
       "/* Label box, darken color on hover, fitted */\n",
       "#sk-container-id-3 div.sk-label.fitted:hover label.sk-toggleable__label.fitted {\n",
       "  color: var(--sklearn-color-text);\n",
       "  background-color: var(--sklearn-color-fitted-level-2);\n",
       "}\n",
       "\n",
       "/* Estimator label */\n",
       "\n",
       "#sk-container-id-3 div.sk-label label {\n",
       "  font-family: monospace;\n",
       "  font-weight: bold;\n",
       "  display: inline-block;\n",
       "  line-height: 1.2em;\n",
       "}\n",
       "\n",
       "#sk-container-id-3 div.sk-label-container {\n",
       "  text-align: center;\n",
       "}\n",
       "\n",
       "/* Estimator-specific */\n",
       "#sk-container-id-3 div.sk-estimator {\n",
       "  font-family: monospace;\n",
       "  border: 1px dotted var(--sklearn-color-border-box);\n",
       "  border-radius: 0.25em;\n",
       "  box-sizing: border-box;\n",
       "  margin-bottom: 0.5em;\n",
       "  /* unfitted */\n",
       "  background-color: var(--sklearn-color-unfitted-level-0);\n",
       "}\n",
       "\n",
       "#sk-container-id-3 div.sk-estimator.fitted {\n",
       "  /* fitted */\n",
       "  background-color: var(--sklearn-color-fitted-level-0);\n",
       "}\n",
       "\n",
       "/* on hover */\n",
       "#sk-container-id-3 div.sk-estimator:hover {\n",
       "  /* unfitted */\n",
       "  background-color: var(--sklearn-color-unfitted-level-2);\n",
       "}\n",
       "\n",
       "#sk-container-id-3 div.sk-estimator.fitted:hover {\n",
       "  /* fitted */\n",
       "  background-color: var(--sklearn-color-fitted-level-2);\n",
       "}\n",
       "\n",
       "/* Specification for estimator info (e.g. \"i\" and \"?\") */\n",
       "\n",
       "/* Common style for \"i\" and \"?\" */\n",
       "\n",
       ".sk-estimator-doc-link,\n",
       "a:link.sk-estimator-doc-link,\n",
       "a:visited.sk-estimator-doc-link {\n",
       "  float: right;\n",
       "  font-size: smaller;\n",
       "  line-height: 1em;\n",
       "  font-family: monospace;\n",
       "  background-color: var(--sklearn-color-background);\n",
       "  border-radius: 1em;\n",
       "  height: 1em;\n",
       "  width: 1em;\n",
       "  text-decoration: none !important;\n",
       "  margin-left: 0.5em;\n",
       "  text-align: center;\n",
       "  /* unfitted */\n",
       "  border: var(--sklearn-color-unfitted-level-1) 1pt solid;\n",
       "  color: var(--sklearn-color-unfitted-level-1);\n",
       "}\n",
       "\n",
       ".sk-estimator-doc-link.fitted,\n",
       "a:link.sk-estimator-doc-link.fitted,\n",
       "a:visited.sk-estimator-doc-link.fitted {\n",
       "  /* fitted */\n",
       "  border: var(--sklearn-color-fitted-level-1) 1pt solid;\n",
       "  color: var(--sklearn-color-fitted-level-1);\n",
       "}\n",
       "\n",
       "/* On hover */\n",
       "div.sk-estimator:hover .sk-estimator-doc-link:hover,\n",
       ".sk-estimator-doc-link:hover,\n",
       "div.sk-label-container:hover .sk-estimator-doc-link:hover,\n",
       ".sk-estimator-doc-link:hover {\n",
       "  /* unfitted */\n",
       "  background-color: var(--sklearn-color-unfitted-level-3);\n",
       "  color: var(--sklearn-color-background);\n",
       "  text-decoration: none;\n",
       "}\n",
       "\n",
       "div.sk-estimator.fitted:hover .sk-estimator-doc-link.fitted:hover,\n",
       ".sk-estimator-doc-link.fitted:hover,\n",
       "div.sk-label-container:hover .sk-estimator-doc-link.fitted:hover,\n",
       ".sk-estimator-doc-link.fitted:hover {\n",
       "  /* fitted */\n",
       "  background-color: var(--sklearn-color-fitted-level-3);\n",
       "  color: var(--sklearn-color-background);\n",
       "  text-decoration: none;\n",
       "}\n",
       "\n",
       "/* Span, style for the box shown on hovering the info icon */\n",
       ".sk-estimator-doc-link span {\n",
       "  display: none;\n",
       "  z-index: 9999;\n",
       "  position: relative;\n",
       "  font-weight: normal;\n",
       "  right: .2ex;\n",
       "  padding: .5ex;\n",
       "  margin: .5ex;\n",
       "  width: min-content;\n",
       "  min-width: 20ex;\n",
       "  max-width: 50ex;\n",
       "  color: var(--sklearn-color-text);\n",
       "  box-shadow: 2pt 2pt 4pt #999;\n",
       "  /* unfitted */\n",
       "  background: var(--sklearn-color-unfitted-level-0);\n",
       "  border: .5pt solid var(--sklearn-color-unfitted-level-3);\n",
       "}\n",
       "\n",
       ".sk-estimator-doc-link.fitted span {\n",
       "  /* fitted */\n",
       "  background: var(--sklearn-color-fitted-level-0);\n",
       "  border: var(--sklearn-color-fitted-level-3);\n",
       "}\n",
       "\n",
       ".sk-estimator-doc-link:hover span {\n",
       "  display: block;\n",
       "}\n",
       "\n",
       "/* \"?\"-specific style due to the `<a>` HTML tag */\n",
       "\n",
       "#sk-container-id-3 a.estimator_doc_link {\n",
       "  float: right;\n",
       "  font-size: 1rem;\n",
       "  line-height: 1em;\n",
       "  font-family: monospace;\n",
       "  background-color: var(--sklearn-color-background);\n",
       "  border-radius: 1rem;\n",
       "  height: 1rem;\n",
       "  width: 1rem;\n",
       "  text-decoration: none;\n",
       "  /* unfitted */\n",
       "  color: var(--sklearn-color-unfitted-level-1);\n",
       "  border: var(--sklearn-color-unfitted-level-1) 1pt solid;\n",
       "}\n",
       "\n",
       "#sk-container-id-3 a.estimator_doc_link.fitted {\n",
       "  /* fitted */\n",
       "  border: var(--sklearn-color-fitted-level-1) 1pt solid;\n",
       "  color: var(--sklearn-color-fitted-level-1);\n",
       "}\n",
       "\n",
       "/* On hover */\n",
       "#sk-container-id-3 a.estimator_doc_link:hover {\n",
       "  /* unfitted */\n",
       "  background-color: var(--sklearn-color-unfitted-level-3);\n",
       "  color: var(--sklearn-color-background);\n",
       "  text-decoration: none;\n",
       "}\n",
       "\n",
       "#sk-container-id-3 a.estimator_doc_link.fitted:hover {\n",
       "  /* fitted */\n",
       "  background-color: var(--sklearn-color-fitted-level-3);\n",
       "}\n",
       "</style><div id=\"sk-container-id-3\" class=\"sk-top-container\"><div class=\"sk-text-repr-fallback\"><pre>LinearRegression()</pre><b>In a Jupyter environment, please rerun this cell to show the HTML representation or trust the notebook. <br />On GitHub, the HTML representation is unable to render, please try loading this page with nbviewer.org.</b></div><div class=\"sk-container\" hidden><div class=\"sk-item\"><div class=\"sk-estimator fitted sk-toggleable\"><input class=\"sk-toggleable__control sk-hidden--visually\" id=\"sk-estimator-id-3\" type=\"checkbox\" checked><label for=\"sk-estimator-id-3\" class=\"sk-toggleable__label fitted sk-toggleable__label-arrow\"><div><div>LinearRegression</div></div><div><a class=\"sk-estimator-doc-link fitted\" rel=\"noreferrer\" target=\"_blank\" href=\"https://scikit-learn.org/1.6/modules/generated/sklearn.linear_model.LinearRegression.html\">?<span>Documentation for LinearRegression</span></a><span class=\"sk-estimator-doc-link fitted\">i<span>Fitted</span></span></div></label><div class=\"sk-toggleable__content fitted\"><pre>LinearRegression()</pre></div> </div></div></div></div>"
      ],
      "text/plain": [
       "LinearRegression()"
      ]
     },
     "execution_count": 75,
     "metadata": {},
     "output_type": "execute_result"
    }
   ],
   "source": [
    "from sklearn.model_selection import train_test_split\n",
    "from sklearn.linear_model import LinearRegression\n",
    "\n",
    "X_train3,X_test3,Y_train3,Y_test3 = train_test_split(new_X,new_Y_log,train_size=0.8,random_state=0)\n",
    "\n",
    "model3 = LinearRegression()\n",
    "model3.fit(X_train3,Y_train3)"
   ]
  },
  {
   "cell_type": "code",
   "execution_count": 76,
   "metadata": {},
   "outputs": [],
   "source": [
    "y_trainPred3 = model3.predict(X_train3)\n",
    "y_testPred3 = model3.predict(X_test3)"
   ]
  },
  {
   "cell_type": "code",
   "execution_count": 77,
   "metadata": {},
   "outputs": [
    {
     "name": "stdout",
     "output_type": "stream",
     "text": [
      "MAE Train :- 0.4969053287407174\n",
      "MAE Test :- 0.5202345980555958\n",
      "\n",
      "R2 Score Train 0.5388211019739176\n",
      "R2 Score Test 0.5068046838553343\n"
     ]
    }
   ],
   "source": [
    "from sklearn.metrics import mean_absolute_error,r2_score\n",
    "\n",
    "print('MAE Train :-',mean_absolute_error(Y_train3,y_trainPred3))\n",
    "print('MAE Test :-',mean_absolute_error(Y_test3,y_testPred3))\n",
    "\n",
    "print()\n",
    "\n",
    "print('R2 Score Train',r2_score(Y_train3,y_trainPred3))\n",
    "print('R2 Score Test',r2_score(Y_test3,y_testPred3))"
   ]
  },
  {
   "cell_type": "markdown",
   "metadata": {},
   "source": [
    "**Making Prediction by models**"
   ]
  },
  {
   "cell_type": "code",
   "execution_count": 78,
   "metadata": {},
   "outputs": [
    {
     "data": {
      "text/plain": [
       "1794.3309999999997"
      ]
     },
     "execution_count": 78,
     "metadata": {},
     "output_type": "execute_result"
    }
   ],
   "source": [
    "np.exp(Y_log.values[151])"
   ]
  },
  {
   "cell_type": "code",
   "execution_count": 79,
   "metadata": {},
   "outputs": [
    {
     "name": "stdout",
     "output_type": "stream",
     "text": [
      "2990.998737950114\n"
     ]
    },
    {
     "name": "stderr",
     "output_type": "stream",
     "text": [
      "c:\\Users\\devza\\AppData\\Local\\Programs\\Python\\Python312\\Lib\\site-packages\\sklearn\\utils\\validation.py:2739: UserWarning: X does not have valid feature names, but LinearRegression was fitted with feature names\n",
      "  warnings.warn(\n"
     ]
    }
   ],
   "source": [
    "print(np.exp(model1.predict([X.values[151]])[0]))"
   ]
  },
  {
   "cell_type": "code",
   "execution_count": 80,
   "metadata": {},
   "outputs": [
    {
     "name": "stdout",
     "output_type": "stream",
     "text": [
      "1902.1466905657755\n"
     ]
    },
    {
     "name": "stderr",
     "output_type": "stream",
     "text": [
      "c:\\Users\\devza\\AppData\\Local\\Programs\\Python\\Python312\\Lib\\site-packages\\sklearn\\utils\\validation.py:2739: UserWarning: X does not have valid feature names, but PolynomialFeatures was fitted with feature names\n",
      "  warnings.warn(\n"
     ]
    }
   ],
   "source": [
    "poly_value = poly.transform([X.values[151]])\n",
    "\n",
    "print(np.exp(model2.predict(poly_value)[0]))"
   ]
  },
  {
   "cell_type": "code",
   "execution_count": null,
   "metadata": {},
   "outputs": [],
   "source": []
  }
 ],
 "metadata": {
  "kernelspec": {
   "display_name": "Python 3",
   "language": "python",
   "name": "python3"
  },
  "language_info": {
   "codemirror_mode": {
    "name": "ipython",
    "version": 3
   },
   "file_extension": ".py",
   "mimetype": "text/x-python",
   "name": "python",
   "nbconvert_exporter": "python",
   "pygments_lexer": "ipython3",
   "version": "3.12.2"
  }
 },
 "nbformat": 4,
 "nbformat_minor": 2
}
